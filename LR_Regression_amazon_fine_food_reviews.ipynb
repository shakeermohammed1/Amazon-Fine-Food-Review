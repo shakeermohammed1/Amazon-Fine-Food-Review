{
  "nbformat": 4,
  "nbformat_minor": 0,
  "metadata": {
    "colab": {
      "name": "LR Regression  amazon fine food reviews.ipynb",
      "provenance": [],
      "collapsed_sections": [],
      "toc_visible": true
    },
    "kernelspec": {
      "name": "python3",
      "display_name": "Python 3"
    },
    "accelerator": "GPU"
  },
  "cells": [
    {
      "cell_type": "markdown",
      "metadata": {
        "id": "rmUxT0r5N0CT"
      },
      "source": [
        ""
      ]
    },
    {
      "cell_type": "markdown",
      "metadata": {
        "id": "vA0CExWT6XGi"
      },
      "source": [
        "# **Amazon Fine Food Review, Sentiment Analysis using Machine Learning technique LOgistic Regression**\r\n",
        "\r\n",
        "About Database- All data in one sqlite database. 568,454 food reviews Amazon users left up to October 2012 Overview- \r\n",
        "1) In this project, we have 568k * 10 size dataset. i.e. 568k rows and 10 columns(features).\r\n",
        "\r\n",
        " 2) In this dataset, we have 10 features which are as follows-\r\n",
        "  i) Id-Row Id\r\n",
        " ii) ProductId- Unique identifier for the product iii) UserId- Unqiue identifier for the user \r\n",
        " iv) ProfileName- Profile name of the user \r\n",
        " v) HelpfulnessNumerator- Number of users who found the review helpful\r\n",
        " vi) HelpfulnessDenominator- Number of users who indicated whether they found the review helpful or not \r\n",
        " vii) Score- Rating between 1 and 5 \r\n",
        " viii) Time- Timestamp for the review \r\n",
        " ix) Summary- Brief summary of the review x) Text- Text of the review\r\n",
        "\r\n",
        " objective of this project is to predict whether given new review is positive or negative."
      ]
    },
    {
      "cell_type": "code",
      "metadata": {
        "id": "y16_c4cuNv0X"
      },
      "source": [
        "import numpy as np\r\n",
        "import pandas as pd\r\n",
        "import matplotlib.pyplot as plt\r\n",
        "from sklearn.metrics import accuracy_score\r\n",
        "from sklearn.model_selection import train_test_split,cross_val_score\r\n",
        "import sqlite3"
      ],
      "execution_count": 1,
      "outputs": []
    },
    {
      "cell_type": "code",
      "metadata": {
        "id": "5kB7YWM5SLLZ"
      },
      "source": [
        "#  read data\r\n",
        "con=sqlite3.connect('/content/drive/MyDrive/amazon data/database.sqlite')"
      ],
      "execution_count": 2,
      "outputs": []
    },
    {
      "cell_type": "code",
      "metadata": {
        "id": "0mB3NBrISerg"
      },
      "source": [
        "# we neglect the review having Score = 3\r\n",
        "filtered_data=pd.read_sql_query(''' SELECT * FROM Reviews WHERE Score!=3''',con)"
      ],
      "execution_count": 3,
      "outputs": []
    },
    {
      "cell_type": "code",
      "metadata": {
        "id": "4JjgM0xmTJgO",
        "colab": {
          "base_uri": "https://localhost:8080/",
          "height": 272
        },
        "outputId": "e78eeb49-c5c9-4826-fc8d-a39713ddb66c"
      },
      "source": [
        "filtered_data.head()"
      ],
      "execution_count": 4,
      "outputs": [
        {
          "output_type": "execute_result",
          "data": {
            "text/html": [
              "<div>\n",
              "<style scoped>\n",
              "    .dataframe tbody tr th:only-of-type {\n",
              "        vertical-align: middle;\n",
              "    }\n",
              "\n",
              "    .dataframe tbody tr th {\n",
              "        vertical-align: top;\n",
              "    }\n",
              "\n",
              "    .dataframe thead th {\n",
              "        text-align: right;\n",
              "    }\n",
              "</style>\n",
              "<table border=\"1\" class=\"dataframe\">\n",
              "  <thead>\n",
              "    <tr style=\"text-align: right;\">\n",
              "      <th></th>\n",
              "      <th>Id</th>\n",
              "      <th>ProductId</th>\n",
              "      <th>UserId</th>\n",
              "      <th>ProfileName</th>\n",
              "      <th>HelpfulnessNumerator</th>\n",
              "      <th>HelpfulnessDenominator</th>\n",
              "      <th>Score</th>\n",
              "      <th>Time</th>\n",
              "      <th>Summary</th>\n",
              "      <th>Text</th>\n",
              "    </tr>\n",
              "  </thead>\n",
              "  <tbody>\n",
              "    <tr>\n",
              "      <th>0</th>\n",
              "      <td>1</td>\n",
              "      <td>B001E4KFG0</td>\n",
              "      <td>A3SGXH7AUHU8GW</td>\n",
              "      <td>delmartian</td>\n",
              "      <td>1</td>\n",
              "      <td>1</td>\n",
              "      <td>5</td>\n",
              "      <td>1303862400</td>\n",
              "      <td>Good Quality Dog Food</td>\n",
              "      <td>I have bought several of the Vitality canned d...</td>\n",
              "    </tr>\n",
              "    <tr>\n",
              "      <th>1</th>\n",
              "      <td>2</td>\n",
              "      <td>B00813GRG4</td>\n",
              "      <td>A1D87F6ZCVE5NK</td>\n",
              "      <td>dll pa</td>\n",
              "      <td>0</td>\n",
              "      <td>0</td>\n",
              "      <td>1</td>\n",
              "      <td>1346976000</td>\n",
              "      <td>Not as Advertised</td>\n",
              "      <td>Product arrived labeled as Jumbo Salted Peanut...</td>\n",
              "    </tr>\n",
              "    <tr>\n",
              "      <th>2</th>\n",
              "      <td>3</td>\n",
              "      <td>B000LQOCH0</td>\n",
              "      <td>ABXLMWJIXXAIN</td>\n",
              "      <td>Natalia Corres \"Natalia Corres\"</td>\n",
              "      <td>1</td>\n",
              "      <td>1</td>\n",
              "      <td>4</td>\n",
              "      <td>1219017600</td>\n",
              "      <td>\"Delight\" says it all</td>\n",
              "      <td>This is a confection that has been around a fe...</td>\n",
              "    </tr>\n",
              "    <tr>\n",
              "      <th>3</th>\n",
              "      <td>4</td>\n",
              "      <td>B000UA0QIQ</td>\n",
              "      <td>A395BORC6FGVXV</td>\n",
              "      <td>Karl</td>\n",
              "      <td>3</td>\n",
              "      <td>3</td>\n",
              "      <td>2</td>\n",
              "      <td>1307923200</td>\n",
              "      <td>Cough Medicine</td>\n",
              "      <td>If you are looking for the secret ingredient i...</td>\n",
              "    </tr>\n",
              "    <tr>\n",
              "      <th>4</th>\n",
              "      <td>5</td>\n",
              "      <td>B006K2ZZ7K</td>\n",
              "      <td>A1UQRSCLF8GW1T</td>\n",
              "      <td>Michael D. Bigham \"M. Wassir\"</td>\n",
              "      <td>0</td>\n",
              "      <td>0</td>\n",
              "      <td>5</td>\n",
              "      <td>1350777600</td>\n",
              "      <td>Great taffy</td>\n",
              "      <td>Great taffy at a great price.  There was a wid...</td>\n",
              "    </tr>\n",
              "  </tbody>\n",
              "</table>\n",
              "</div>"
            ],
            "text/plain": [
              "   Id  ...                                               Text\n",
              "0   1  ...  I have bought several of the Vitality canned d...\n",
              "1   2  ...  Product arrived labeled as Jumbo Salted Peanut...\n",
              "2   3  ...  This is a confection that has been around a fe...\n",
              "3   4  ...  If you are looking for the secret ingredient i...\n",
              "4   5  ...  Great taffy at a great price.  There was a wid...\n",
              "\n",
              "[5 rows x 10 columns]"
            ]
          },
          "metadata": {
            "tags": []
          },
          "execution_count": 4
        }
      ]
    },
    {
      "cell_type": "code",
      "metadata": {
        "id": "MTfbC53bTMF9"
      },
      "source": [
        "def partition(x):\r\n",
        "  if x<3:\r\n",
        "    return 'negetive'\r\n",
        "  return 'positive'"
      ],
      "execution_count": 5,
      "outputs": []
    },
    {
      "cell_type": "code",
      "metadata": {
        "id": "CVUux7X1TzEo"
      },
      "source": [
        "filtered_data['Score']=filtered_data['Score'].map(partition)"
      ],
      "execution_count": 6,
      "outputs": []
    },
    {
      "cell_type": "code",
      "metadata": {
        "id": "IDKTAlaOT9Tj",
        "colab": {
          "base_uri": "https://localhost:8080/",
          "height": 272
        },
        "outputId": "ab34b188-9645-4ab0-c9ba-af9fbe8cde27"
      },
      "source": [
        "filtered_data.head()"
      ],
      "execution_count": 7,
      "outputs": [
        {
          "output_type": "execute_result",
          "data": {
            "text/html": [
              "<div>\n",
              "<style scoped>\n",
              "    .dataframe tbody tr th:only-of-type {\n",
              "        vertical-align: middle;\n",
              "    }\n",
              "\n",
              "    .dataframe tbody tr th {\n",
              "        vertical-align: top;\n",
              "    }\n",
              "\n",
              "    .dataframe thead th {\n",
              "        text-align: right;\n",
              "    }\n",
              "</style>\n",
              "<table border=\"1\" class=\"dataframe\">\n",
              "  <thead>\n",
              "    <tr style=\"text-align: right;\">\n",
              "      <th></th>\n",
              "      <th>Id</th>\n",
              "      <th>ProductId</th>\n",
              "      <th>UserId</th>\n",
              "      <th>ProfileName</th>\n",
              "      <th>HelpfulnessNumerator</th>\n",
              "      <th>HelpfulnessDenominator</th>\n",
              "      <th>Score</th>\n",
              "      <th>Time</th>\n",
              "      <th>Summary</th>\n",
              "      <th>Text</th>\n",
              "    </tr>\n",
              "  </thead>\n",
              "  <tbody>\n",
              "    <tr>\n",
              "      <th>0</th>\n",
              "      <td>1</td>\n",
              "      <td>B001E4KFG0</td>\n",
              "      <td>A3SGXH7AUHU8GW</td>\n",
              "      <td>delmartian</td>\n",
              "      <td>1</td>\n",
              "      <td>1</td>\n",
              "      <td>positive</td>\n",
              "      <td>1303862400</td>\n",
              "      <td>Good Quality Dog Food</td>\n",
              "      <td>I have bought several of the Vitality canned d...</td>\n",
              "    </tr>\n",
              "    <tr>\n",
              "      <th>1</th>\n",
              "      <td>2</td>\n",
              "      <td>B00813GRG4</td>\n",
              "      <td>A1D87F6ZCVE5NK</td>\n",
              "      <td>dll pa</td>\n",
              "      <td>0</td>\n",
              "      <td>0</td>\n",
              "      <td>negetive</td>\n",
              "      <td>1346976000</td>\n",
              "      <td>Not as Advertised</td>\n",
              "      <td>Product arrived labeled as Jumbo Salted Peanut...</td>\n",
              "    </tr>\n",
              "    <tr>\n",
              "      <th>2</th>\n",
              "      <td>3</td>\n",
              "      <td>B000LQOCH0</td>\n",
              "      <td>ABXLMWJIXXAIN</td>\n",
              "      <td>Natalia Corres \"Natalia Corres\"</td>\n",
              "      <td>1</td>\n",
              "      <td>1</td>\n",
              "      <td>positive</td>\n",
              "      <td>1219017600</td>\n",
              "      <td>\"Delight\" says it all</td>\n",
              "      <td>This is a confection that has been around a fe...</td>\n",
              "    </tr>\n",
              "    <tr>\n",
              "      <th>3</th>\n",
              "      <td>4</td>\n",
              "      <td>B000UA0QIQ</td>\n",
              "      <td>A395BORC6FGVXV</td>\n",
              "      <td>Karl</td>\n",
              "      <td>3</td>\n",
              "      <td>3</td>\n",
              "      <td>negetive</td>\n",
              "      <td>1307923200</td>\n",
              "      <td>Cough Medicine</td>\n",
              "      <td>If you are looking for the secret ingredient i...</td>\n",
              "    </tr>\n",
              "    <tr>\n",
              "      <th>4</th>\n",
              "      <td>5</td>\n",
              "      <td>B006K2ZZ7K</td>\n",
              "      <td>A1UQRSCLF8GW1T</td>\n",
              "      <td>Michael D. Bigham \"M. Wassir\"</td>\n",
              "      <td>0</td>\n",
              "      <td>0</td>\n",
              "      <td>positive</td>\n",
              "      <td>1350777600</td>\n",
              "      <td>Great taffy</td>\n",
              "      <td>Great taffy at a great price.  There was a wid...</td>\n",
              "    </tr>\n",
              "  </tbody>\n",
              "</table>\n",
              "</div>"
            ],
            "text/plain": [
              "   Id  ...                                               Text\n",
              "0   1  ...  I have bought several of the Vitality canned d...\n",
              "1   2  ...  Product arrived labeled as Jumbo Salted Peanut...\n",
              "2   3  ...  This is a confection that has been around a fe...\n",
              "3   4  ...  If you are looking for the secret ingredient i...\n",
              "4   5  ...  Great taffy at a great price.  There was a wid...\n",
              "\n",
              "[5 rows x 10 columns]"
            ]
          },
          "metadata": {
            "tags": []
          },
          "execution_count": 7
        }
      ]
    },
    {
      "cell_type": "code",
      "metadata": {
        "id": "gmdtlbbmUXSR",
        "colab": {
          "base_uri": "https://localhost:8080/"
        },
        "outputId": "298c76dd-3eaa-4e67-e0fd-b991fd1b602c"
      },
      "source": [
        "filtered_data['Score'].value_counts()"
      ],
      "execution_count": 8,
      "outputs": [
        {
          "output_type": "execute_result",
          "data": {
            "text/plain": [
              "positive    443777\n",
              "negetive     82037\n",
              "Name: Score, dtype: int64"
            ]
          },
          "metadata": {
            "tags": []
          },
          "execution_count": 8
        }
      ]
    },
    {
      "cell_type": "code",
      "metadata": {
        "id": "P3VCMkEqUwmJ"
      },
      "source": [
        "#EDA\r\n",
        "\r\n",
        "display=pd.read_sql_query('''SELECT * FROM Reviews WHERE Score!=3\r\n",
        "                              AND UserId=\"AR5J8UI46CURR\"\r\n",
        "                              ORDER BY ProductID''',con)"
      ],
      "execution_count": 9,
      "outputs": []
    },
    {
      "cell_type": "code",
      "metadata": {
        "id": "c4RTYBObXQmB",
        "colab": {
          "base_uri": "https://localhost:8080/",
          "height": 306
        },
        "outputId": "39c2f5ec-c191-4ea7-d002-f5c735bb33a0"
      },
      "source": [
        "print(display.shape)\r\n",
        "display.head()"
      ],
      "execution_count": 10,
      "outputs": [
        {
          "output_type": "stream",
          "text": [
            "(5, 10)\n"
          ],
          "name": "stdout"
        },
        {
          "output_type": "execute_result",
          "data": {
            "text/html": [
              "<div>\n",
              "<style scoped>\n",
              "    .dataframe tbody tr th:only-of-type {\n",
              "        vertical-align: middle;\n",
              "    }\n",
              "\n",
              "    .dataframe tbody tr th {\n",
              "        vertical-align: top;\n",
              "    }\n",
              "\n",
              "    .dataframe thead th {\n",
              "        text-align: right;\n",
              "    }\n",
              "</style>\n",
              "<table border=\"1\" class=\"dataframe\">\n",
              "  <thead>\n",
              "    <tr style=\"text-align: right;\">\n",
              "      <th></th>\n",
              "      <th>Id</th>\n",
              "      <th>ProductId</th>\n",
              "      <th>UserId</th>\n",
              "      <th>ProfileName</th>\n",
              "      <th>HelpfulnessNumerator</th>\n",
              "      <th>HelpfulnessDenominator</th>\n",
              "      <th>Score</th>\n",
              "      <th>Time</th>\n",
              "      <th>Summary</th>\n",
              "      <th>Text</th>\n",
              "    </tr>\n",
              "  </thead>\n",
              "  <tbody>\n",
              "    <tr>\n",
              "      <th>0</th>\n",
              "      <td>78445</td>\n",
              "      <td>B000HDL1RQ</td>\n",
              "      <td>AR5J8UI46CURR</td>\n",
              "      <td>Geetha Krishnan</td>\n",
              "      <td>2</td>\n",
              "      <td>2</td>\n",
              "      <td>5</td>\n",
              "      <td>1199577600</td>\n",
              "      <td>LOACKER QUADRATINI VANILLA WAFERS</td>\n",
              "      <td>DELICIOUS WAFERS. I FIND THAT EUROPEAN WAFERS ...</td>\n",
              "    </tr>\n",
              "    <tr>\n",
              "      <th>1</th>\n",
              "      <td>138317</td>\n",
              "      <td>B000HDOPYC</td>\n",
              "      <td>AR5J8UI46CURR</td>\n",
              "      <td>Geetha Krishnan</td>\n",
              "      <td>2</td>\n",
              "      <td>2</td>\n",
              "      <td>5</td>\n",
              "      <td>1199577600</td>\n",
              "      <td>LOACKER QUADRATINI VANILLA WAFERS</td>\n",
              "      <td>DELICIOUS WAFERS. I FIND THAT EUROPEAN WAFERS ...</td>\n",
              "    </tr>\n",
              "    <tr>\n",
              "      <th>2</th>\n",
              "      <td>138277</td>\n",
              "      <td>B000HDOPYM</td>\n",
              "      <td>AR5J8UI46CURR</td>\n",
              "      <td>Geetha Krishnan</td>\n",
              "      <td>2</td>\n",
              "      <td>2</td>\n",
              "      <td>5</td>\n",
              "      <td>1199577600</td>\n",
              "      <td>LOACKER QUADRATINI VANILLA WAFERS</td>\n",
              "      <td>DELICIOUS WAFERS. I FIND THAT EUROPEAN WAFERS ...</td>\n",
              "    </tr>\n",
              "    <tr>\n",
              "      <th>3</th>\n",
              "      <td>73791</td>\n",
              "      <td>B000HDOPZG</td>\n",
              "      <td>AR5J8UI46CURR</td>\n",
              "      <td>Geetha Krishnan</td>\n",
              "      <td>2</td>\n",
              "      <td>2</td>\n",
              "      <td>5</td>\n",
              "      <td>1199577600</td>\n",
              "      <td>LOACKER QUADRATINI VANILLA WAFERS</td>\n",
              "      <td>DELICIOUS WAFERS. I FIND THAT EUROPEAN WAFERS ...</td>\n",
              "    </tr>\n",
              "    <tr>\n",
              "      <th>4</th>\n",
              "      <td>155049</td>\n",
              "      <td>B000PAQ75C</td>\n",
              "      <td>AR5J8UI46CURR</td>\n",
              "      <td>Geetha Krishnan</td>\n",
              "      <td>2</td>\n",
              "      <td>2</td>\n",
              "      <td>5</td>\n",
              "      <td>1199577600</td>\n",
              "      <td>LOACKER QUADRATINI VANILLA WAFERS</td>\n",
              "      <td>DELICIOUS WAFERS. I FIND THAT EUROPEAN WAFERS ...</td>\n",
              "    </tr>\n",
              "  </tbody>\n",
              "</table>\n",
              "</div>"
            ],
            "text/plain": [
              "       Id  ...                                               Text\n",
              "0   78445  ...  DELICIOUS WAFERS. I FIND THAT EUROPEAN WAFERS ...\n",
              "1  138317  ...  DELICIOUS WAFERS. I FIND THAT EUROPEAN WAFERS ...\n",
              "2  138277  ...  DELICIOUS WAFERS. I FIND THAT EUROPEAN WAFERS ...\n",
              "3   73791  ...  DELICIOUS WAFERS. I FIND THAT EUROPEAN WAFERS ...\n",
              "4  155049  ...  DELICIOUS WAFERS. I FIND THAT EUROPEAN WAFERS ...\n",
              "\n",
              "[5 rows x 10 columns]"
            ]
          },
          "metadata": {
            "tags": []
          },
          "execution_count": 10
        }
      ]
    },
    {
      "cell_type": "markdown",
      "metadata": {
        "id": "V1acMfyFXhLM"
      },
      "source": [
        "\r\n",
        "\r\n",
        "\r\n",
        "*Observations: *\r\n",
        "\r\n",
        "1) As in above table, UserId, ProfileName, HelpfulnessNumerator, HelpfulnessDenominator.Score,Time, Summary and Text shows same content\r\n",
        "\r\n",
        "2) Also for all 5 product, shows same time.\r\n",
        "\r\n",
        "3) Here we observed that, product is same, only the flavour is different\r\n",
        "\r\n",
        "4) so we will remove this duplication and keep any one product which all these features so we removing duplicates.\r\n"
      ]
    },
    {
      "cell_type": "code",
      "metadata": {
        "id": "dAdMDeiPXSS5"
      },
      "source": [
        "#sort data according to ProductId in ascending order#\r\n",
        "sorted_data=filtered_data.sort_values('ProductId',ascending=True,inplace=False,kind='quicksort',na_position='last')\r\n"
      ],
      "execution_count": 11,
      "outputs": []
    },
    {
      "cell_type": "code",
      "metadata": {
        "id": "_2zvqR3nYhsQ"
      },
      "source": [
        "final=sorted_data.drop_duplicates(subset={'UserId','ProfileName','Time','Text'},keep='first',inplace=False)"
      ],
      "execution_count": 12,
      "outputs": []
    },
    {
      "cell_type": "code",
      "metadata": {
        "id": "B4dRiwnTYy2E",
        "colab": {
          "base_uri": "https://localhost:8080/"
        },
        "outputId": "cc5bbdfc-1c0b-4440-e887-048968517948"
      },
      "source": [
        "final.shape"
      ],
      "execution_count": 13,
      "outputs": [
        {
          "output_type": "execute_result",
          "data": {
            "text/plain": [
              "(364173, 10)"
            ]
          },
          "metadata": {
            "tags": []
          },
          "execution_count": 13
        }
      ]
    },
    {
      "cell_type": "code",
      "metadata": {
        "id": "Pzp13BDuY07z",
        "colab": {
          "base_uri": "https://localhost:8080/"
        },
        "outputId": "f41e16ab-60ca-44fb-d6ab-e996449b1083"
      },
      "source": [
        "#After removing duplications, we will see how much % of data still remains\r\n",
        "\r\n",
        "((final['Id'].size)/(filtered_data['Id'].size))*100"
      ],
      "execution_count": 14,
      "outputs": [
        {
          "output_type": "execute_result",
          "data": {
            "text/plain": [
              "69.25890143662969"
            ]
          },
          "metadata": {
            "tags": []
          },
          "execution_count": 14
        }
      ]
    },
    {
      "cell_type": "code",
      "metadata": {
        "id": "L9xaeaZ4ZATT"
      },
      "source": [
        "final=final[final.HelpfulnessNumerator<=final.HelpfulnessDenominator]"
      ],
      "execution_count": 15,
      "outputs": []
    },
    {
      "cell_type": "markdown",
      "metadata": {
        "id": "wJiQtTxBZo3c"
      },
      "source": [
        "## **Now, we do preprocessing like removal of stop words, html tags and make all letters in lowercase.**"
      ]
    },
    {
      "cell_type": "code",
      "metadata": {
        "id": "TDZYHPYDZOW7",
        "colab": {
          "base_uri": "https://localhost:8080/"
        },
        "outputId": "733c69b4-1ff8-4190-bd3b-060a95880777"
      },
      "source": [
        "import re\r\n",
        "i=0\r\n",
        "for sent in final['Text'].values:\r\n",
        "  if (re.findall('<.*?>',sent)):\r\n",
        "    print(i)\r\n",
        "    print(sent)\r\n",
        "    break\r\n",
        "  i+=1"
      ],
      "execution_count": 16,
      "outputs": [
        {
          "output_type": "stream",
          "text": [
            "6\n",
            "I set aside at least an hour each day to read to my son (3 y/o). At this point, I consider myself a connoisseur of children's books and this is one of the best. Santa Clause put this under the tree. Since then, we've read it perpetually and he loves it.<br /><br />First, this book taught him the months of the year.<br /><br />Second, it's a pleasure to read. Well suited to 1.5 y/o old to 4+.<br /><br />Very few children's books are worth owning. Most should be borrowed from the library. This book, however, deserves a permanent spot on your shelf. Sendak's best.\n"
          ],
          "name": "stdout"
        }
      ]
    },
    {
      "cell_type": "code",
      "metadata": {
        "id": "JyFzWAgSaGgY"
      },
      "source": [
        "import nltk\r\n",
        "from nltk.stem import PorterStemmer\r\n",
        "from nltk.corpus import stopwords\r\n",
        "from nltk.stem.wordnet import WordNetLemmatizer"
      ],
      "execution_count": 17,
      "outputs": []
    },
    {
      "cell_type": "code",
      "metadata": {
        "id": "s8WE4-jmos_s",
        "colab": {
          "base_uri": "https://localhost:8080/"
        },
        "outputId": "d5dbc0fa-6732-425c-c0ca-c32a19f886a6"
      },
      "source": [
        "nltk.download('stopwords')"
      ],
      "execution_count": 18,
      "outputs": [
        {
          "output_type": "stream",
          "text": [
            "[nltk_data] Downloading package stopwords to /root/nltk_data...\n",
            "[nltk_data]   Unzipping corpora/stopwords.zip.\n"
          ],
          "name": "stdout"
        },
        {
          "output_type": "execute_result",
          "data": {
            "text/plain": [
              "True"
            ]
          },
          "metadata": {
            "tags": []
          },
          "execution_count": 18
        }
      ]
    },
    {
      "cell_type": "code",
      "metadata": {
        "id": "siOE1AqmoyqJ"
      },
      "source": [
        "stop=set(stopwords.words('english')) #set of stopwords\r\n",
        "sno= nltk.stem.SnowballStemmer('english') #     # initialising snowball stemmer"
      ],
      "execution_count": 19,
      "outputs": []
    },
    {
      "cell_type": "code",
      "metadata": {
        "id": "N9AemeYbpD-5"
      },
      "source": [
        "#function to clean html tags\r\n",
        "\r\n",
        "def cleanhtml(sentence):\r\n",
        "  cleanr=re.compile('<.*?>')\r\n",
        "  cleantext=re.sub(cleanr,'',sentence)\r\n",
        "  return cleantext\r\n",
        "\r\n",
        "#function to build punctuations\r\n",
        "def cleanpunc(sentence):\r\n",
        "  cleaned=re.sub(r'[?|!|\\'|\"|#]',r'',sentence)\r\n",
        "  cleaned=re.sub(r'[.|,|(|)|\\|/]',r'', cleaned)\r\n",
        "  return cleaned\r\n"
      ],
      "execution_count": 20,
      "outputs": []
    },
    {
      "cell_type": "code",
      "metadata": {
        "id": "nR--r4XcqEjo",
        "colab": {
          "base_uri": "https://localhost:8080/"
        },
        "outputId": "42294a35-0163-4382-c8cc-eb19072725c8"
      },
      "source": [
        "print(stop)\r\n",
        "print(sno.stem('tasty'))"
      ],
      "execution_count": 21,
      "outputs": [
        {
          "output_type": "stream",
          "text": [
            "{'him', 'nor', 'her', 'me', \"you're\", 'm', 'because', 'has', 'how', \"haven't\", \"wasn't\", 'a', 'having', 'from', 'have', 'whom', 'doing', 'your', 'hasn', 'had', 'again', 'we', 'ours', \"you'll\", 'were', 'will', 't', \"mustn't\", 'it', 'most', 'why', 'doesn', 'above', 'own', 'what', 'you', 'yourself', 'being', 'over', 'further', 'he', 'mustn', 'am', 'are', 're', 'themselves', 'my', 'during', 'aren', 'these', 'that', \"aren't\", 'but', 'didn', 'by', \"should've\", 'is', 'theirs', 'each', 'the', 'should', 'his', 'before', 'after', 'she', 'shan', 'any', 'yourselves', 'more', 'just', \"wouldn't\", 'and', 'y', 'this', 'to', 'down', 'all', 'himself', 'ma', 'at', 'was', 'its', \"you've\", 'once', 'not', \"don't\", \"didn't\", 'needn', 'very', \"shouldn't\", 'itself', 'in', 'no', 's', 'been', 'be', 'does', 'under', 'such', \"it's\", 'both', \"weren't\", 'few', 'ourselves', 'here', 'out', \"hasn't\", 'won', \"she's\", 'while', 'on', 'couldn', 'than', \"doesn't\", 'do', 'of', 'd', 'an', 'don', 'mightn', 'who', 'now', 'can', 'their', \"you'd\", 'shouldn', 'll', 'myself', 'through', 'some', 'those', \"that'll\", 'where', 'off', 'then', 'i', 'haven', 'wasn', \"hadn't\", 'our', 'herself', 'isn', 'them', 'which', 'did', \"shan't\", 've', 'wouldn', 'o', 'other', \"mightn't\", 'for', 'as', 'until', 'between', 'below', 'ain', 'about', \"won't\", 'if', 'with', 'they', 'so', 'hadn', \"isn't\", \"needn't\", 'there', 'yours', 'only', 'when', 'same', 'hers', 'into', 'weren', 'up', \"couldn't\", 'or', 'against', 'too'}\n",
            "tasti\n"
          ],
          "name": "stdout"
        }
      ]
    },
    {
      "cell_type": "code",
      "metadata": {
        "id": "vlOiUxeWqJm1"
      },
      "source": [
        "#Code for implementing step-by-step the checks mentioned in the pre-processing phase\r\n",
        "# this code takes a while to run as it needs to run on 500k sentences.\r\n",
        "\r\n",
        "i=0\r\n",
        "final_string=[]\r\n",
        "all_positive_words=[]\r\n",
        "all_negetive_words=[]\r\n",
        "str1=''\r\n",
        "s=''\r\n",
        "for sent in final['Text'].values:\r\n",
        "  filtered_sentence=[]\r\n",
        "  sent=cleanhtml(sent)\r\n",
        "  \r\n",
        "  for w in sent.split():\r\n",
        "    for cleanword in cleanpunc(w).split():\r\n",
        "      if ((cleanword.isalpha()) & (len(cleanword)>2)):\r\n",
        "        if (cleanword.islower() not in stop):\r\n",
        "          s=(sno.stem(cleanword.lower()))\r\n",
        "          filtered_sentence.append(s)\r\n",
        "          if (final['Score'].values)[i]=='positive':\r\n",
        "            all_positive_words.append(s)\r\n",
        "          if (final['Score'].values)[i]=='negetive':\r\n",
        "            all_negetive_words.append(s)\r\n",
        "        else:\r\n",
        "          continue\r\n",
        "      else:\r\n",
        "        continue\r\n",
        "  str1=' '.join(filtered_sentence)\r\n",
        "\r\n",
        "  final_string.append(str1)\r\n",
        "  i+=1\r\n"
      ],
      "execution_count": 22,
      "outputs": []
    },
    {
      "cell_type": "code",
      "metadata": {
        "id": "G6O1bEMesuzH"
      },
      "source": [
        "final['CleanText']=final_string"
      ],
      "execution_count": 23,
      "outputs": []
    },
    {
      "cell_type": "code",
      "metadata": {
        "id": "N5tqdl6mwbLB",
        "colab": {
          "base_uri": "https://localhost:8080/",
          "height": 648
        },
        "outputId": "dd8a364c-33db-4215-f787-5985cfea6a57"
      },
      "source": [
        "final.head(10)"
      ],
      "execution_count": 24,
      "outputs": [
        {
          "output_type": "execute_result",
          "data": {
            "text/html": [
              "<div>\n",
              "<style scoped>\n",
              "    .dataframe tbody tr th:only-of-type {\n",
              "        vertical-align: middle;\n",
              "    }\n",
              "\n",
              "    .dataframe tbody tr th {\n",
              "        vertical-align: top;\n",
              "    }\n",
              "\n",
              "    .dataframe thead th {\n",
              "        text-align: right;\n",
              "    }\n",
              "</style>\n",
              "<table border=\"1\" class=\"dataframe\">\n",
              "  <thead>\n",
              "    <tr style=\"text-align: right;\">\n",
              "      <th></th>\n",
              "      <th>Id</th>\n",
              "      <th>ProductId</th>\n",
              "      <th>UserId</th>\n",
              "      <th>ProfileName</th>\n",
              "      <th>HelpfulnessNumerator</th>\n",
              "      <th>HelpfulnessDenominator</th>\n",
              "      <th>Score</th>\n",
              "      <th>Time</th>\n",
              "      <th>Summary</th>\n",
              "      <th>Text</th>\n",
              "      <th>CleanText</th>\n",
              "    </tr>\n",
              "  </thead>\n",
              "  <tbody>\n",
              "    <tr>\n",
              "      <th>138706</th>\n",
              "      <td>150524</td>\n",
              "      <td>0006641040</td>\n",
              "      <td>ACITT7DI6IDDL</td>\n",
              "      <td>shari zychinski</td>\n",
              "      <td>0</td>\n",
              "      <td>0</td>\n",
              "      <td>positive</td>\n",
              "      <td>939340800</td>\n",
              "      <td>EVERY book is educational</td>\n",
              "      <td>this witty little book makes my son laugh at l...</td>\n",
              "      <td>this witti littl book make son laugh loud reci...</td>\n",
              "    </tr>\n",
              "    <tr>\n",
              "      <th>138688</th>\n",
              "      <td>150506</td>\n",
              "      <td>0006641040</td>\n",
              "      <td>A2IW4PEEKO2R0U</td>\n",
              "      <td>Tracy</td>\n",
              "      <td>1</td>\n",
              "      <td>1</td>\n",
              "      <td>positive</td>\n",
              "      <td>1194739200</td>\n",
              "      <td>Love the book, miss the hard cover version</td>\n",
              "      <td>I grew up reading these Sendak books, and watc...</td>\n",
              "      <td>grew read these sendak book and watch the real...</td>\n",
              "    </tr>\n",
              "    <tr>\n",
              "      <th>138689</th>\n",
              "      <td>150507</td>\n",
              "      <td>0006641040</td>\n",
              "      <td>A1S4A3IQ2MU7V4</td>\n",
              "      <td>sally sue \"sally sue\"</td>\n",
              "      <td>1</td>\n",
              "      <td>1</td>\n",
              "      <td>positive</td>\n",
              "      <td>1191456000</td>\n",
              "      <td>chicken soup with rice months</td>\n",
              "      <td>This is a fun way for children to learn their ...</td>\n",
              "      <td>this fun way for children learn their month th...</td>\n",
              "    </tr>\n",
              "    <tr>\n",
              "      <th>138690</th>\n",
              "      <td>150508</td>\n",
              "      <td>0006641040</td>\n",
              "      <td>AZGXZ2UUK6X</td>\n",
              "      <td>Catherine Hallberg \"(Kate)\"</td>\n",
              "      <td>1</td>\n",
              "      <td>1</td>\n",
              "      <td>positive</td>\n",
              "      <td>1076025600</td>\n",
              "      <td>a good swingy rhythm for reading aloud</td>\n",
              "      <td>This is a great little book to read aloud- it ...</td>\n",
              "      <td>this great littl book read has nice rhythm wel...</td>\n",
              "    </tr>\n",
              "    <tr>\n",
              "      <th>138691</th>\n",
              "      <td>150509</td>\n",
              "      <td>0006641040</td>\n",
              "      <td>A3CMRKGE0P909G</td>\n",
              "      <td>Teresa</td>\n",
              "      <td>3</td>\n",
              "      <td>4</td>\n",
              "      <td>positive</td>\n",
              "      <td>1018396800</td>\n",
              "      <td>A great way to learn the months</td>\n",
              "      <td>This is a book of poetry about the months of t...</td>\n",
              "      <td>this book poetri about the month the year goe ...</td>\n",
              "    </tr>\n",
              "    <tr>\n",
              "      <th>138693</th>\n",
              "      <td>150511</td>\n",
              "      <td>0006641040</td>\n",
              "      <td>A1C9K534BCI9GO</td>\n",
              "      <td>Laura Purdie Salas</td>\n",
              "      <td>0</td>\n",
              "      <td>0</td>\n",
              "      <td>positive</td>\n",
              "      <td>1344211200</td>\n",
              "      <td>Charming and childlike</td>\n",
              "      <td>A charming, rhyming book that describes the ci...</td>\n",
              "      <td>charm rhyme book that describ the circumst und...</td>\n",
              "    </tr>\n",
              "    <tr>\n",
              "      <th>138694</th>\n",
              "      <td>150512</td>\n",
              "      <td>0006641040</td>\n",
              "      <td>A1DJXZA5V5FFVA</td>\n",
              "      <td>A. Conway</td>\n",
              "      <td>0</td>\n",
              "      <td>0</td>\n",
              "      <td>positive</td>\n",
              "      <td>1338249600</td>\n",
              "      <td>Must have.</td>\n",
              "      <td>I set aside at least an hour each day to read ...</td>\n",
              "      <td>set asid least hour each day read son this poi...</td>\n",
              "    </tr>\n",
              "    <tr>\n",
              "      <th>138695</th>\n",
              "      <td>150513</td>\n",
              "      <td>0006641040</td>\n",
              "      <td>ASH0DZQQF6AIZ</td>\n",
              "      <td>tessarat</td>\n",
              "      <td>0</td>\n",
              "      <td>0</td>\n",
              "      <td>positive</td>\n",
              "      <td>1325721600</td>\n",
              "      <td>A classic</td>\n",
              "      <td>I remembered this book from my childhood and g...</td>\n",
              "      <td>rememb this book from childhood and got for ki...</td>\n",
              "    </tr>\n",
              "    <tr>\n",
              "      <th>138696</th>\n",
              "      <td>150514</td>\n",
              "      <td>0006641040</td>\n",
              "      <td>A2ONB6ZA292PA</td>\n",
              "      <td>Rosalind Matzner</td>\n",
              "      <td>0</td>\n",
              "      <td>0</td>\n",
              "      <td>positive</td>\n",
              "      <td>1313884800</td>\n",
              "      <td>Chicken soup with Rice</td>\n",
              "      <td>It's a great book with adorable illustrations....</td>\n",
              "      <td>it great book with ador illustr true classic k...</td>\n",
              "    </tr>\n",
              "    <tr>\n",
              "      <th>138697</th>\n",
              "      <td>150515</td>\n",
              "      <td>0006641040</td>\n",
              "      <td>A2RTT81R6Y3R7X</td>\n",
              "      <td>Lindylu</td>\n",
              "      <td>0</td>\n",
              "      <td>0</td>\n",
              "      <td>positive</td>\n",
              "      <td>1303171200</td>\n",
              "      <td>One of our family's favorite books</td>\n",
              "      <td>This book is a family favorite and was read to...</td>\n",
              "      <td>this book famili favorit and was read children...</td>\n",
              "    </tr>\n",
              "  </tbody>\n",
              "</table>\n",
              "</div>"
            ],
            "text/plain": [
              "            Id  ...                                          CleanText\n",
              "138706  150524  ...  this witti littl book make son laugh loud reci...\n",
              "138688  150506  ...  grew read these sendak book and watch the real...\n",
              "138689  150507  ...  this fun way for children learn their month th...\n",
              "138690  150508  ...  this great littl book read has nice rhythm wel...\n",
              "138691  150509  ...  this book poetri about the month the year goe ...\n",
              "138693  150511  ...  charm rhyme book that describ the circumst und...\n",
              "138694  150512  ...  set asid least hour each day read son this poi...\n",
              "138695  150513  ...  rememb this book from childhood and got for ki...\n",
              "138696  150514  ...  it great book with ador illustr true classic k...\n",
              "138697  150515  ...  this book famili favorit and was read children...\n",
              "\n",
              "[10 rows x 11 columns]"
            ]
          },
          "metadata": {
            "tags": []
          },
          "execution_count": 24
        }
      ]
    },
    {
      "cell_type": "code",
      "metadata": {
        "colab": {
          "base_uri": "https://localhost:8080/"
        },
        "id": "9IyUsNznu7lr",
        "outputId": "0f8c187b-9cd3-4c56-b3ef-50d9f3933e9c"
      },
      "source": [
        "final['Time']=pd.to_datetime(final['Time'],unit='s')\r\n",
        "\r\n",
        "final=final.sort_values('Time',axis=0,ascending=True,inplace=False,kind='quicksort',na_position='last')\r\n",
        "final.shape"
      ],
      "execution_count": 25,
      "outputs": [
        {
          "output_type": "execute_result",
          "data": {
            "text/plain": [
              "(364171, 11)"
            ]
          },
          "metadata": {
            "tags": []
          },
          "execution_count": 25
        }
      ]
    },
    {
      "cell_type": "code",
      "metadata": {
        "id": "6Ayi0iFNNizx"
      },
      "source": [
        "final_p =final[final['Score']=='positive'].sample(n=10000)\r\n",
        "final_n =final[final['Score']=='negetive'].sample(n=10000)\r\n",
        "final=pd.concat([final_p,final_n])"
      ],
      "execution_count": 26,
      "outputs": []
    },
    {
      "cell_type": "code",
      "metadata": {
        "colab": {
          "base_uri": "https://localhost:8080/"
        },
        "id": "gwqHWYaVCYxN",
        "outputId": "5e7a721e-415c-476d-ec96-11e64ab77f5b"
      },
      "source": [
        "!pip3 install scikit-plot"
      ],
      "execution_count": 28,
      "outputs": [
        {
          "output_type": "stream",
          "text": [
            "Collecting scikit-plot\n",
            "  Downloading https://files.pythonhosted.org/packages/7c/47/32520e259340c140a4ad27c1b97050dd3254fdc517b1d59974d47037510e/scikit_plot-0.3.7-py3-none-any.whl\n",
            "Requirement already satisfied: matplotlib>=1.4.0 in /usr/local/lib/python3.6/dist-packages (from scikit-plot) (3.2.2)\n",
            "Requirement already satisfied: scikit-learn>=0.18 in /usr/local/lib/python3.6/dist-packages (from scikit-plot) (0.22.2.post1)\n",
            "Requirement already satisfied: joblib>=0.10 in /usr/local/lib/python3.6/dist-packages (from scikit-plot) (1.0.0)\n",
            "Requirement already satisfied: scipy>=0.9 in /usr/local/lib/python3.6/dist-packages (from scikit-plot) (1.4.1)\n",
            "Requirement already satisfied: python-dateutil>=2.1 in /usr/local/lib/python3.6/dist-packages (from matplotlib>=1.4.0->scikit-plot) (2.8.1)\n",
            "Requirement already satisfied: pyparsing!=2.0.4,!=2.1.2,!=2.1.6,>=2.0.1 in /usr/local/lib/python3.6/dist-packages (from matplotlib>=1.4.0->scikit-plot) (2.4.7)\n",
            "Requirement already satisfied: numpy>=1.11 in /usr/local/lib/python3.6/dist-packages (from matplotlib>=1.4.0->scikit-plot) (1.19.5)\n",
            "Requirement already satisfied: kiwisolver>=1.0.1 in /usr/local/lib/python3.6/dist-packages (from matplotlib>=1.4.0->scikit-plot) (1.3.1)\n",
            "Requirement already satisfied: cycler>=0.10 in /usr/local/lib/python3.6/dist-packages (from matplotlib>=1.4.0->scikit-plot) (0.10.0)\n",
            "Requirement already satisfied: six>=1.5 in /usr/local/lib/python3.6/dist-packages (from python-dateutil>=2.1->matplotlib>=1.4.0->scikit-plot) (1.15.0)\n",
            "Installing collected packages: scikit-plot\n",
            "Successfully installed scikit-plot-0.3.7\n"
          ],
          "name": "stdout"
        }
      ]
    },
    {
      "cell_type": "code",
      "metadata": {
        "id": "2DiGUrGpxnkA"
      },
      "source": [
        "from sklearn.model_selection import cross_val_score\r\n",
        "from collections import Counter\r\n",
        "from sklearn.metrics import  roc_auc_score,f1_score,accuracy_score,hamming_loss\r\n",
        "import scikitplot as skplt\r\n",
        "from scikitplot.metrics import plot_confusion_matrix\r\n",
        "import warnings\r\n",
        "warnings.filterwarnings('ignore')\r\n"
      ],
      "execution_count": 29,
      "outputs": []
    },
    {
      "cell_type": "code",
      "metadata": {
        "id": "aztR4_C3vPfe"
      },
      "source": [
        "from sklearn.model_selection import train_test_split\r\n",
        "X=final['CleanText']\r\n",
        "y=final['Score']"
      ],
      "execution_count": 261,
      "outputs": []
    },
    {
      "cell_type": "code",
      "metadata": {
        "id": "dkHOL6Y7vb8k"
      },
      "source": [
        "X_train,X_test,y_train,y_test=train_test_split(X,y,test_size=0.3,stratify=y,random_state=0)\r\n"
      ],
      "execution_count": 262,
      "outputs": []
    },
    {
      "cell_type": "markdown",
      "metadata": {
        "id": "aqPEajrRxa-R"
      },
      "source": [
        "## **Training model**"
      ]
    },
    {
      "cell_type": "code",
      "metadata": {
        "id": "uBQ5ZG4Hv9KK"
      },
      "source": [
        "from sklearn.linear_model import LogisticRegression\r\n",
        "import sklearn.metrics as metrics\r\n",
        "\r\n",
        "#logistic regression with l1 penalty\r\n",
        "def logistic_l1(X_train,X_test,y_train,y_test):\r\n",
        "  cv_scores=[]\r\n",
        "  C=[10**-4,10**-2,10**0,10**2,10**4]\r\n",
        "  for i in C:\r\n",
        "    model=LogisticRegression(penalty='l1',solver='liblinear',C=i)\r\n",
        "    model.fit(X_train,y_train)\r\n",
        "    scores=cross_val_score(model,X_train,y_train,cv=10,scoring='roc_auc')\r\n",
        "    cv_scores.append(scores.mean())\r\n",
        "    optimal_c=C[cv_scores.index(max(cv_scores))]\r\n",
        "  \r\n",
        "  #plot accuracy vs alpha\r\n",
        "  plt.plot(C,cv_scores,label='TrainAUC')\r\n",
        "  plt.xlabel('Hyper parameter')\r\n",
        "  plt.ylabel(' Area under Roc curve')\r\n",
        "  plt.title('AUC vs Hyper parameter')\r\n",
        "  plt.legend(loc='best')\r\n",
        "  plt.grid()\r\n",
        "  plt.show()\r\n",
        "\r\n",
        "  fpr,tpr,thrshold=metrics.roc_curve(y_test,model.predict_proba(X_test)[:,1],pos_label='positive')\r\n",
        "  auc=metrics.auc(fpr,tpr)\r\n",
        "  \r\n",
        "  print(f' optimal C is {optimal_c} with best roc score is {auc}')\r\n",
        "\r\n",
        " \r\n",
        "\r\n",
        "\r\n",
        "  "
      ],
      "execution_count": 263,
      "outputs": []
    },
    {
      "cell_type": "code",
      "metadata": {
        "id": "671w0gVL7kHT"
      },
      "source": [
        "from sklearn.linear_model import LogisticRegression\r\n",
        "\r\n",
        "#logistic regression with l2 penalty\r\n",
        "def logistic_l2(X_train,X_test,y_train,y_test):\r\n",
        "  cv_scores=[]\r\n",
        "  C=[10**-4,10**-2,10**0,10**2,10**4]\r\n",
        "  for i in C:\r\n",
        "    model=LogisticRegression(penalty='l2',C=i)\r\n",
        "    model.fit(X_train,y_train)\r\n",
        "    scores=cross_val_score(model,X_train,y_train,cv=10,scoring='roc_auc')\r\n",
        "    cv_scores.append(scores.mean())\r\n",
        "    optimal_c=C[cv_scores.index(max(cv_scores))]\r\n",
        "  \r\n",
        "  #plot accuracy vs alpha\r\n",
        "  plt.plot(C,cv_scores,label='TrainAUC')\r\n",
        "  plt.xlabel('Hyper parameter')\r\n",
        "  plt.ylabel(' Area under Roc curve')\r\n",
        "  plt.title('AUC vs Hyper parameter')\r\n",
        "  plt.legend(loc='best')\r\n",
        "  plt.grid()\r\n",
        "  plt.show()\r\n",
        "\r\n",
        "  fpr,tpr,threshold=metrics.roc_curve(y_test,model.predict_proba(X_test)[:,1],pos_label='positive')\r\n",
        "  auc=metrics.auc(fpr,tpr)\r\n",
        "  \r\n",
        "  \r\n",
        "  print(f' optimal C is {optimal_c} with best roc score is {auc}')\r\n",
        "\r\n",
        "  return optimal_c\r\n",
        "\r\n",
        "\r\n"
      ],
      "execution_count": 264,
      "outputs": []
    },
    {
      "cell_type": "markdown",
      "metadata": {
        "id": "gNIlHZyzFGV5"
      },
      "source": [
        "# **Testing model**\r\n",
        "\r\n"
      ]
    },
    {
      "cell_type": "code",
      "metadata": {
        "id": "tks062ylFXap"
      },
      "source": [
        "def testingmodel_l1(X_train,X_test,y_train,y_test,optimal_c):\r\n",
        "  log1=LogisticRegression(C=optimal_c,penalty='l1',solver='liblinear')\r\n",
        "  log1.fit(X_train,y_train)\r\n",
        "  pred=log1.predict(X_test)\r\n",
        "\r\n",
        "  print('Test data report')\r\n",
        "  print('Best c',optimal_c)\r\n",
        "  \r\n",
        "  skplt.metrics.plot_confusion_matrix(y_test,pred)\r\n",
        "  plt.show()\r\n",
        "  print(\"macro f1 score for data :\",metrics.f1_score(y_test, pred, average = 'macro'))\r\n",
        "  print(\"micro f1 scoore for data:\",metrics.f1_score(y_test, pred, average = 'micro'))\r\n",
        "  print(\"hamming loss for data:\",metrics.hamming_loss(y_test,pred))\r\n",
        "  print(\"Precision recall report for data:\\n\",metrics.classification_report(y_test, pred))\r\n",
        "\r\n",
        "\r\n",
        "  fpr,tpr,threshold=metrics.roc_curve(y_test,log1.predict_proba(X_test)[:,1],pos_label='positive')\r\n",
        "  fpr2,tpr2,threshold2=metrics.roc_curve(y_train,log1.predict_proba(X_train)[:,1],pos_label='positive')\r\n",
        "  auc=metrics.auc(fpr,tpr)\r\n",
        "  auc1=metrics.auc(fpr2,tpr2)\r\n",
        "  print('Test  auc',auc)\r\n",
        "  print('Train auc',auc1)\r\n",
        "  plt.title('Roc Curve')\r\n",
        "  plt.plot(fpr,tpr,label='AUC =%.2f'%auc)\r\n",
        "  plt.plot(fpr2,tpr2,label='AUC=%.2f'%auc1)\r\n",
        "  plt.legend(['TEst data','Train data'],loc='best')\r\n",
        "  plt.plot([0,1],[0,1],'r--')\r\n",
        "  plt.xlim([0,1])\r\n",
        "  plt.ylim([0,1])\r\n",
        "  plt.xlabel('FPR')\r\n",
        "  plt.ylabel('TPR')\r\n",
        "  plt.show()\r\n"
      ],
      "execution_count": 265,
      "outputs": []
    },
    {
      "cell_type": "code",
      "metadata": {
        "id": "ZDt9Z64vH7Rv"
      },
      "source": [
        "def testingmodel_l2(X_train,X_test,y_train,y_test,optimal_c):\r\n",
        "  log1=LogisticRegression(C=optimal_c,penalty='l2')\r\n",
        "  log1.fit(X_train,y_train)\r\n",
        "  pred=log1.predict(X_test)\r\n",
        "\r\n",
        "  print('Test data report')\r\n",
        "  print('Best c',optimal_c)\r\n",
        "  skplt.metrics.plot_confusion_matrix(y_test,pred)\r\n",
        "\r\n",
        "  plt.show()\r\n",
        "  print(\"macro f1 score for data :\",metrics.f1_score(y_test, pred, average = 'macro'))\r\n",
        "  print(\"hamming loss for data:\",metrics.hamming_loss(y_test,pred))\r\n",
        "  print(\"Precision recall report for data:\\n\",metrics.classification_report(y_test, pred))\r\n",
        " \r\n",
        "  fpr,tpr,threshold=metrics.roc_curve(y_test,log1.predict_proba(X_test)[:,1],pos_label='positive')\r\n",
        "  fpr2,tpr2,threshold2=metrics.roc_curve(y_train,log1.predict_proba(X_train)[:,1],pos_label='positive')\r\n",
        "  auc=metrics.auc(fpr,tpr)\r\n",
        "  auc1=metrics.auc(fpr2,tpr2)\r\n",
        "  print('Test  auc',auc)\r\n",
        "  print('Train auc',auc1)\r\n",
        "\r\n",
        "  plt.title('Roc Curve')\r\n",
        "  plt.plot(fpr,tpr,label='AUC =%.3f'%auc)\r\n",
        "  plt.plot(fpr2,tpr2,label='AUC=%.3f'%auc1)\r\n",
        "  plt.legend(['TEst data','Train data'],loc='best')\r\n",
        "\r\n",
        "  plt.plot([0,1],[0,1],'r--')\r\n",
        "  plt.xlim([0,1])\r\n",
        "  plt.ylim([0,1])\r\n",
        "  plt.xlabel('FPR')\r\n",
        "  plt.ylabel('TPR')\r\n",
        "  plt.show()\r\n"
      ],
      "execution_count": 266,
      "outputs": []
    },
    {
      "cell_type": "markdown",
      "metadata": {
        "id": "ALmbSdjuI_uO"
      },
      "source": [
        "## **Top 10 features**"
      ]
    },
    {
      "cell_type": "code",
      "metadata": {
        "id": "Q8f4BC5ZJDlP"
      },
      "source": [
        "#Code Reference:https://stackoverflow.com/questions/11116697/how-to-get-most-informative-features-for-scikit-learn-classifiers\r\n",
        "\r\n",
        "def show_most_informative_features(vectorizer, clf, n=10):\r\n",
        "    feature_names = vectorizer.get_feature_names()\r\n",
        "    coefs_with_fns = sorted(zip(clf.coef_[0], feature_names))\r\n",
        "    top = zip(coefs_with_fns[:n], coefs_with_fns[:-(n + 1):-1])\r\n",
        "    for (coef_1, fn_1), (coef_2, fn_2) in top:\r\n",
        "        print (\"\\t%.4f\\t%-15s\\t\\t%.4f\\t%-15s\" % (coef_1, fn_1, coef_2, fn_2))"
      ],
      "execution_count": 267,
      "outputs": []
    },
    {
      "cell_type": "markdown",
      "metadata": {
        "id": "IfryXeHEJqZz"
      },
      "source": [
        "## **Techiques of vectorization**\r\n",
        "\r\n",
        "# Bag Of Words (BOW) "
      ]
    },
    {
      "cell_type": "code",
      "metadata": {
        "colab": {
          "base_uri": "https://localhost:8080/"
        },
        "id": "8aiw8dX0JcqU",
        "outputId": "cfdae365-9e47-4057-9ac5-299e63a0e3bb"
      },
      "source": [
        "from sklearn.feature_extraction.text import CountVectorizer\r\n",
        "count_vect=CountVectorizer()\r\n",
        "bow_train=count_vect.fit_transform(X_train)\r\n",
        "bow_test=count_vect.transform(X_test)\r\n",
        "print('Cv data size',bow_train.shape)\r\n",
        "print('test data size',bow_test.shape)\r\n"
      ],
      "execution_count": 268,
      "outputs": [
        {
          "output_type": "stream",
          "text": [
            "Cv data size (14000, 24859)\n",
            "test data size (6000, 24859)\n"
          ],
          "name": "stdout"
        }
      ]
    },
    {
      "cell_type": "code",
      "metadata": {
        "colab": {
          "base_uri": "https://localhost:8080/"
        },
        "id": "nZ2O0STGKiZI",
        "outputId": "210adaf5-146e-41db-ee7b-64b0a0037367"
      },
      "source": [
        "#normalize the data\r\n",
        "from sklearn.preprocessing import StandardScaler\r\n",
        "sc= StandardScaler(with_mean=False)\r\n",
        "bow_train=sc.fit_transform(bow_train)\r\n",
        "\r\n",
        "bow_test=sc.transform(bow_test)\r\n",
        "print('Cv data size',bow_train.shape)\r\n",
        "print('test data size',bow_test.shape)"
      ],
      "execution_count": 269,
      "outputs": [
        {
          "output_type": "stream",
          "text": [
            "Cv data size (14000, 24859)\n",
            "test data size (6000, 24859)\n"
          ],
          "name": "stdout"
        }
      ]
    },
    {
      "cell_type": "code",
      "metadata": {
        "colab": {
          "base_uri": "https://localhost:8080/",
          "height": 312
        },
        "id": "Qv5Ei1rzcl-t",
        "outputId": "781272ac-fc08-48db-fa54-089cf1c2ab37"
      },
      "source": [
        "logistic_l1(bow_train,bow_test,y_train,y_test)"
      ],
      "execution_count": 270,
      "outputs": [
        {
          "output_type": "display_data",
          "data": {
            "image/png": "[encoded data removed]",
            "text/plain": [
              "<Figure size 432x288 with 1 Axes>"
            ]
          },
          "metadata": {
            "tags": [],
            "needs_background": "light"
          }
        },
        {
          "output_type": "stream",
          "text": [
            " optimal C is 0.01 with best roc score is 0.8414893888888888\n"
          ],
          "name": "stdout"
        }
      ]
    },
    {
      "cell_type": "code",
      "metadata": {
        "colab": {
          "base_uri": "https://localhost:8080/",
          "height": 329
        },
        "id": "Z0K7hdZ8cuxA",
        "outputId": "12db58e4-da47-4c6a-f741-c98a0d729d9e"
      },
      "source": [
        "logistic_l2(bow_train,bow_test,y_train,y_test)"
      ],
      "execution_count": 271,
      "outputs": [
        {
          "output_type": "display_data",
          "data": {
            "image/png": "[encoded data removed]",
            "text/plain": [
              "<Figure size 432x288 with 1 Axes>"
            ]
          },
          "metadata": {
            "tags": [],
            "needs_background": "light"
          }
        },
        {
          "output_type": "stream",
          "text": [
            " optimal C is 0.0001 with best roc score is 0.8636125555555556\n"
          ],
          "name": "stdout"
        },
        {
          "output_type": "execute_result",
          "data": {
            "text/plain": [
              "0.0001"
            ]
          },
          "metadata": {
            "tags": []
          },
          "execution_count": 271
        }
      ]
    },
    {
      "cell_type": "code",
      "metadata": {
        "colab": {
          "base_uri": "https://localhost:8080/",
          "height": 862
        },
        "id": "ujU0V6xwmi-F",
        "outputId": "0d441217-bb4c-4f18-84cf-cf1ed43b2dd0"
      },
      "source": [
        "testingmodel_l1(bow_train,bow_test,y_train,y_test,optimal_c=0.01)"
      ],
      "execution_count": 272,
      "outputs": [
        {
          "output_type": "stream",
          "text": [
            "Test data report\n",
            "Best c 0.01\n"
          ],
          "name": "stdout"
        },
        {
          "output_type": "display_data",
          "data": {
            "image/png": "[encoded data removed]",
            "text/plain": [
              "<Figure size 432x288 with 2 Axes>"
            ]
          },
          "metadata": {
            "tags": [],
            "needs_background": "light"
          }
        },
        {
          "output_type": "stream",
          "text": [
            "macro f1 score for data : 0.8511651741841078\n",
            "micro f1 scoore for data: 0.8511666666666666\n",
            "hamming loss for data: 0.14883333333333335\n",
            "Precision recall report for data:\n",
            "               precision    recall  f1-score   support\n",
            "\n",
            "    negetive       0.85      0.85      0.85      3000\n",
            "    positive       0.85      0.85      0.85      3000\n",
            "\n",
            "    accuracy                           0.85      6000\n",
            "   macro avg       0.85      0.85      0.85      6000\n",
            "weighted avg       0.85      0.85      0.85      6000\n",
            "\n",
            "Test  auc 0.9211597777777778\n",
            "Train auc 0.9400618265306121\n"
          ],
          "name": "stdout"
        },
        {
          "output_type": "display_data",
          "data": {
            "image/png": "[encoded data removed]",
            "text/plain": [
              "<Figure size 432x288 with 1 Axes>"
            ]
          },
          "metadata": {
            "tags": [],
            "needs_background": "light"
          }
        }
      ]
    },
    {
      "cell_type": "code",
      "metadata": {
        "colab": {
          "base_uri": "https://localhost:8080/",
          "height": 845
        },
        "id": "9l6lzWhTnIX0",
        "outputId": "00d335ec-021d-4962-a029-637b1c154ff1"
      },
      "source": [
        "testingmodel_l2(bow_train,bow_test,y_train,y_test,optimal_c=0.0001)"
      ],
      "execution_count": 273,
      "outputs": [
        {
          "output_type": "stream",
          "text": [
            "Test data report\n",
            "Best c 0.0001\n"
          ],
          "name": "stdout"
        },
        {
          "output_type": "display_data",
          "data": {
            "image/png": "[encoded data removed]",
            "text/plain": [
              "<Figure size 432x288 with 2 Axes>"
            ]
          },
          "metadata": {
            "tags": [],
            "needs_background": "light"
          }
        },
        {
          "output_type": "stream",
          "text": [
            "macro f1 score for data : 0.8512428228553284\n",
            "hamming loss for data: 0.14866666666666667\n",
            "Precision recall report for data:\n",
            "               precision    recall  f1-score   support\n",
            "\n",
            "    negetive       0.87      0.83      0.85      3000\n",
            "    positive       0.83      0.88      0.85      3000\n",
            "\n",
            "    accuracy                           0.85      6000\n",
            "   macro avg       0.85      0.85      0.85      6000\n",
            "weighted avg       0.85      0.85      0.85      6000\n",
            "\n",
            "Test  auc 0.9210546666666667\n",
            "Train auc 0.9943011428571429\n"
          ],
          "name": "stdout"
        },
        {
          "output_type": "display_data",
          "data": {
            "image/png": "[encoded data removed]",
            "text/plain": [
              "<Figure size 432x288 with 1 Axes>"
            ]
          },
          "metadata": {
            "tags": [],
            "needs_background": "light"
          }
        }
      ]
    },
    {
      "cell_type": "code",
      "metadata": {
        "id": "bXD_WE7GolRO",
        "colab": {
          "base_uri": "https://localhost:8080/"
        },
        "outputId": "5d27f6f4-59d6-4950-f523-360063442b5a"
      },
      "source": [
        "#Top 10 important features of L1 regularization\r\n",
        "clf=LogisticRegression(C=0.01,solver='liblinear', penalty='l1')\r\n",
        "clf.fit(bow_train,y_train)\r\n",
        "show_most_informative_features(count_vect,clf)"
      ],
      "execution_count": 274,
      "outputs": [
        {
          "output_type": "stream",
          "text": [
            "\t-0.3839\tnot            \t\t0.4276\tgreat          \n",
            "\t-0.3277\tdisappoint     \t\t0.3300\tbest           \n",
            "\t-0.2081\twas            \t\t0.3254\tlove           \n",
            "\t-0.1886\thorribl        \t\t0.2405\tgood           \n",
            "\t-0.1791\treturn         \t\t0.2388\tperfect        \n",
            "\t-0.1754\tworst          \t\t0.2372\tdelici         \n",
            "\t-0.1628\taw             \t\t0.1833\tnice           \n",
            "\t-0.1540\ttast           \t\t0.1344\texcel          \n",
            "\t-0.1500\tunfortun       \t\t0.1331\twonder         \n",
            "\t-0.1342\tstale          \t\t0.1314\tkeep           \n"
          ],
          "name": "stdout"
        }
      ]
    },
    {
      "cell_type": "code",
      "metadata": {
        "colab": {
          "base_uri": "https://localhost:8080/"
        },
        "id": "z58yVBEp8lDH",
        "outputId": "ee3844e5-8b5d-49c0-8b92-2a319b63037f"
      },
      "source": [
        "clf2=LogisticRegression(penalty='l2',C=0.0001)\r\n",
        "clf2.fit(bow_train,y_train)\r\n",
        "show_most_informative_features(count_vect,clf2)"
      ],
      "execution_count": 275,
      "outputs": [
        {
          "output_type": "stream",
          "text": [
            "\t-0.0627\tnot            \t\t0.0773\tgreat          \n",
            "\t-0.0611\tdisappoint     \t\t0.0634\tlove           \n",
            "\t-0.0430\twas            \t\t0.0500\tbest           \n",
            "\t-0.0370\twast           \t\t0.0462\tdelici         \n",
            "\t-0.0365\tmoney          \t\t0.0436\tperfect        \n",
            "\t-0.0361\tbad            \t\t0.0336\tgood           \n",
            "\t-0.0358\tworst          \t\t0.0330\tnice           \n",
            "\t-0.0355\taw             \t\t0.0319\tfavorit        \n",
            "\t-0.0352\treturn         \t\t0.0308\teasi           \n",
            "\t-0.0337\tterribl        \t\t0.0305\texcel          \n"
          ],
          "name": "stdout"
        }
      ]
    },
    {
      "cell_type": "markdown",
      "metadata": {
        "id": "mkao86t19D7p"
      },
      "source": [
        "## Sparsity in L1 Regularization"
      ]
    },
    {
      "cell_type": "code",
      "metadata": {
        "id": "azPxcriW87Fz"
      },
      "source": [
        "def sparsity(X_train,y_train,X_test,y_test):\r\n",
        "  C=[10**-4,10**-2,10**0,10**2,10**4]\r\n",
        "  for i in C:\r\n",
        "    lr=LogisticRegression(penalty='l1',solver='liblinear',C=i)\r\n",
        "    lr.fit(X_train,y_train)\r\n",
        "    pred=lr.predict(X_test)\r\n",
        "    print('C value -', i  ,'ll value is =l1')\r\n",
        "    \r\n",
        "    print('Non zero weight',np.count_nonzero(lr.coef_))\r\n",
        "    print('-'*50)"
      ],
      "execution_count": 276,
      "outputs": []
    },
    {
      "cell_type": "code",
      "metadata": {
        "colab": {
          "base_uri": "https://localhost:8080/"
        },
        "id": "4sLPxmec-GU5",
        "outputId": "af5b9037-ea79-42f3-dc55-a546dd89ae71"
      },
      "source": [
        "sparsity(bow_train,y_train,bow_test,y_test)"
      ],
      "execution_count": 277,
      "outputs": [
        {
          "output_type": "stream",
          "text": [
            "C value - 0.0001 ll value is =l1\n",
            "Non zero weight 0\n",
            "--------------------------------------------------\n",
            "C value - 0.01 ll value is =l1\n",
            "Non zero weight 641\n",
            "--------------------------------------------------\n",
            "C value - 1 ll value is =l1\n",
            "Non zero weight 6581\n",
            "--------------------------------------------------\n",
            "C value - 100 ll value is =l1\n",
            "Non zero weight 10545\n",
            "--------------------------------------------------\n",
            "C value - 10000 ll value is =l1\n",
            "Non zero weight 14641\n",
            "--------------------------------------------------\n"
          ],
          "name": "stdout"
        }
      ]
    },
    {
      "cell_type": "markdown",
      "metadata": {
        "id": "DhCCfGNj_7n0"
      },
      "source": [
        "## **Pertubation Test BOW**"
      ]
    },
    {
      "cell_type": "code",
      "metadata": {
        "colab": {
          "base_uri": "https://localhost:8080/"
        },
        "id": "O1j4qYbP_9hK",
        "outputId": "30e32005-87b4-4109-9225-f6933c79569c"
      },
      "source": [
        "from scipy.sparse import find\r\n",
        "model=LogisticRegression(penalty='l2',C=0.0001)\r\n",
        "model.fit(bow_train,y_train)\r\n",
        "weights=find(model.coef_[0])[2]  #weights before adding noise\r\n",
        "print('Non zero weeighs',np.count_nonzero(model.coef_))"
      ],
      "execution_count": 278,
      "outputs": [
        {
          "output_type": "stream",
          "text": [
            "Non zero weeighs 24859\n"
          ],
          "name": "stdout"
        }
      ]
    },
    {
      "cell_type": "code",
      "metadata": {
        "id": "XokhvJ2M-PmH"
      },
      "source": [
        "bow_train_noise=bow_train\r\n",
        "epsilon=np.random.uniform(low=-0.00001,high=0.00001,size=(find(bow_train_noise)[0].size))\r\n",
        "a,b,c=find(bow_train_noise)\r\n",
        "bow_train_noise[a,b]=epsilon+bow_train[a,b]\r\n"
      ],
      "execution_count": 279,
      "outputs": []
    },
    {
      "cell_type": "code",
      "metadata": {
        "colab": {
          "base_uri": "https://localhost:8080/"
        },
        "id": "pvLRKYPLDCMu",
        "outputId": "ff6d2bb8-173c-452a-f521-cd4b1f89cbca"
      },
      "source": [
        "model2=LogisticRegression(C=0.0001,penalty='l2')\r\n",
        "model2.fit(bow_train_noise,y_train)\r\n",
        "weights2=find(model2.coef_[0])[2]\r\n",
        "print('Non zero weights',np.count_nonzero(weights2))\r\n"
      ],
      "execution_count": 280,
      "outputs": [
        {
          "output_type": "stream",
          "text": [
            "Non zero weights 24859\n"
          ],
          "name": "stdout"
        }
      ]
    },
    {
      "cell_type": "code",
      "metadata": {
        "colab": {
          "base_uri": "https://localhost:8080/",
          "height": 285
        },
        "id": "nO-PY6GxEk0x",
        "outputId": "07d315ea-b57b-4d6a-9cd7-d282b74c81ca"
      },
      "source": [
        "percentage_change_vector=(abs(weights-weights2)/(weights))*100\r\n",
        "plt.plot(percentage_change_vector)"
      ],
      "execution_count": 281,
      "outputs": [
        {
          "output_type": "execute_result",
          "data": {
            "text/plain": [
              "[<matplotlib.lines.Line2D at 0x7f12483183c8>]"
            ]
          },
          "metadata": {
            "tags": []
          },
          "execution_count": 281
        },
        {
          "output_type": "display_data",
          "data": {
            "image/png": "[encoded data removed]",
            "text/plain": [
              "<Figure size 432x288 with 1 Axes>"
            ]
          },
          "metadata": {
            "tags": [],
            "needs_background": "light"
          }
        }
      ]
    },
    {
      "cell_type": "code",
      "metadata": {
        "colab": {
          "base_uri": "https://localhost:8080/"
        },
        "id": "WYa17USQE-Pw",
        "outputId": "d1db6687-44b9-4c00-8efc-1a27d623068f"
      },
      "source": [
        "print(percentage_change_vector[np.where(percentage_change_vector>0.10)].size)"
      ],
      "execution_count": 282,
      "outputs": [
        {
          "output_type": "stream",
          "text": [
            "0\n"
          ],
          "name": "stdout"
        }
      ]
    },
    {
      "cell_type": "markdown",
      "metadata": {
        "id": "UIE5WZloHl7S"
      },
      "source": [
        "## Top collinear featues after perbutraion test"
      ]
    },
    {
      "cell_type": "code",
      "metadata": {
        "colab": {
          "base_uri": "https://localhost:8080/"
        },
        "id": "7PDqc_cZGY8z",
        "outputId": "994fb1e6-5a47-4fdb-8d13-38b042aede5f"
      },
      "source": [
        "index=np.argsort(np.abs(weights-weights2))[::-1]\r\n",
        "features=count_vect.get_feature_names()\r\n",
        "features=np.array(features)\r\n",
        "a=features[index]\r\n",
        "print(a[:10])"
      ],
      "execution_count": 283,
      "outputs": [
        {
          "output_type": "stream",
          "text": [
            "['dont' 'too' 'they' 'the' 'much' 'this' 'and' 'was' 'more' 'love']\n"
          ],
          "name": "stdout"
        }
      ]
    },
    {
      "cell_type": "markdown",
      "metadata": {
        "id": "2tVeJhSpIOIl"
      },
      "source": [
        "# TFIDF"
      ]
    },
    {
      "cell_type": "code",
      "metadata": {
        "colab": {
          "base_uri": "https://localhost:8080/"
        },
        "id": "WSwz8XXxHr25",
        "outputId": "9b16523c-f59c-42c4-f4b0-1ca15403ae81"
      },
      "source": [
        "from sklearn.feature_extraction.text import TfidfVectorizer\r\n",
        "tf_idf_vect=TfidfVectorizer(ngram_range=(1,2))\r\n",
        "tfidf_train=tf_idf_vect.fit_transform(X_train)\r\n",
        "tfidf_test=tf_idf_vect.transform(X_test)\r\n",
        "print('Train data size',tfidf_train.shape)\r\n",
        "print('Test data size',tfidf_test.shape)"
      ],
      "execution_count": 284,
      "outputs": [
        {
          "output_type": "stream",
          "text": [
            "Train data size (14000, 330723)\n",
            "Test data size (6000, 330723)\n"
          ],
          "name": "stdout"
        }
      ]
    },
    {
      "cell_type": "code",
      "metadata": {
        "colab": {
          "base_uri": "https://localhost:8080/"
        },
        "id": "erCNTNJcI20t",
        "outputId": "4b955017-b889-4e7e-fe17-ed48be2794a9"
      },
      "source": [
        "#Normalize data\r\n",
        "sc=StandardScaler(with_mean=False)\r\n",
        "tfidf_train=sc.fit_transform(tfidf_train)\r\n",
        "tfidf_test=sc.transform(tfidf_test)\r\n",
        "print('The shape of tfidf vectorizer',tfidf_train.get_shape())\r\n",
        "print('Test data size',tfidf_test.shape)"
      ],
      "execution_count": 285,
      "outputs": [
        {
          "output_type": "stream",
          "text": [
            "The shape of tfidf vectorizer (14000, 330723)\n",
            "Test data size (6000, 330723)\n"
          ],
          "name": "stdout"
        }
      ]
    },
    {
      "cell_type": "code",
      "metadata": {
        "colab": {
          "base_uri": "https://localhost:8080/",
          "height": 312
        },
        "id": "nHfoDMgwJYlA",
        "outputId": "b30d8c29-faa2-4342-cb6c-e49af338e9eb"
      },
      "source": [
        "logistic_l1(tfidf_train,tfidf_test,y_train,y_test)"
      ],
      "execution_count": 286,
      "outputs": [
        {
          "output_type": "display_data",
          "data": {
            "image/png": "[encoded data removed]",
            "text/plain": [
              "<Figure size 432x288 with 1 Axes>"
            ]
          },
          "metadata": {
            "tags": [],
            "needs_background": "light"
          }
        },
        {
          "output_type": "stream",
          "text": [
            " optimal C is 1 with best roc score is 0.9019159999999999\n"
          ],
          "name": "stdout"
        }
      ]
    },
    {
      "cell_type": "code",
      "metadata": {
        "colab": {
          "base_uri": "https://localhost:8080/",
          "height": 329
        },
        "id": "-bmVCH0DJo6n",
        "outputId": "a62b0fd4-b91f-4249-d06d-d058adf0e2be"
      },
      "source": [
        "logistic_l2(tfidf_train,tfidf_test,y_train,y_test)"
      ],
      "execution_count": 287,
      "outputs": [
        {
          "output_type": "display_data",
          "data": {
            "image/png": "[encoded data removed]",
            "text/plain": [
              "<Figure size 432x288 with 1 Axes>"
            ]
          },
          "metadata": {
            "tags": [],
            "needs_background": "light"
          }
        },
        {
          "output_type": "stream",
          "text": [
            " optimal C is 10000 with best roc score is 0.948011888888889\n"
          ],
          "name": "stdout"
        },
        {
          "output_type": "execute_result",
          "data": {
            "text/plain": [
              "10000"
            ]
          },
          "metadata": {
            "tags": []
          },
          "execution_count": 287
        }
      ]
    },
    {
      "cell_type": "code",
      "metadata": {
        "colab": {
          "base_uri": "https://localhost:8080/",
          "height": 862
        },
        "id": "14G4oOSEJwW3",
        "outputId": "b8ebeb0a-6c33-4204-f0a5-6edbda0ae988"
      },
      "source": [
        "testingmodel_l1(tfidf_train,tfidf_test,y_train,y_test,optimal_c=1)"
      ],
      "execution_count": 288,
      "outputs": [
        {
          "output_type": "stream",
          "text": [
            "Test data report\n",
            "Best c 1\n"
          ],
          "name": "stdout"
        },
        {
          "output_type": "display_data",
          "data": {
            "image/png": "[encoded data removed]",
            "text/plain": [
              "<Figure size 432x288 with 2 Axes>"
            ]
          },
          "metadata": {
            "tags": [],
            "needs_background": "light"
          }
        },
        {
          "output_type": "stream",
          "text": [
            "macro f1 score for data : 0.8889999876666652\n",
            "micro f1 scoore for data: 0.889\n",
            "hamming loss for data: 0.111\n",
            "Precision recall report for data:\n",
            "               precision    recall  f1-score   support\n",
            "\n",
            "    negetive       0.89      0.89      0.89      3000\n",
            "    positive       0.89      0.89      0.89      3000\n",
            "\n",
            "    accuracy                           0.89      6000\n",
            "   macro avg       0.89      0.89      0.89      6000\n",
            "weighted avg       0.89      0.89      0.89      6000\n",
            "\n",
            "Test  auc 0.9550388888888888\n",
            "Train auc 0.9999999999999999\n"
          ],
          "name": "stdout"
        },
        {
          "output_type": "display_data",
          "data": {
            "image/png": "[encoded data removed]",
            "text/plain": [
              "<Figure size 432x288 with 1 Axes>"
            ]
          },
          "metadata": {
            "tags": [],
            "needs_background": "light"
          }
        }
      ]
    },
    {
      "cell_type": "code",
      "metadata": {
        "colab": {
          "base_uri": "https://localhost:8080/",
          "height": 845
        },
        "id": "8bob9jFmKC6z",
        "outputId": "e9dee312-ffb4-4d67-9a0e-3e133ec4588b"
      },
      "source": [
        "testingmodel_l2(tfidf_train,tfidf_test,y_train,y_test,optimal_c=1000)"
      ],
      "execution_count": 289,
      "outputs": [
        {
          "output_type": "stream",
          "text": [
            "Test data report\n",
            "Best c 1000\n"
          ],
          "name": "stdout"
        },
        {
          "output_type": "display_data",
          "data": {
            "image/png": "[encoded data removed]",
            "text/plain": [
              "<Figure size 432x288 with 2 Axes>"
            ]
          },
          "metadata": {
            "tags": [],
            "needs_background": "light"
          }
        },
        {
          "output_type": "stream",
          "text": [
            "macro f1 score for data : 0.8833328666647999\n",
            "hamming loss for data: 0.11666666666666667\n",
            "Precision recall report for data:\n",
            "               precision    recall  f1-score   support\n",
            "\n",
            "    negetive       0.88      0.89      0.88      3000\n",
            "    positive       0.88      0.88      0.88      3000\n",
            "\n",
            "    accuracy                           0.88      6000\n",
            "   macro avg       0.88      0.88      0.88      6000\n",
            "weighted avg       0.88      0.88      0.88      6000\n",
            "\n",
            "Test  auc 0.9490538888888889\n",
            "Train auc 1.0\n"
          ],
          "name": "stdout"
        },
        {
          "output_type": "display_data",
          "data": {
            "image/png": "[encoded data removed]",
            "text/plain": [
              "<Figure size 432x288 with 1 Axes>"
            ]
          },
          "metadata": {
            "tags": [],
            "needs_background": "light"
          }
        }
      ]
    },
    {
      "cell_type": "markdown",
      "metadata": {
        "id": "dWFpYb3LM_9-"
      },
      "source": [
        "# **AVG W2V**"
      ]
    },
    {
      "cell_type": "code",
      "metadata": {
        "id": "z-FUN-cEKoYL"
      },
      "source": [
        "list_of_sent_train=[]\r\n",
        "\r\n",
        "for sent in X_train:\r\n",
        "  filtered_sentence=[]\r\n",
        "  sent=cleanhtml(sent)\r\n",
        "  for w in sent.split():\r\n",
        "    for cleanword in cleanpunc(w).split():\r\n",
        "      if (cleanword.isalpha()):\r\n",
        "        filtered_sentence.append(cleanword.lower())\r\n",
        "      else:\r\n",
        "        continue\r\n",
        "  list_of_sent_train.append(filtered_sentence)"
      ],
      "execution_count": 290,
      "outputs": []
    },
    {
      "cell_type": "code",
      "metadata": {
        "id": "LZ3cVVBeNrFL"
      },
      "source": [
        "list_of_sent_test=[]\r\n",
        "\r\n",
        "for sent in X_test:\r\n",
        "  filtered_sentence=[]\r\n",
        "  sent=cleanhtml(sent)\r\n",
        "  for w in sent.split():\r\n",
        "    for cleanword in cleanpunc(w).split():\r\n",
        "      if (cleanword.isalpha()):\r\n",
        "        filtered_sentence.append(cleanword.lower())\r\n",
        "      else:\r\n",
        "        continue\r\n",
        "  list_of_sent_test.append(filtered_sentence)"
      ],
      "execution_count": 291,
      "outputs": []
    },
    {
      "cell_type": "code",
      "metadata": {
        "id": "cGtNWIJqNt5x"
      },
      "source": [
        "import gensim\r\n",
        "w2v_model=gensim.models.Word2Vec(list_of_sent_train,min_count=5,size=50,workers=4)\r\n",
        "w2v_words=list(w2v_model.wv.vocab)"
      ],
      "execution_count": 292,
      "outputs": []
    },
    {
      "cell_type": "code",
      "metadata": {
        "id": "mstNEBfyObnv"
      },
      "source": [
        "sent_vectors_train = []; # the avg-w2v for each sentence/review is stored in this list\r\n",
        "for sent in list_of_sent_train: # for each review/sentence\r\n",
        "  sent_vec = np.zeros(50) # as word vectors are of zero length\r\n",
        "  cnt_words =0; # num of words with a valid vector in the sentence/review\r\n",
        "  for word in sent: # for each word in a review/sentence\r\n",
        "    if word in w2v_words:\r\n",
        "      vec = w2v_model.wv[word]\r\n",
        "      sent_vec += vec\r\n",
        "      cnt_words += 1\r\n",
        "  if cnt_words != 0:\r\n",
        "    sent_vec /= cnt_words\r\n",
        "    sent_vectors_train.append(sent_vec)        "
      ],
      "execution_count": 293,
      "outputs": []
    },
    {
      "cell_type": "code",
      "metadata": {
        "colab": {
          "base_uri": "https://localhost:8080/"
        },
        "id": "-iUG-rfkSHnO",
        "outputId": "dbb3a492-bcf9-4d3b-b14e-601b7879b4a1"
      },
      "source": [
        "print(len(sent_vectors_train))\r\n",
        "print(len(sent_vectors_train[0]))"
      ],
      "execution_count": 294,
      "outputs": [
        {
          "output_type": "stream",
          "text": [
            "14000\n",
            "50\n"
          ],
          "name": "stdout"
        }
      ]
    },
    {
      "cell_type": "code",
      "metadata": {
        "id": "4e_QKFjgWHRG"
      },
      "source": [
        "w2v_model1=gensim.models.Word2Vec(list_of_sent_test,min_count=5,size=50,workers=4)\r\n",
        "w2v_words1=list(w2v_model1.wv.vocab)"
      ],
      "execution_count": 295,
      "outputs": []
    },
    {
      "cell_type": "code",
      "metadata": {
        "id": "aYzCx1QeSygK"
      },
      "source": [
        "sent_vectors_test = []; # the avg-w2v for each sentence/review is stored in this list\r\n",
        "for sent in list_of_sent_test: # for each review/sentence\r\n",
        "  sent_vec = np.zeros(50) # as word vectors are of zero length\r\n",
        "  cnt_words =0; # num of words with a valid vector in the sentence/review\r\n",
        "  for word in sent: # for each word in a review/sentence\r\n",
        "    if word in w2v_words1:\r\n",
        "      vec = w2v_model1.wv[word]\r\n",
        "      sent_vec += vec\r\n",
        "      cnt_words += 1\r\n",
        "  if cnt_words != 0:\r\n",
        "    sent_vec /= cnt_words\r\n",
        "    sent_vectors_test.append(sent_vec)  "
      ],
      "execution_count": 296,
      "outputs": []
    },
    {
      "cell_type": "code",
      "metadata": {
        "colab": {
          "base_uri": "https://localhost:8080/"
        },
        "id": "Tf6_6572Urk6",
        "outputId": "dd3645b4-bf82-42fc-d2a3-7a9f5b8d09bd"
      },
      "source": [
        "print(len(sent_vectors_test))\r\n",
        "print(len(sent_vectors_test[0]))\r\n"
      ],
      "execution_count": 297,
      "outputs": [
        {
          "output_type": "stream",
          "text": [
            "6000\n",
            "50\n"
          ],
          "name": "stdout"
        }
      ]
    },
    {
      "cell_type": "code",
      "metadata": {
        "id": "ulf0IczqVuI0"
      },
      "source": [
        "train_avgw2v=sent_vectors_train\r\n",
        "test_avgw2v=sent_vectors_test"
      ],
      "execution_count": 298,
      "outputs": []
    },
    {
      "cell_type": "code",
      "metadata": {
        "id": "S6p2HBpMXLzp"
      },
      "source": [
        "from sklearn.preprocessing import StandardScaler\r\n",
        "sc=StandardScaler()\r\n",
        "\r\n",
        "train_avgw2v=sc.fit_transform(train_avgw2v)\r\n",
        "test_avgw2v=sc.transform(test_avgw2v)"
      ],
      "execution_count": 299,
      "outputs": []
    },
    {
      "cell_type": "code",
      "metadata": {
        "colab": {
          "base_uri": "https://localhost:8080/",
          "height": 312
        },
        "id": "qsSSexOzW92J",
        "outputId": "735c6085-e6bf-4a5a-a1ba-14b3d1d884b6"
      },
      "source": [
        "logistic_l1(train_avgw2v,test_avgw2v,y_train,y_test)"
      ],
      "execution_count": 300,
      "outputs": [
        {
          "output_type": "display_data",
          "data": {
            "image/png": "[encoded data removed]",
            "text/plain": [
              "<Figure size 432x288 with 1 Axes>"
            ]
          },
          "metadata": {
            "tags": [],
            "needs_background": "light"
          }
        },
        {
          "output_type": "stream",
          "text": [
            " optimal C is 1 with best roc score is 0.6922510000000001\n"
          ],
          "name": "stdout"
        }
      ]
    },
    {
      "cell_type": "code",
      "metadata": {
        "colab": {
          "base_uri": "https://localhost:8080/",
          "height": 329
        },
        "id": "vxbp5iD3XHJh",
        "outputId": "76abb151-d256-4271-a3ea-5818b2d2a3e5"
      },
      "source": [
        "logistic_l2(train_avgw2v,test_avgw2v,y_train,y_test)"
      ],
      "execution_count": 301,
      "outputs": [
        {
          "output_type": "display_data",
          "data": {
            "image/png": "[encoded data removed]",
            "text/plain": [
              "<Figure size 432x288 with 1 Axes>"
            ]
          },
          "metadata": {
            "tags": [],
            "needs_background": "light"
          }
        },
        {
          "output_type": "stream",
          "text": [
            " optimal C is 1 with best roc score is 0.6922751111111112\n"
          ],
          "name": "stdout"
        },
        {
          "output_type": "execute_result",
          "data": {
            "text/plain": [
              "1"
            ]
          },
          "metadata": {
            "tags": []
          },
          "execution_count": 301
        }
      ]
    },
    {
      "cell_type": "code",
      "metadata": {
        "colab": {
          "base_uri": "https://localhost:8080/",
          "height": 862
        },
        "id": "IOYeISKEZiQZ",
        "outputId": "e4cd71b0-e3b9-4248-d402-31f33a34e6b4"
      },
      "source": [
        "testingmodel_l1(train_avgw2v,test_avgw2v,y_train,y_test,optimal_c=1)"
      ],
      "execution_count": 302,
      "outputs": [
        {
          "output_type": "stream",
          "text": [
            "Test data report\n",
            "Best c 1\n"
          ],
          "name": "stdout"
        },
        {
          "output_type": "display_data",
          "data": {
            "image/png": "[encoded data removed]",
            "text/plain": [
              "<Figure size 432x288 with 2 Axes>"
            ]
          },
          "metadata": {
            "tags": [],
            "needs_background": "light"
          }
        },
        {
          "output_type": "stream",
          "text": [
            "macro f1 score for data : 0.3835616438356164\n",
            "micro f1 scoore for data: 0.514\n",
            "hamming loss for data: 0.486\n",
            "Precision recall report for data:\n",
            "               precision    recall  f1-score   support\n",
            "\n",
            "    negetive       0.68      0.05      0.10      3000\n",
            "    positive       0.51      0.97      0.67      3000\n",
            "\n",
            "    accuracy                           0.51      6000\n",
            "   macro avg       0.59      0.51      0.38      6000\n",
            "weighted avg       0.59      0.51      0.38      6000\n",
            "\n",
            "Test  auc 0.6933884444444445\n",
            "Train auc 0.8802137551020407\n"
          ],
          "name": "stdout"
        },
        {
          "output_type": "display_data",
          "data": {
            "image/png": "[encoded data removed]",
            "text/plain": [
              "<Figure size 432x288 with 1 Axes>"
            ]
          },
          "metadata": {
            "tags": [],
            "needs_background": "light"
          }
        }
      ]
    },
    {
      "cell_type": "code",
      "metadata": {
        "colab": {
          "base_uri": "https://localhost:8080/",
          "height": 862
        },
        "id": "u1R73PZeZ27-",
        "outputId": "6bdb9695-6082-43df-ad51-5c5887270da8"
      },
      "source": [
        "testingmodel_l1(train_avgw2v,test_avgw2v,y_train,y_test,optimal_c=1)"
      ],
      "execution_count": 303,
      "outputs": [
        {
          "output_type": "stream",
          "text": [
            "Test data report\n",
            "Best c 1\n"
          ],
          "name": "stdout"
        },
        {
          "output_type": "display_data",
          "data": {
            "image/png": "[encoded data removed]",
            "text/plain": [
              "<Figure size 432x288 with 2 Axes>"
            ]
          },
          "metadata": {
            "tags": [],
            "needs_background": "light"
          }
        },
        {
          "output_type": "stream",
          "text": [
            "macro f1 score for data : 0.3825085219080875\n",
            "micro f1 scoore for data: 0.5138333333333334\n",
            "hamming loss for data: 0.4861666666666667\n",
            "Precision recall report for data:\n",
            "               precision    recall  f1-score   support\n",
            "\n",
            "    negetive       0.68      0.05      0.10      3000\n",
            "    positive       0.51      0.97      0.67      3000\n",
            "\n",
            "    accuracy                           0.51      6000\n",
            "   macro avg       0.59      0.51      0.38      6000\n",
            "weighted avg       0.59      0.51      0.38      6000\n",
            "\n",
            "Test  auc 0.6933605555555555\n",
            "Train auc 0.8802131428571428\n"
          ],
          "name": "stdout"
        },
        {
          "output_type": "display_data",
          "data": {
            "image/png": "[encoded data removed]",
            "text/plain": [
              "<Figure size 432x288 with 1 Axes>"
            ]
          },
          "metadata": {
            "tags": [],
            "needs_background": "light"
          }
        }
      ]
    },
    {
      "cell_type": "markdown",
      "metadata": {
        "id": "KC8A30g9aX97"
      },
      "source": [
        "## **TF-IDF weighted W2V**"
      ]
    },
    {
      "cell_type": "code",
      "metadata": {
        "colab": {
          "base_uri": "https://localhost:8080/"
        },
        "id": "3UB8VqmqZ_Oc",
        "outputId": "ee14798e-6ecb-4944-926f-b6635b13180d"
      },
      "source": [
        "from sklearn.feature_extraction.text import TfidfVectorizer\r\n",
        "tf_idf_vect=TfidfVectorizer(ngram_range=(1,2))\r\n",
        "tfidf_train=tf_idf_vect.fit_transform(X_train)\r\n",
        "tfidf_test=tf_idf_vect.transform(X_test)\r\n",
        "print('Train data size',tfidf_train.shape)\r\n",
        "print('Test data size',tfidf_test.shape)"
      ],
      "execution_count": 307,
      "outputs": [
        {
          "output_type": "stream",
          "text": [
            "Train data size (14000, 330723)\n",
            "Test data size (6000, 330723)\n"
          ],
          "name": "stdout"
        }
      ]
    },
    {
      "cell_type": "code",
      "metadata": {
        "id": "jBIolvRNa_i7"
      },
      "source": [
        "t=tf_idf_vect.get_feature_names()\r\n",
        "tfidf_sent_vectors_train=[]\r\n",
        "row=0\r\n",
        "for sent in list_of_sent_train:\r\n",
        "  sent_vec=np.zeros(50)\r\n",
        "  cnt_words=0\r\n",
        "  for word in sent:\r\n",
        "    if word in w2v_words:\r\n",
        "      vec=w2v_model.wv[word]\r\n",
        "      tfidf=tfidf_train[row,t.index(word)]\r\n",
        "      sent_vec+=(vec*tfidf)\r\n",
        "      cnt_words+=tfidf\r\n",
        "  if cnt_words!=0:\r\n",
        "    tfidf_sent_vectors_train.append(sent_vec)\r\n",
        "    row+=1\r\n"
      ],
      "execution_count": 308,
      "outputs": []
    },
    {
      "cell_type": "code",
      "metadata": {
        "id": "wGdu8fW-cMCo"
      },
      "source": [
        "t=tf_idf_vect.get_feature_names()\r\n",
        "tfidf_sent_vectors_test=[]\r\n",
        "row=0\r\n",
        "for sent in list_of_sent_test:\r\n",
        "  sent_vec=np.zeros(50)\r\n",
        "  cnt_words=0\r\n",
        "  for word in sent:\r\n",
        "    try:\r\n",
        "      if word in w2v_words1:\r\n",
        "        vec=w2v_model1.wv[word]\r\n",
        "        tfidf=tfidf_test[row,t.index(word)]\r\n",
        "        sent_vec+=(vec*tfidf)\r\n",
        "        cnt_words+=tfidf\r\n",
        "    except:\r\n",
        "      pass\r\n",
        "  if cnt_words!=0:\r\n",
        "    tfidf_sent_vectors_test.append(sent_vec)\r\n",
        "    row+=1\r\n"
      ],
      "execution_count": 310,
      "outputs": []
    },
    {
      "cell_type": "code",
      "metadata": {
        "id": "z3iLcyAOdAWE"
      },
      "source": [
        "train_tfidfw2v=tfidf_sent_vectors_train\r\n",
        "test_tfidfw2v=tfidf_sent_vectors_test"
      ],
      "execution_count": 312,
      "outputs": []
    },
    {
      "cell_type": "code",
      "metadata": {
        "id": "jJh_5Ua1koau"
      },
      "source": [
        "from sklearn.preprocessing import StandardScaler\r\n",
        "sc=StandardScaler()\r\n",
        "train_tfidfw2v=sc.fit_transform(train_tfidfw2v)\r\n",
        "test_tfidfw2v=sc.transform(test_tfidfw2v)\r\n"
      ],
      "execution_count": 313,
      "outputs": []
    },
    {
      "cell_type": "code",
      "metadata": {
        "colab": {
          "base_uri": "https://localhost:8080/",
          "height": 312
        },
        "id": "7INyhNnlk9XA",
        "outputId": "022d5685-582f-429b-b8cf-b36b6ea65806"
      },
      "source": [
        "logistic_l1(train_tfidfw2v,test_tfidfw2v,y_train,y_test)"
      ],
      "execution_count": 314,
      "outputs": [
        {
          "output_type": "display_data",
          "data": {
            "image/png": "[encoded data removed]",
            "text/plain": [
              "<Figure size 432x288 with 1 Axes>"
            ]
          },
          "metadata": {
            "tags": [],
            "needs_background": "light"
          }
        },
        {
          "output_type": "stream",
          "text": [
            " optimal C is 1 with best roc score is 0.5749915555555556\n"
          ],
          "name": "stdout"
        }
      ]
    },
    {
      "cell_type": "code",
      "metadata": {
        "colab": {
          "base_uri": "https://localhost:8080/",
          "height": 329
        },
        "id": "IwwOEqxHlGoZ",
        "outputId": "cc2c6238-9a38-402a-f22f-7de33d56ccca"
      },
      "source": [
        "logistic_l2(train_tfidfw2v,test_tfidfw2v,y_train,y_test)\r\n"
      ],
      "execution_count": 315,
      "outputs": [
        {
          "output_type": "display_data",
          "data": {
            "image/png": "[encoded data removed]",
            "text/plain": [
              "<Figure size 432x288 with 1 Axes>"
            ]
          },
          "metadata": {
            "tags": [],
            "needs_background": "light"
          }
        },
        {
          "output_type": "stream",
          "text": [
            " optimal C is 1 with best roc score is 0.5737805555555556\n"
          ],
          "name": "stdout"
        },
        {
          "output_type": "execute_result",
          "data": {
            "text/plain": [
              "1"
            ]
          },
          "metadata": {
            "tags": []
          },
          "execution_count": 315
        }
      ]
    },
    {
      "cell_type": "code",
      "metadata": {
        "colab": {
          "base_uri": "https://localhost:8080/",
          "height": 862
        },
        "id": "YJgHu2VMlVZj",
        "outputId": "1044e9a9-775a-46e8-ad87-f7654023e3b0"
      },
      "source": [
        "testingmodel_l1(train_tfidfw2v,test_tfidfw2v,y_train,y_test,optimal_c=1)"
      ],
      "execution_count": 316,
      "outputs": [
        {
          "output_type": "stream",
          "text": [
            "Test data report\n",
            "Best c 1\n"
          ],
          "name": "stdout"
        },
        {
          "output_type": "display_data",
          "data": {
            "image/png": "[encoded data removed]",
            "text/plain": [
              "<Figure size 432x288 with 2 Axes>"
            ]
          },
          "metadata": {
            "tags": [],
            "needs_background": "light"
          }
        },
        {
          "output_type": "stream",
          "text": [
            "macro f1 score for data : 0.43337399111737673\n",
            "micro f1 scoore for data: 0.5291666666666667\n",
            "hamming loss for data: 0.4708333333333333\n",
            "Precision recall report for data:\n",
            "               precision    recall  f1-score   support\n",
            "\n",
            "    negetive       0.66      0.12      0.20      3000\n",
            "    positive       0.52      0.94      0.67      3000\n",
            "\n",
            "    accuracy                           0.53      6000\n",
            "   macro avg       0.59      0.53      0.43      6000\n",
            "weighted avg       0.59      0.53      0.43      6000\n",
            "\n",
            "Test  auc 0.58574\n",
            "Train auc 0.8484162857142857\n"
          ],
          "name": "stdout"
        },
        {
          "output_type": "display_data",
          "data": {
            "image/png": "[encoded data removed]",
            "text/plain": [
              "<Figure size 432x288 with 1 Axes>"
            ]
          },
          "metadata": {
            "tags": [],
            "needs_background": "light"
          }
        }
      ]
    },
    {
      "cell_type": "code",
      "metadata": {
        "colab": {
          "base_uri": "https://localhost:8080/",
          "height": 845
        },
        "id": "mYe0E5sYlbEx",
        "outputId": "b59c5462-2cba-48f4-df7e-2dccbd11b0ed"
      },
      "source": [
        "testingmodel_l2(train_tfidfw2v,test_tfidfw2v,y_train,y_test,optimal_c=1)"
      ],
      "execution_count": 317,
      "outputs": [
        {
          "output_type": "stream",
          "text": [
            "Test data report\n",
            "Best c 1\n"
          ],
          "name": "stdout"
        },
        {
          "output_type": "display_data",
          "data": {
            "image/png": "[encoded data removed]",
            "text/plain": [
              "<Figure size 432x288 with 2 Axes>"
            ]
          },
          "metadata": {
            "tags": [],
            "needs_background": "light"
          }
        },
        {
          "output_type": "stream",
          "text": [
            "macro f1 score for data : 0.4298810548347565\n",
            "hamming loss for data: 0.4721666666666667\n",
            "Precision recall report for data:\n",
            "               precision    recall  f1-score   support\n",
            "\n",
            "    negetive       0.66      0.11      0.19      3000\n",
            "    positive       0.52      0.94      0.67      3000\n",
            "\n",
            "    accuracy                           0.53      6000\n",
            "   macro avg       0.59      0.53      0.43      6000\n",
            "weighted avg       0.59      0.53      0.43      6000\n",
            "\n",
            "Test  auc 0.5848387777777777\n",
            "Train auc 0.8484087551020408\n"
          ],
          "name": "stdout"
        },
        {
          "output_type": "display_data",
          "data": {
            "image/png": "[encoded data removed]",
            "text/plain": [
              "<Figure size 432x288 with 1 Axes>"
            ]
          },
          "metadata": {
            "tags": [],
            "needs_background": "light"
          }
        }
      ]
    },
    {
      "cell_type": "code",
      "metadata": {
        "colab": {
          "base_uri": "https://localhost:8080/"
        },
        "id": "_6HYfAvvl2wA",
        "outputId": "2b2c27b8-bb78-4501-b5a4-52754a049a1e"
      },
      "source": [
        "from prettytable import PrettyTable\r\n",
        "x=PrettyTable()\r\n",
        "x.field_names=['Vectorizer','Regularization','Hyperparameter','Test AUC Score']\r\n",
        "x.add_row(['BOw','L1',0.01,92.11])\r\n",
        "x.add_row(['BOW','L2',0.0001,92.10])\r\n",
        "x.add_row(['tfidf','L1',1,95.55])\r\n",
        "x.add_row(['tfidf','L2',10,94.91])\r\n",
        "x.add_row(['avgw2v','L1',1,69.33])\r\n",
        "x.add_row(['avgw2v','L2',1,69.55])\r\n",
        "x.add_row(['tfidfavgw2v','L1',1,69.33])\r\n",
        "x.add_row(['tfidfavgw2v','L2',1,69.55])\r\n",
        "print(x)"
      ],
      "execution_count": 322,
      "outputs": [
        {
          "output_type": "stream",
          "text": [
            "+-------------+----------------+----------------+----------------+\n",
            "|  Vectorizer | Regularization | Hyperparameter | Test AUC Score |\n",
            "+-------------+----------------+----------------+----------------+\n",
            "|     BOw     |       L1       |      0.01      |     92.11      |\n",
            "|     BOW     |       L2       |     0.0001     |      92.1      |\n",
            "|    tfidf    |       L1       |       1        |     95.55      |\n",
            "|    tfidf    |       L2       |       10       |     94.91      |\n",
            "|    avgw2v   |       L1       |       1        |     69.33      |\n",
            "|    avgw2v   |       L2       |       1        |     69.55      |\n",
            "| tfidfavgw2v |       L1       |       1        |     69.33      |\n",
            "| tfidfavgw2v |       L2       |       1        |     69.55      |\n",
            "+-------------+----------------+----------------+----------------+\n"
          ],
          "name": "stdout"
        }
      ]
    },
    {
      "cell_type": "code",
      "metadata": {
        "id": "6I3F2x7L2EyC"
      },
      "source": [
        ""
      ],
      "execution_count": null,
      "outputs": []
    }
  ]
}