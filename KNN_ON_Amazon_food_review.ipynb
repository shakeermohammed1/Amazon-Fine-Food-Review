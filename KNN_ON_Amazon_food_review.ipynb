{
  "nbformat": 4,
  "nbformat_minor": 0,
  "metadata": {
    "colab": {
      "name": "KNN -ON- Amazon food review.ipynb",
      "provenance": [],
      "collapsed_sections": [],
      "toc_visible": true
    },
    "kernelspec": {
      "name": "python3",
      "display_name": "Python 3"
    },
    "accelerator": "GPU"
  },
  "cells": [
    {
      "cell_type": "markdown",
      "metadata": {
        "id": "vA0CExWT6XGi"
      },
      "source": [
        "# **Amazon Fine Food Review, Sentiment Analysis using Machine Learning technique KNN.**\r\n",
        "\r\n",
        "About Database- All data in one sqlite database. 568,454 food reviews Amazon users left up to October 2012 Overview- \r\n",
        "1) In this project, we have 568k * 10 size dataset. i.e. 568k rows and 10 columns(features).\r\n",
        "\r\n",
        " 2) In this dataset, we have 10 features which are as follows-\r\n",
        "  i) Id-Row Id\r\n",
        " ii) ProductId- Unique identifier for the product iii) UserId- Unqiue identifier for the user \r\n",
        " iv) ProfileName- Profile name of the user \r\n",
        " v) HelpfulnessNumerator- Number of users who found the review helpful\r\n",
        " vi) HelpfulnessDenominator- Number of users who indicated whether they found the review helpful or not \r\n",
        " vii) Score- Rating between 1 and 5 \r\n",
        " viii) Time- Timestamp for the review \r\n",
        " ix) Summary- Brief summary of the review x) Text- Text of the review\r\n",
        "\r\n",
        " objective of this project is to predict whether given new review is positive or negative."
      ]
    },
    {
      "cell_type": "markdown",
      "metadata": {
        "id": "WX_4pwll6Etb"
      },
      "source": [
        ""
      ]
    },
    {
      "cell_type": "code",
      "metadata": {
        "id": "R80UjAgi6k_1"
      },
      "source": [
        "import numpy as np\r\n",
        "import pandas as pd\r\n",
        "import sqlite3\r\n",
        "import matplotlib.pyplot as plt\r\n",
        "from sklearn.metrics import accuracy_score\r\n",
        "from sklearn.model_selection import train_test_split,cross_validate\r\n",
        "from collections import Counter"
      ],
      "execution_count": 83,
      "outputs": []
    },
    {
      "cell_type": "code",
      "metadata": {
        "id": "eVwBfB0d9XdJ"
      },
      "source": [
        "# we will read data\r\n",
        "con=sqlite3.connect('/content/drive/MyDrive/amazon/database.sqlite')\r\n",
        "\r\n",
        "# we neglect the review having Score = 3\r\n",
        "filtered_data=pd.read_sql_query(''' SELECT * FROM Reviews WHERE Score!=3''',con)"
      ],
      "execution_count": 84,
      "outputs": []
    },
    {
      "cell_type": "code",
      "metadata": {
        "colab": {
          "base_uri": "https://localhost:8080/",
          "height": 238
        },
        "id": "-ruxixAE96Yv",
        "outputId": "99b7e24d-1a2c-4a34-d630-c8221846cd6a"
      },
      "source": [
        "filtered_data.head()\r\n"
      ],
      "execution_count": 85,
      "outputs": [
        {
          "output_type": "execute_result",
          "data": {
            "text/html": [
              "<div>\n",
              "<style scoped>\n",
              "    .dataframe tbody tr th:only-of-type {\n",
              "        vertical-align: middle;\n",
              "    }\n",
              "\n",
              "    .dataframe tbody tr th {\n",
              "        vertical-align: top;\n",
              "    }\n",
              "\n",
              "    .dataframe thead th {\n",
              "        text-align: right;\n",
              "    }\n",
              "</style>\n",
              "<table border=\"1\" class=\"dataframe\">\n",
              "  <thead>\n",
              "    <tr style=\"text-align: right;\">\n",
              "      <th></th>\n",
              "      <th>Id</th>\n",
              "      <th>ProductId</th>\n",
              "      <th>UserId</th>\n",
              "      <th>ProfileName</th>\n",
              "      <th>HelpfulnessNumerator</th>\n",
              "      <th>HelpfulnessDenominator</th>\n",
              "      <th>Score</th>\n",
              "      <th>Time</th>\n",
              "      <th>Summary</th>\n",
              "      <th>Text</th>\n",
              "    </tr>\n",
              "  </thead>\n",
              "  <tbody>\n",
              "    <tr>\n",
              "      <th>0</th>\n",
              "      <td>1</td>\n",
              "      <td>B001E4KFG0</td>\n",
              "      <td>A3SGXH7AUHU8GW</td>\n",
              "      <td>delmartian</td>\n",
              "      <td>1</td>\n",
              "      <td>1</td>\n",
              "      <td>5</td>\n",
              "      <td>1303862400</td>\n",
              "      <td>Good Quality Dog Food</td>\n",
              "      <td>I have bought several of the Vitality canned d...</td>\n",
              "    </tr>\n",
              "    <tr>\n",
              "      <th>1</th>\n",
              "      <td>2</td>\n",
              "      <td>B00813GRG4</td>\n",
              "      <td>A1D87F6ZCVE5NK</td>\n",
              "      <td>dll pa</td>\n",
              "      <td>0</td>\n",
              "      <td>0</td>\n",
              "      <td>1</td>\n",
              "      <td>1346976000</td>\n",
              "      <td>Not as Advertised</td>\n",
              "      <td>Product arrived labeled as Jumbo Salted Peanut...</td>\n",
              "    </tr>\n",
              "    <tr>\n",
              "      <th>2</th>\n",
              "      <td>3</td>\n",
              "      <td>B000LQOCH0</td>\n",
              "      <td>ABXLMWJIXXAIN</td>\n",
              "      <td>Natalia Corres \"Natalia Corres\"</td>\n",
              "      <td>1</td>\n",
              "      <td>1</td>\n",
              "      <td>4</td>\n",
              "      <td>1219017600</td>\n",
              "      <td>\"Delight\" says it all</td>\n",
              "      <td>This is a confection that has been around a fe...</td>\n",
              "    </tr>\n",
              "    <tr>\n",
              "      <th>3</th>\n",
              "      <td>4</td>\n",
              "      <td>B000UA0QIQ</td>\n",
              "      <td>A395BORC6FGVXV</td>\n",
              "      <td>Karl</td>\n",
              "      <td>3</td>\n",
              "      <td>3</td>\n",
              "      <td>2</td>\n",
              "      <td>1307923200</td>\n",
              "      <td>Cough Medicine</td>\n",
              "      <td>If you are looking for the secret ingredient i...</td>\n",
              "    </tr>\n",
              "    <tr>\n",
              "      <th>4</th>\n",
              "      <td>5</td>\n",
              "      <td>B006K2ZZ7K</td>\n",
              "      <td>A1UQRSCLF8GW1T</td>\n",
              "      <td>Michael D. Bigham \"M. Wassir\"</td>\n",
              "      <td>0</td>\n",
              "      <td>0</td>\n",
              "      <td>5</td>\n",
              "      <td>1350777600</td>\n",
              "      <td>Great taffy</td>\n",
              "      <td>Great taffy at a great price.  There was a wid...</td>\n",
              "    </tr>\n",
              "  </tbody>\n",
              "</table>\n",
              "</div>"
            ],
            "text/plain": [
              "   Id  ...                                               Text\n",
              "0   1  ...  I have bought several of the Vitality canned d...\n",
              "1   2  ...  Product arrived labeled as Jumbo Salted Peanut...\n",
              "2   3  ...  This is a confection that has been around a fe...\n",
              "3   4  ...  If you are looking for the secret ingredient i...\n",
              "4   5  ...  Great taffy at a great price.  There was a wid...\n",
              "\n",
              "[5 rows x 10 columns]"
            ]
          },
          "metadata": {
            "tags": []
          },
          "execution_count": 85
        }
      ]
    },
    {
      "cell_type": "code",
      "metadata": {
        "colab": {
          "base_uri": "https://localhost:8080/"
        },
        "id": "P9qdi7gPowvB",
        "outputId": "101ed17d-22e2-47a8-9413-f042e6ce341e"
      },
      "source": [
        "print(filtered_data.dtypes)\r\n",
        "#filtered_data['Score']=filtered_data['Score'].astype(int)"
      ],
      "execution_count": 86,
      "outputs": [
        {
          "output_type": "stream",
          "text": [
            "Id                         int64\n",
            "ProductId                 object\n",
            "UserId                    object\n",
            "ProfileName               object\n",
            "HelpfulnessNumerator       int64\n",
            "HelpfulnessDenominator     int64\n",
            "Score                      int64\n",
            "Time                       int64\n",
            "Summary                   object\n",
            "Text                      object\n",
            "dtype: object\n"
          ],
          "name": "stdout"
        }
      ]
    },
    {
      "cell_type": "code",
      "metadata": {
        "id": "vpSuMbOz-T7V"
      },
      "source": [
        "def partition(x):\r\n",
        "  if x< 3:\r\n",
        "    return 'negetive'\r\n",
        "  return 'positive'\r\n",
        "#filtered_data['Score1']=filtered_data['Score'].map(lambda x : 'negetive' if x < '3' else 'positive')\r\n"
      ],
      "execution_count": 87,
      "outputs": []
    },
    {
      "cell_type": "code",
      "metadata": {
        "id": "ZdE_3xi-JLv_"
      },
      "source": [
        "actualscore=filtered_data['Score']\r\n",
        "positivenegetive= actualscore.map(partition)\r\n",
        "filtered_data['Score']=positivenegetive"
      ],
      "execution_count": 88,
      "outputs": []
    },
    {
      "cell_type": "code",
      "metadata": {
        "colab": {
          "base_uri": "https://localhost:8080/",
          "height": 272
        },
        "id": "JZxT1ZamCTSK",
        "outputId": "d5f098d6-9551-4a12-ef41-fa6296d310b2"
      },
      "source": [
        "filtered_data.head()"
      ],
      "execution_count": 89,
      "outputs": [
        {
          "output_type": "execute_result",
          "data": {
            "text/html": [
              "<div>\n",
              "<style scoped>\n",
              "    .dataframe tbody tr th:only-of-type {\n",
              "        vertical-align: middle;\n",
              "    }\n",
              "\n",
              "    .dataframe tbody tr th {\n",
              "        vertical-align: top;\n",
              "    }\n",
              "\n",
              "    .dataframe thead th {\n",
              "        text-align: right;\n",
              "    }\n",
              "</style>\n",
              "<table border=\"1\" class=\"dataframe\">\n",
              "  <thead>\n",
              "    <tr style=\"text-align: right;\">\n",
              "      <th></th>\n",
              "      <th>Id</th>\n",
              "      <th>ProductId</th>\n",
              "      <th>UserId</th>\n",
              "      <th>ProfileName</th>\n",
              "      <th>HelpfulnessNumerator</th>\n",
              "      <th>HelpfulnessDenominator</th>\n",
              "      <th>Score</th>\n",
              "      <th>Time</th>\n",
              "      <th>Summary</th>\n",
              "      <th>Text</th>\n",
              "    </tr>\n",
              "  </thead>\n",
              "  <tbody>\n",
              "    <tr>\n",
              "      <th>0</th>\n",
              "      <td>1</td>\n",
              "      <td>B001E4KFG0</td>\n",
              "      <td>A3SGXH7AUHU8GW</td>\n",
              "      <td>delmartian</td>\n",
              "      <td>1</td>\n",
              "      <td>1</td>\n",
              "      <td>positive</td>\n",
              "      <td>1303862400</td>\n",
              "      <td>Good Quality Dog Food</td>\n",
              "      <td>I have bought several of the Vitality canned d...</td>\n",
              "    </tr>\n",
              "    <tr>\n",
              "      <th>1</th>\n",
              "      <td>2</td>\n",
              "      <td>B00813GRG4</td>\n",
              "      <td>A1D87F6ZCVE5NK</td>\n",
              "      <td>dll pa</td>\n",
              "      <td>0</td>\n",
              "      <td>0</td>\n",
              "      <td>negetive</td>\n",
              "      <td>1346976000</td>\n",
              "      <td>Not as Advertised</td>\n",
              "      <td>Product arrived labeled as Jumbo Salted Peanut...</td>\n",
              "    </tr>\n",
              "    <tr>\n",
              "      <th>2</th>\n",
              "      <td>3</td>\n",
              "      <td>B000LQOCH0</td>\n",
              "      <td>ABXLMWJIXXAIN</td>\n",
              "      <td>Natalia Corres \"Natalia Corres\"</td>\n",
              "      <td>1</td>\n",
              "      <td>1</td>\n",
              "      <td>positive</td>\n",
              "      <td>1219017600</td>\n",
              "      <td>\"Delight\" says it all</td>\n",
              "      <td>This is a confection that has been around a fe...</td>\n",
              "    </tr>\n",
              "    <tr>\n",
              "      <th>3</th>\n",
              "      <td>4</td>\n",
              "      <td>B000UA0QIQ</td>\n",
              "      <td>A395BORC6FGVXV</td>\n",
              "      <td>Karl</td>\n",
              "      <td>3</td>\n",
              "      <td>3</td>\n",
              "      <td>negetive</td>\n",
              "      <td>1307923200</td>\n",
              "      <td>Cough Medicine</td>\n",
              "      <td>If you are looking for the secret ingredient i...</td>\n",
              "    </tr>\n",
              "    <tr>\n",
              "      <th>4</th>\n",
              "      <td>5</td>\n",
              "      <td>B006K2ZZ7K</td>\n",
              "      <td>A1UQRSCLF8GW1T</td>\n",
              "      <td>Michael D. Bigham \"M. Wassir\"</td>\n",
              "      <td>0</td>\n",
              "      <td>0</td>\n",
              "      <td>positive</td>\n",
              "      <td>1350777600</td>\n",
              "      <td>Great taffy</td>\n",
              "      <td>Great taffy at a great price.  There was a wid...</td>\n",
              "    </tr>\n",
              "  </tbody>\n",
              "</table>\n",
              "</div>"
            ],
            "text/plain": [
              "   Id  ...                                               Text\n",
              "0   1  ...  I have bought several of the Vitality canned d...\n",
              "1   2  ...  Product arrived labeled as Jumbo Salted Peanut...\n",
              "2   3  ...  This is a confection that has been around a fe...\n",
              "3   4  ...  If you are looking for the secret ingredient i...\n",
              "4   5  ...  Great taffy at a great price.  There was a wid...\n",
              "\n",
              "[5 rows x 10 columns]"
            ]
          },
          "metadata": {
            "tags": []
          },
          "execution_count": 89
        }
      ]
    },
    {
      "cell_type": "code",
      "metadata": {
        "colab": {
          "base_uri": "https://localhost:8080/"
        },
        "id": "jK1TkT_oFWf0",
        "outputId": "de576239-8b51-4c01-fe0c-a1ed6b2b9140"
      },
      "source": [
        "filtered_data['Score'].value_counts()"
      ],
      "execution_count": 90,
      "outputs": [
        {
          "output_type": "execute_result",
          "data": {
            "text/plain": [
              "positive    443777\n",
              "negetive     82037\n",
              "Name: Score, dtype: int64"
            ]
          },
          "metadata": {
            "tags": []
          },
          "execution_count": 90
        }
      ]
    },
    {
      "cell_type": "code",
      "metadata": {
        "colab": {
          "base_uri": "https://localhost:8080/",
          "height": 289
        },
        "id": "g_-GmniCFbga",
        "outputId": "519afe28-5873-40a8-c8cf-9e689b3c561d"
      },
      "source": [
        "\r\n",
        "#  EDA\r\n",
        "\r\n",
        "display=pd.read_sql_query(''' SELECT * FROM Reviews WHERE Score!=3 \r\n",
        "                              AND UserId=\"AR5J8UI46CURR\"\r\n",
        "                              ORDER BY ProductID''',con)\r\n",
        "display.head()"
      ],
      "execution_count": 91,
      "outputs": [
        {
          "output_type": "execute_result",
          "data": {
            "text/html": [
              "<div>\n",
              "<style scoped>\n",
              "    .dataframe tbody tr th:only-of-type {\n",
              "        vertical-align: middle;\n",
              "    }\n",
              "\n",
              "    .dataframe tbody tr th {\n",
              "        vertical-align: top;\n",
              "    }\n",
              "\n",
              "    .dataframe thead th {\n",
              "        text-align: right;\n",
              "    }\n",
              "</style>\n",
              "<table border=\"1\" class=\"dataframe\">\n",
              "  <thead>\n",
              "    <tr style=\"text-align: right;\">\n",
              "      <th></th>\n",
              "      <th>Id</th>\n",
              "      <th>ProductId</th>\n",
              "      <th>UserId</th>\n",
              "      <th>ProfileName</th>\n",
              "      <th>HelpfulnessNumerator</th>\n",
              "      <th>HelpfulnessDenominator</th>\n",
              "      <th>Score</th>\n",
              "      <th>Time</th>\n",
              "      <th>Summary</th>\n",
              "      <th>Text</th>\n",
              "    </tr>\n",
              "  </thead>\n",
              "  <tbody>\n",
              "    <tr>\n",
              "      <th>0</th>\n",
              "      <td>78445</td>\n",
              "      <td>B000HDL1RQ</td>\n",
              "      <td>AR5J8UI46CURR</td>\n",
              "      <td>Geetha Krishnan</td>\n",
              "      <td>2</td>\n",
              "      <td>2</td>\n",
              "      <td>5</td>\n",
              "      <td>1199577600</td>\n",
              "      <td>LOACKER QUADRATINI VANILLA WAFERS</td>\n",
              "      <td>DELICIOUS WAFERS. I FIND THAT EUROPEAN WAFERS ...</td>\n",
              "    </tr>\n",
              "    <tr>\n",
              "      <th>1</th>\n",
              "      <td>138317</td>\n",
              "      <td>B000HDOPYC</td>\n",
              "      <td>AR5J8UI46CURR</td>\n",
              "      <td>Geetha Krishnan</td>\n",
              "      <td>2</td>\n",
              "      <td>2</td>\n",
              "      <td>5</td>\n",
              "      <td>1199577600</td>\n",
              "      <td>LOACKER QUADRATINI VANILLA WAFERS</td>\n",
              "      <td>DELICIOUS WAFERS. I FIND THAT EUROPEAN WAFERS ...</td>\n",
              "    </tr>\n",
              "    <tr>\n",
              "      <th>2</th>\n",
              "      <td>138277</td>\n",
              "      <td>B000HDOPYM</td>\n",
              "      <td>AR5J8UI46CURR</td>\n",
              "      <td>Geetha Krishnan</td>\n",
              "      <td>2</td>\n",
              "      <td>2</td>\n",
              "      <td>5</td>\n",
              "      <td>1199577600</td>\n",
              "      <td>LOACKER QUADRATINI VANILLA WAFERS</td>\n",
              "      <td>DELICIOUS WAFERS. I FIND THAT EUROPEAN WAFERS ...</td>\n",
              "    </tr>\n",
              "    <tr>\n",
              "      <th>3</th>\n",
              "      <td>73791</td>\n",
              "      <td>B000HDOPZG</td>\n",
              "      <td>AR5J8UI46CURR</td>\n",
              "      <td>Geetha Krishnan</td>\n",
              "      <td>2</td>\n",
              "      <td>2</td>\n",
              "      <td>5</td>\n",
              "      <td>1199577600</td>\n",
              "      <td>LOACKER QUADRATINI VANILLA WAFERS</td>\n",
              "      <td>DELICIOUS WAFERS. I FIND THAT EUROPEAN WAFERS ...</td>\n",
              "    </tr>\n",
              "    <tr>\n",
              "      <th>4</th>\n",
              "      <td>155049</td>\n",
              "      <td>B000PAQ75C</td>\n",
              "      <td>AR5J8UI46CURR</td>\n",
              "      <td>Geetha Krishnan</td>\n",
              "      <td>2</td>\n",
              "      <td>2</td>\n",
              "      <td>5</td>\n",
              "      <td>1199577600</td>\n",
              "      <td>LOACKER QUADRATINI VANILLA WAFERS</td>\n",
              "      <td>DELICIOUS WAFERS. I FIND THAT EUROPEAN WAFERS ...</td>\n",
              "    </tr>\n",
              "  </tbody>\n",
              "</table>\n",
              "</div>"
            ],
            "text/plain": [
              "       Id  ...                                               Text\n",
              "0   78445  ...  DELICIOUS WAFERS. I FIND THAT EUROPEAN WAFERS ...\n",
              "1  138317  ...  DELICIOUS WAFERS. I FIND THAT EUROPEAN WAFERS ...\n",
              "2  138277  ...  DELICIOUS WAFERS. I FIND THAT EUROPEAN WAFERS ...\n",
              "3   73791  ...  DELICIOUS WAFERS. I FIND THAT EUROPEAN WAFERS ...\n",
              "4  155049  ...  DELICIOUS WAFERS. I FIND THAT EUROPEAN WAFERS ...\n",
              "\n",
              "[5 rows x 10 columns]"
            ]
          },
          "metadata": {
            "tags": []
          },
          "execution_count": 91
        }
      ]
    },
    {
      "cell_type": "markdown",
      "metadata": {
        "id": "7PRwm87G-la5"
      },
      "source": [
        "\r\n",
        "**Observations: **\r\n",
        "1) As in above table, UserId, ProfileName, HelpfulnessNumerator, HelpfulnessDenominator.Score,Time, Summary and Text shows same content \r\n",
        "2) Also for all 5 product, shows same time.\r\n",
        " 3) Here we observed that, product is same, only the flavour is different\r\n",
        "4) so we will remove this duplication and keep any one product which all these features so we removing duplicates."
      ]
    },
    {
      "cell_type": "code",
      "metadata": {
        "id": "dr6QnrniGb94"
      },
      "source": [
        " #we will sort data according to ProductId in ascending order#\r\n",
        "sorted_data= filtered_data.sort_values('ProductId',axis=0,ascending=True,inplace=False,kind='quicksort',na_position='last')"
      ],
      "execution_count": 92,
      "outputs": []
    },
    {
      "cell_type": "markdown",
      "metadata": {
        "id": "yM3FBhKY-kKY"
      },
      "source": [
        ""
      ]
    },
    {
      "cell_type": "code",
      "metadata": {
        "colab": {
          "base_uri": "https://localhost:8080/"
        },
        "id": "ciRZ2OTUG8le",
        "outputId": "e0ebb5de-5a74-4e95-be65-0d0c5982efdd"
      },
      "source": [
        "final=sorted_data.drop_duplicates(subset={'UserId', 'ProfileName','Time','Text'},keep='first',inplace=False)\r\n",
        "final.shape"
      ],
      "execution_count": 93,
      "outputs": [
        {
          "output_type": "execute_result",
          "data": {
            "text/plain": [
              "(364173, 10)"
            ]
          },
          "metadata": {
            "tags": []
          },
          "execution_count": 93
        }
      ]
    },
    {
      "cell_type": "code",
      "metadata": {
        "colab": {
          "base_uri": "https://localhost:8080/"
        },
        "id": "cVgTvG7qJY5K",
        "outputId": "85f2644c-d38b-4123-89f7-1b0a2ad27291"
      },
      "source": [
        "#After removing duplications, we will see how much % of data still remains\r\n",
        "(final['Id'].size*1.0)/(filtered_data['Id'].size*1.0)*100"
      ],
      "execution_count": 94,
      "outputs": [
        {
          "output_type": "execute_result",
          "data": {
            "text/plain": [
              "69.25890143662969"
            ]
          },
          "metadata": {
            "tags": []
          },
          "execution_count": 94
        }
      ]
    },
    {
      "cell_type": "code",
      "metadata": {
        "colab": {
          "base_uri": "https://localhost:8080/"
        },
        "id": "xsjJ3P6GJjdI",
        "outputId": "c9b6e131-424e-4f10-c89d-d30fefa1764d"
      },
      "source": [
        "final=final[final.HelpfulnessNumerator<=final.HelpfulnessDenominator]\r\n",
        "final.shape"
      ],
      "execution_count": 95,
      "outputs": [
        {
          "output_type": "execute_result",
          "data": {
            "text/plain": [
              "(364171, 10)"
            ]
          },
          "metadata": {
            "tags": []
          },
          "execution_count": 95
        }
      ]
    },
    {
      "cell_type": "markdown",
      "metadata": {
        "id": "wyYCTMz6vUfh"
      },
      "source": [
        "\r\n",
        "Now, we do preprocessing like removal of stop words, html tags and make all letters in lowercase."
      ]
    },
    {
      "cell_type": "code",
      "metadata": {
        "colab": {
          "base_uri": "https://localhost:8080/"
        },
        "id": "26jt2Rn-cyRi",
        "outputId": "f1848592-f1de-47b5-a60c-338b588b2b65"
      },
      "source": [
        "import re\r\n",
        "i=0\r\n",
        "for sent in final['Text'].values:\r\n",
        "  if (len(re.findall('<.*?>',sent))):\r\n",
        "    print(i)\r\n",
        "    print(sent)\r\n",
        "    break\r\n",
        "  i+=1\r\n"
      ],
      "execution_count": 96,
      "outputs": [
        {
          "output_type": "stream",
          "text": [
            "6\n",
            "I set aside at least an hour each day to read to my son (3 y/o). At this point, I consider myself a connoisseur of children's books and this is one of the best. Santa Clause put this under the tree. Since then, we've read it perpetually and he loves it.<br /><br />First, this book taught him the months of the year.<br /><br />Second, it's a pleasure to read. Well suited to 1.5 y/o old to 4+.<br /><br />Very few children's books are worth owning. Most should be borrowed from the library. This book, however, deserves a permanent spot on your shelf. Sendak's best.\n"
          ],
          "name": "stdout"
        }
      ]
    },
    {
      "cell_type": "code",
      "metadata": {
        "id": "Epw1mmoIdVc1"
      },
      "source": [
        "import re\r\n",
        "import nltk\r\n",
        "from nltk.corpus import stopwords\r\n",
        "from nltk.stem import PorterStemmer\r\n",
        "from  nltk.stem.wordnet import WordNetLemmatizer"
      ],
      "execution_count": 97,
      "outputs": []
    },
    {
      "cell_type": "code",
      "metadata": {
        "colab": {
          "base_uri": "https://localhost:8080/"
        },
        "id": "md_-ENZjdVfu",
        "outputId": "db4f01de-66ea-4ac1-caad-3d2aa4f7dfc8"
      },
      "source": [
        "nltk.download('stopwords')"
      ],
      "execution_count": 98,
      "outputs": [
        {
          "output_type": "stream",
          "text": [
            "[nltk_data] Downloading package stopwords to /root/nltk_data...\n",
            "[nltk_data]   Package stopwords is already up-to-date!\n"
          ],
          "name": "stdout"
        },
        {
          "output_type": "execute_result",
          "data": {
            "text/plain": [
              "True"
            ]
          },
          "metadata": {
            "tags": []
          },
          "execution_count": 98
        }
      ]
    },
    {
      "cell_type": "code",
      "metadata": {
        "id": "1sSiI3lDdVh9"
      },
      "source": [
        "stop=set(stopwords.words('english'))       #set of stopwords\r\n",
        "sno=nltk.stem.SnowballStemmer('english')     # initialising snowball stemmer"
      ],
      "execution_count": 99,
      "outputs": []
    },
    {
      "cell_type": "code",
      "metadata": {
        "id": "M6G9TTwUdVkz"
      },
      "source": [
        "def cleanhtml(sentence):     #function to clean word of any html tags\r\n",
        "  cleanr=re.compile('<.*?>')\r\n",
        "  cleantext=re.sub(cleanr,' ',sentence)\r\n",
        "  return cleantext\r\n",
        "def cleanpunc(sentence):\r\n",
        "  cleaned=re.sub(r'[?|!|\\'|\"|#]',r'',sentence)\r\n",
        "  cleaned=re.sub(r'[.|,|)|(|\\|/)]',r' ',sentence)\r\n",
        "  return cleaned\r\n"
      ],
      "execution_count": 100,
      "outputs": []
    },
    {
      "cell_type": "code",
      "metadata": {
        "colab": {
          "base_uri": "https://localhost:8080/"
        },
        "id": "iRp2-u2vdVmz",
        "outputId": "55b42fed-0a38-4ec4-bb0c-0a1c229383ce"
      },
      "source": [
        "print(stop)\r\n",
        "print(sno.stem('tasty'))"
      ],
      "execution_count": 101,
      "outputs": [
        {
          "output_type": "stream",
          "text": [
            "{'does', 'having', 'should', 'these', 'will', 'own', 'isn', \"wasn't\", 'o', 'ourselves', 'here', 'me', 'she', 'themselves', 'hadn', 'yours', \"mustn't\", 'for', 'just', 'each', 'over', 've', \"aren't\", 'ain', 'until', \"didn't\", 'we', 's', 'during', \"don't\", 'above', 'then', 'm', \"needn't\", 'yourself', 'do', 'more', \"shan't\", 'which', 'them', 'why', 'it', 'and', 'were', 'ours', 'what', 'in', \"haven't\", \"isn't\", 'there', 'myself', 'can', 'under', \"you'd\", 'if', 'to', 'i', 'once', \"won't\", 'll', 'himself', 'into', 'you', 'through', 'hasn', 'theirs', 'some', 'didn', 'from', 'this', 'all', 'with', 'they', 'up', 'nor', 't', 'is', 'has', 'of', 'doesn', 'shouldn', \"shouldn't\", 'same', 'those', 'haven', \"you've\", 'where', 'had', 'their', 'yourselves', 'now', 'being', \"hasn't\", \"it's\", 'whom', 'few', 'as', 'below', 'between', 'that', 'was', 'he', 'y', \"wouldn't\", \"hadn't\", 'don', 'shan', 'before', 'both', 'further', 'on', 'too', 'been', \"you're\", \"couldn't\", 'are', 'than', 'won', 'at', \"you'll\", \"that'll\", 'aren', 'weren', 'such', 'no', 'his', 'doing', 'did', 'about', 'or', 'by', 're', 'mustn', 'itself', 'have', 'down', 'needn', \"weren't\", 'very', 'the', 'against', 'am', 'again', 'couldn', 'wasn', 'only', 'herself', 'how', \"doesn't\", 'when', 'mightn', 'any', 'wouldn', 'other', 'who', 'an', 'ma', 'because', 'after', 'while', 'most', 'him', 'so', 'our', 'your', 'out', 'd', 'its', \"she's\", \"mightn't\", 'a', 'my', \"should've\", 'be', 'but', 'hers', 'off', 'not', 'her'}\n",
            "tasti\n"
          ],
          "name": "stdout"
        }
      ]
    },
    {
      "cell_type": "code",
      "metadata": {
        "id": "nKLcq6f7gBbQ"
      },
      "source": [
        "#Code for implementing step-by-step the checks mentioned in the pre-processing phase\r\n",
        "# this code takes a while to run as it needs to run on 500k sentences.\r\n",
        "\r\n",
        "i=0\r\n",
        "final_string=[]\r\n",
        "all_postive_words=[]\r\n",
        "all_negetive_words=[]\r\n",
        "\r\n",
        "for sent in final['Text'].values:\r\n",
        "  filtered_sentence=[]\r\n",
        "  sent=cleanhtml(sent)\r\n",
        "  for w in sent.split():\r\n",
        "    for cleanword in cleanpunc(w).split():\r\n",
        "      if ((cleanword.isalpha()) & (len(cleanword)>2)):\r\n",
        "        if (cleanword.lower() not in stop):\r\n",
        "          s=(sno.stem(cleanword.lower()))\r\n",
        "          filtered_sentence.append(s)\r\n",
        "          if (final['Score'].values)[i]=='positive':\r\n",
        "            all_postive_words.append(s)\r\n",
        "          if (final['Score'].values)[i]=='negetive':\r\n",
        "            all_negetive_words.append(s)\r\n",
        "        else:\r\n",
        "          continue\r\n",
        "      else:\r\n",
        "        continue\r\n",
        "  str1=' '.join(filtered_sentence)\r\n",
        "  final_string.append(str1)\r\n",
        "  i+=1\r\n",
        "\r\n"
      ],
      "execution_count": 102,
      "outputs": []
    },
    {
      "cell_type": "code",
      "metadata": {
        "id": "LdUej1QcFYit"
      },
      "source": [
        "final['CleanText']=final_string"
      ],
      "execution_count": 103,
      "outputs": []
    },
    {
      "cell_type": "code",
      "metadata": {
        "id": "Ry75mMxrmjC5"
      },
      "source": [
        "final.head(3)\r\n",
        "# store final table into an SQlLite table for future.\r\n",
        "\r\n",
        "con1=sqlite3.connect('final.sqlite')\r\n",
        "c=con1.cursor()\r\n",
        "final.to_sql('Reviews',con1,schema=None,index=True,index_label=None,chunksize=None,dtype=None)"
      ],
      "execution_count": 105,
      "outputs": []
    },
    {
      "cell_type": "code",
      "metadata": {
        "id": "tn1OI7d4mb3q"
      },
      "source": [
        "import sqlite3\r\n",
        "con=sqlite3.connect('final.sqlite')\r\n"
      ],
      "execution_count": 106,
      "outputs": []
    },
    {
      "cell_type": "code",
      "metadata": {
        "colab": {
          "base_uri": "https://localhost:8080/",
          "height": 357
        },
        "id": "kUQYAF0inwvb",
        "outputId": "c5d24526-41de-4211-9522-658981303dcd"
      },
      "source": [
        "cleaned_data=pd.read_sql_query('''SELECT * FROM Reviews''',con)\r\n",
        "cleaned_data.head()"
      ],
      "execution_count": 107,
      "outputs": [
        {
          "output_type": "execute_result",
          "data": {
            "text/html": [
              "<div>\n",
              "<style scoped>\n",
              "    .dataframe tbody tr th:only-of-type {\n",
              "        vertical-align: middle;\n",
              "    }\n",
              "\n",
              "    .dataframe tbody tr th {\n",
              "        vertical-align: top;\n",
              "    }\n",
              "\n",
              "    .dataframe thead th {\n",
              "        text-align: right;\n",
              "    }\n",
              "</style>\n",
              "<table border=\"1\" class=\"dataframe\">\n",
              "  <thead>\n",
              "    <tr style=\"text-align: right;\">\n",
              "      <th></th>\n",
              "      <th>index</th>\n",
              "      <th>Id</th>\n",
              "      <th>ProductId</th>\n",
              "      <th>UserId</th>\n",
              "      <th>ProfileName</th>\n",
              "      <th>HelpfulnessNumerator</th>\n",
              "      <th>HelpfulnessDenominator</th>\n",
              "      <th>Score</th>\n",
              "      <th>Time</th>\n",
              "      <th>Summary</th>\n",
              "      <th>Text</th>\n",
              "      <th>CleanText</th>\n",
              "    </tr>\n",
              "  </thead>\n",
              "  <tbody>\n",
              "    <tr>\n",
              "      <th>0</th>\n",
              "      <td>138706</td>\n",
              "      <td>150524</td>\n",
              "      <td>0006641040</td>\n",
              "      <td>ACITT7DI6IDDL</td>\n",
              "      <td>shari zychinski</td>\n",
              "      <td>0</td>\n",
              "      <td>0</td>\n",
              "      <td>positive</td>\n",
              "      <td>939340800</td>\n",
              "      <td>EVERY book is educational</td>\n",
              "      <td>this witty little book makes my son laugh at l...</td>\n",
              "      <td>witti littl book make son laugh loud recit car...</td>\n",
              "    </tr>\n",
              "    <tr>\n",
              "      <th>1</th>\n",
              "      <td>138688</td>\n",
              "      <td>150506</td>\n",
              "      <td>0006641040</td>\n",
              "      <td>A2IW4PEEKO2R0U</td>\n",
              "      <td>Tracy</td>\n",
              "      <td>1</td>\n",
              "      <td>1</td>\n",
              "      <td>positive</td>\n",
              "      <td>1194739200</td>\n",
              "      <td>Love the book, miss the hard cover version</td>\n",
              "      <td>I grew up reading these Sendak books, and watc...</td>\n",
              "      <td>grew read sendak book watch realli rosi movi i...</td>\n",
              "    </tr>\n",
              "    <tr>\n",
              "      <th>2</th>\n",
              "      <td>138689</td>\n",
              "      <td>150507</td>\n",
              "      <td>0006641040</td>\n",
              "      <td>A1S4A3IQ2MU7V4</td>\n",
              "      <td>sally sue \"sally sue\"</td>\n",
              "      <td>1</td>\n",
              "      <td>1</td>\n",
              "      <td>positive</td>\n",
              "      <td>1191456000</td>\n",
              "      <td>chicken soup with rice months</td>\n",
              "      <td>This is a fun way for children to learn their ...</td>\n",
              "      <td>fun way children learn month learn poem throug...</td>\n",
              "    </tr>\n",
              "    <tr>\n",
              "      <th>3</th>\n",
              "      <td>138690</td>\n",
              "      <td>150508</td>\n",
              "      <td>0006641040</td>\n",
              "      <td>AZGXZ2UUK6X</td>\n",
              "      <td>Catherine Hallberg \"(Kate)\"</td>\n",
              "      <td>1</td>\n",
              "      <td>1</td>\n",
              "      <td>positive</td>\n",
              "      <td>1076025600</td>\n",
              "      <td>a good swingy rhythm for reading aloud</td>\n",
              "      <td>This is a great little book to read aloud- it ...</td>\n",
              "      <td>great littl book read nice rhythm well good re...</td>\n",
              "    </tr>\n",
              "    <tr>\n",
              "      <th>4</th>\n",
              "      <td>138691</td>\n",
              "      <td>150509</td>\n",
              "      <td>0006641040</td>\n",
              "      <td>A3CMRKGE0P909G</td>\n",
              "      <td>Teresa</td>\n",
              "      <td>3</td>\n",
              "      <td>4</td>\n",
              "      <td>positive</td>\n",
              "      <td>1018396800</td>\n",
              "      <td>A great way to learn the months</td>\n",
              "      <td>This is a book of poetry about the months of t...</td>\n",
              "      <td>book poetri month year goe month cute littl po...</td>\n",
              "    </tr>\n",
              "  </tbody>\n",
              "</table>\n",
              "</div>"
            ],
            "text/plain": [
              "    index  ...                                          CleanText\n",
              "0  138706  ...  witti littl book make son laugh loud recit car...\n",
              "1  138688  ...  grew read sendak book watch realli rosi movi i...\n",
              "2  138689  ...  fun way children learn month learn poem throug...\n",
              "3  138690  ...  great littl book read nice rhythm well good re...\n",
              "4  138691  ...  book poetri month year goe month cute littl po...\n",
              "\n",
              "[5 rows x 12 columns]"
            ]
          },
          "metadata": {
            "tags": []
          },
          "execution_count": 107
        }
      ]
    },
    {
      "cell_type": "code",
      "metadata": {
        "colab": {
          "base_uri": "https://localhost:8080/"
        },
        "id": "WHcxC3WFn8XT",
        "outputId": "5ed4e039-cb38-4460-f0ce-cb5d17b5eaa1"
      },
      "source": [
        "cleaned_data.shape"
      ],
      "execution_count": 108,
      "outputs": [
        {
          "output_type": "execute_result",
          "data": {
            "text/plain": [
              "(364171, 12)"
            ]
          },
          "metadata": {
            "tags": []
          },
          "execution_count": 108
        }
      ]
    },
    {
      "cell_type": "code",
      "metadata": {
        "id": "FeqJLq6LpC46"
      },
      "source": [
        "data_p=cleaned_data[cleaned_data['Score']=='positive'].sample(n=5000)\r\n",
        "data_n=cleaned_data[cleaned_data['Score']=='negetive'].sample(n=5000)\r\n",
        "data=pd.concat([data_p,data_n])"
      ],
      "execution_count": 109,
      "outputs": []
    },
    {
      "cell_type": "code",
      "metadata": {
        "colab": {
          "base_uri": "https://localhost:8080/",
          "height": 357
        },
        "id": "gZK1hxjvpYar",
        "outputId": "d3ed1741-1bb0-4030-b000-2313277f8a14"
      },
      "source": [
        "data.head()"
      ],
      "execution_count": 110,
      "outputs": [
        {
          "output_type": "execute_result",
          "data": {
            "text/html": [
              "<div>\n",
              "<style scoped>\n",
              "    .dataframe tbody tr th:only-of-type {\n",
              "        vertical-align: middle;\n",
              "    }\n",
              "\n",
              "    .dataframe tbody tr th {\n",
              "        vertical-align: top;\n",
              "    }\n",
              "\n",
              "    .dataframe thead th {\n",
              "        text-align: right;\n",
              "    }\n",
              "</style>\n",
              "<table border=\"1\" class=\"dataframe\">\n",
              "  <thead>\n",
              "    <tr style=\"text-align: right;\">\n",
              "      <th></th>\n",
              "      <th>index</th>\n",
              "      <th>Id</th>\n",
              "      <th>ProductId</th>\n",
              "      <th>UserId</th>\n",
              "      <th>ProfileName</th>\n",
              "      <th>HelpfulnessNumerator</th>\n",
              "      <th>HelpfulnessDenominator</th>\n",
              "      <th>Score</th>\n",
              "      <th>Time</th>\n",
              "      <th>Summary</th>\n",
              "      <th>Text</th>\n",
              "      <th>CleanText</th>\n",
              "    </tr>\n",
              "  </thead>\n",
              "  <tbody>\n",
              "    <tr>\n",
              "      <th>149143</th>\n",
              "      <td>382423</td>\n",
              "      <td>413494</td>\n",
              "      <td>B0017M5V9A</td>\n",
              "      <td>A33QQ1S92XNB7V</td>\n",
              "      <td>D. Weitzler</td>\n",
              "      <td>7</td>\n",
              "      <td>10</td>\n",
              "      <td>positive</td>\n",
              "      <td>1250380800</td>\n",
              "      <td>For webbing clothes moths only</td>\n",
              "      <td>If you see the little sacks of the case making...</td>\n",
              "      <td>see littl sack case make cloth moth buy produc...</td>\n",
              "    </tr>\n",
              "    <tr>\n",
              "      <th>31507</th>\n",
              "      <td>34027</td>\n",
              "      <td>37028</td>\n",
              "      <td>B000ARTNRE</td>\n",
              "      <td>A2OIMJEGOCTQ87</td>\n",
              "      <td>Lisa</td>\n",
              "      <td>4</td>\n",
              "      <td>4</td>\n",
              "      <td>positive</td>\n",
              "      <td>1311206400</td>\n",
              "      <td>Good for a LACTOSE FREE formula</td>\n",
              "      <td>Our second daughter was having severe gas cram...</td>\n",
              "      <td>second daughter sever gas cramp would cri ate ...</td>\n",
              "    </tr>\n",
              "    <tr>\n",
              "      <th>114849</th>\n",
              "      <td>255169</td>\n",
              "      <td>276646</td>\n",
              "      <td>B000QF7KK2</td>\n",
              "      <td>A2AIB0TNI1FO5T</td>\n",
              "      <td>Condie</td>\n",
              "      <td>3</td>\n",
              "      <td>3</td>\n",
              "      <td>positive</td>\n",
              "      <td>1314057600</td>\n",
              "      <td>One Whiff Tells the Telli-</td>\n",
              "      <td>Open the package. Take a whiff. You'll never l...</td>\n",
              "      <td>open packag take whiff never look smell aroma ...</td>\n",
              "    </tr>\n",
              "    <tr>\n",
              "      <th>79153</th>\n",
              "      <td>499338</td>\n",
              "      <td>539890</td>\n",
              "      <td>B000H221Z8</td>\n",
              "      <td>A2OQUXSK2Y7TPS</td>\n",
              "      <td>Paul Chung Min Ha</td>\n",
              "      <td>2</td>\n",
              "      <td>2</td>\n",
              "      <td>positive</td>\n",
              "      <td>1172534400</td>\n",
              "      <td>the best ramen out there</td>\n",
              "      <td>These ramen noodles are the best in the whole ...</td>\n",
              "      <td>ramen noodl best whole korean colleg student e...</td>\n",
              "    </tr>\n",
              "    <tr>\n",
              "      <th>7286</th>\n",
              "      <td>191610</td>\n",
              "      <td>207747</td>\n",
              "      <td>B00012182G</td>\n",
              "      <td>A1G2G1WHEW02TY</td>\n",
              "      <td>Jeremy Cott \"Cott\"</td>\n",
              "      <td>46</td>\n",
              "      <td>59</td>\n",
              "      <td>positive</td>\n",
              "      <td>1265241600</td>\n",
              "      <td>Scary</td>\n",
              "      <td>BEWARE! I recieved my rabbit today, and it was...</td>\n",
              "      <td>reciev rabbit today aliv foul cruel rodent eve...</td>\n",
              "    </tr>\n",
              "  </tbody>\n",
              "</table>\n",
              "</div>"
            ],
            "text/plain": [
              "         index  ...                                          CleanText\n",
              "149143  382423  ...  see littl sack case make cloth moth buy produc...\n",
              "31507    34027  ...  second daughter sever gas cramp would cri ate ...\n",
              "114849  255169  ...  open packag take whiff never look smell aroma ...\n",
              "79153   499338  ...  ramen noodl best whole korean colleg student e...\n",
              "7286    191610  ...  reciev rabbit today aliv foul cruel rodent eve...\n",
              "\n",
              "[5 rows x 12 columns]"
            ]
          },
          "metadata": {
            "tags": []
          },
          "execution_count": 110
        }
      ]
    },
    {
      "cell_type": "code",
      "metadata": {
        "colab": {
          "base_uri": "https://localhost:8080/"
        },
        "id": "d1H9TPvfpX3x",
        "outputId": "be186e56-8497-4397-9152-b8a2816c4bc8"
      },
      "source": [
        "data.shape"
      ],
      "execution_count": 111,
      "outputs": [
        {
          "output_type": "execute_result",
          "data": {
            "text/plain": [
              "(10000, 12)"
            ]
          },
          "metadata": {
            "tags": []
          },
          "execution_count": 111
        }
      ]
    },
    {
      "cell_type": "code",
      "metadata": {
        "id": "Ky5aUieYpc0p"
      },
      "source": [
        "data['Time']=pd.to_datetime(data['Time'],unit='s')\r\n",
        "data=data.sort_values(by='Time')"
      ],
      "execution_count": 112,
      "outputs": []
    },
    {
      "cell_type": "code",
      "metadata": {
        "colab": {
          "base_uri": "https://localhost:8080/",
          "height": 357
        },
        "id": "xx1dw-mxpseT",
        "outputId": "e57bcf9d-7b16-4263-c10e-76c4cfdaa212"
      },
      "source": [
        "data.head()"
      ],
      "execution_count": 113,
      "outputs": [
        {
          "output_type": "execute_result",
          "data": {
            "text/html": [
              "<div>\n",
              "<style scoped>\n",
              "    .dataframe tbody tr th:only-of-type {\n",
              "        vertical-align: middle;\n",
              "    }\n",
              "\n",
              "    .dataframe tbody tr th {\n",
              "        vertical-align: top;\n",
              "    }\n",
              "\n",
              "    .dataframe thead th {\n",
              "        text-align: right;\n",
              "    }\n",
              "</style>\n",
              "<table border=\"1\" class=\"dataframe\">\n",
              "  <thead>\n",
              "    <tr style=\"text-align: right;\">\n",
              "      <th></th>\n",
              "      <th>index</th>\n",
              "      <th>Id</th>\n",
              "      <th>ProductId</th>\n",
              "      <th>UserId</th>\n",
              "      <th>ProfileName</th>\n",
              "      <th>HelpfulnessNumerator</th>\n",
              "      <th>HelpfulnessDenominator</th>\n",
              "      <th>Score</th>\n",
              "      <th>Time</th>\n",
              "      <th>Summary</th>\n",
              "      <th>Text</th>\n",
              "      <th>CleanText</th>\n",
              "    </tr>\n",
              "  </thead>\n",
              "  <tbody>\n",
              "    <tr>\n",
              "      <th>1030</th>\n",
              "      <td>443669</td>\n",
              "      <td>479730</td>\n",
              "      <td>B00005U2FA</td>\n",
              "      <td>A7BP01VQO33U</td>\n",
              "      <td>Caleb</td>\n",
              "      <td>11</td>\n",
              "      <td>11</td>\n",
              "      <td>positive</td>\n",
              "      <td>2002-05-23</td>\n",
              "      <td>Way To Go Guys!</td>\n",
              "      <td>I'm never dissapointed with the great gadgets ...</td>\n",
              "      <td>never dissapoint great gadget compani come bro...</td>\n",
              "    </tr>\n",
              "    <tr>\n",
              "      <th>4237</th>\n",
              "      <td>175209</td>\n",
              "      <td>190013</td>\n",
              "      <td>B0000DGG1U</td>\n",
              "      <td>A28SJYEFR84MU1</td>\n",
              "      <td>L Flores</td>\n",
              "      <td>18</td>\n",
              "      <td>18</td>\n",
              "      <td>positive</td>\n",
              "      <td>2004-01-20</td>\n",
              "      <td>Beautiful!</td>\n",
              "      <td>I received this tree only 3 days after I order...</td>\n",
              "      <td>receiv tree day order nice fat trunk look exac...</td>\n",
              "    </tr>\n",
              "    <tr>\n",
              "      <th>2429</th>\n",
              "      <td>511011</td>\n",
              "      <td>552536</td>\n",
              "      <td>B0000CCZYY</td>\n",
              "      <td>A32W5JY028CB9E</td>\n",
              "      <td>A. Mickelson</td>\n",
              "      <td>3</td>\n",
              "      <td>3</td>\n",
              "      <td>positive</td>\n",
              "      <td>2004-07-24</td>\n",
              "      <td>You have not had Licorice until you've had Panda</td>\n",
              "      <td>I am a huge black licorice fan, however I don'...</td>\n",
              "      <td>huge black licoric fan howev think realli expe...</td>\n",
              "    </tr>\n",
              "    <tr>\n",
              "      <th>10971</th>\n",
              "      <td>156041</td>\n",
              "      <td>169237</td>\n",
              "      <td>B0001ES9FI</td>\n",
              "      <td>A15GIGNO8UUR9E</td>\n",
              "      <td>Henny de Gruijter</td>\n",
              "      <td>10</td>\n",
              "      <td>12</td>\n",
              "      <td>positive</td>\n",
              "      <td>2004-08-05</td>\n",
              "      <td>Why not in Canada ?</td>\n",
              "      <td>Going on a regular basis to Holland, I got to ...</td>\n",
              "      <td>go regular basi holland got know philip senseo...</td>\n",
              "    </tr>\n",
              "    <tr>\n",
              "      <th>5203</th>\n",
              "      <td>157524</td>\n",
              "      <td>170815</td>\n",
              "      <td>B0000EIEWO</td>\n",
              "      <td>A3UU7SZXSZ2ZSB</td>\n",
              "      <td>David J. Dodson</td>\n",
              "      <td>9</td>\n",
              "      <td>12</td>\n",
              "      <td>negetive</td>\n",
              "      <td>2004-09-09</td>\n",
              "      <td>Good pears... bad service</td>\n",
              "      <td>I recently placed an order from this company a...</td>\n",
              "      <td>recent place order compani disappoint paid ext...</td>\n",
              "    </tr>\n",
              "  </tbody>\n",
              "</table>\n",
              "</div>"
            ],
            "text/plain": [
              "        index  ...                                          CleanText\n",
              "1030   443669  ...  never dissapoint great gadget compani come bro...\n",
              "4237   175209  ...  receiv tree day order nice fat trunk look exac...\n",
              "2429   511011  ...  huge black licoric fan howev think realli expe...\n",
              "10971  156041  ...  go regular basi holland got know philip senseo...\n",
              "5203   157524  ...  recent place order compani disappoint paid ext...\n",
              "\n",
              "[5 rows x 12 columns]"
            ]
          },
          "metadata": {
            "tags": []
          },
          "execution_count": 113
        }
      ]
    },
    {
      "cell_type": "markdown",
      "metadata": {
        "id": "3jqNY93hpvRr"
      },
      "source": [
        "## **BOW**"
      ]
    },
    {
      "cell_type": "code",
      "metadata": {
        "id": "gd9nIOjCptc4"
      },
      "source": [
        "from sklearn.neighbors import KNeighborsClassifier\r\n",
        "\r\n",
        "from sklearn.model_selection import cross_val_score\r\n",
        "# Fuction to compute k value\r\n",
        "def k_classifier_brute(X_train, y_train):\r\n",
        "    # creating odd list of K for KNN\r\n",
        "    myList = list(range(0,40))\r\n",
        "    neighbors = list(filter(lambda x: x % 2 != 0, myList))\r\n",
        "\r\n",
        "    # empty list that will hold cv scores\r\n",
        "    cv_scores = []\r\n",
        "\r\n",
        "    # perform 10-fold cross validation\r\n",
        "    for k in neighbors:\r\n",
        "        knn = KNeighborsClassifier(n_neighbors=k, algorithm = \"brute\")\r\n",
        "        scores = cross_val_score(knn, X_train, y_train, cv=10, scoring='accuracy')\r\n",
        "        cv_scores.append(scores.mean())\r\n",
        "\r\n",
        "    # changing to misclassification error\r\n",
        "    MSE = [1 - x for x in cv_scores]\r\n",
        "\r\n",
        "    # determining best k\r\n",
        "    optimal_k = neighbors[MSE.index(min(MSE))]\r\n",
        "    print('\\nThe optimal number of neighbors is %d.' % optimal_k)\r\n",
        "\r\n",
        "    # plot misclassification error vs k \r\n",
        "    plt.plot(neighbors, MSE)\r\n",
        "\r\n",
        "    for xy in zip(neighbors, np.round(MSE,3)):\r\n",
        "        plt.annotate('(%s, %s)' % xy, xy=xy, textcoords='data')\r\n",
        "    plt.title(\"Misclassification Error vs K\")\r\n",
        "    plt.xlabel('Number of Neighbors K')\r\n",
        "    plt.ylabel('Misclassification Error')\r\n",
        "    plt.show()\r\n",
        "\r\n",
        "    print(\"the misclassification error for each k value is : \", np.round(MSE,3))\r\n",
        "    return optimal_k"
      ],
      "execution_count": 114,
      "outputs": []
    },
    {
      "cell_type": "code",
      "metadata": {
        "colab": {
          "base_uri": "https://localhost:8080/"
        },
        "id": "9U5BIrnmsktt",
        "outputId": "ff584269-84c3-4b0c-d104-a26c28e446fe"
      },
      "source": [
        "## 7k data which will use to train model after vectorization\r\n",
        "X= data['CleanText']\r\n",
        "y=data['Score']\r\n",
        "print(X.shape,y.shape)"
      ],
      "execution_count": 115,
      "outputs": [
        {
          "output_type": "stream",
          "text": [
            "(10000,) (10000,)\n"
          ],
          "name": "stdout"
        }
      ]
    },
    {
      "cell_type": "code",
      "metadata": {
        "colab": {
          "base_uri": "https://localhost:8080/"
        },
        "id": "B-kJua-TtMv6",
        "outputId": "f1e1686a-748b-4304-ee19-82c0e64275d8"
      },
      "source": [
        "#Splitting data in to 70% Train % Test\r\n",
        "\r\n",
        "from sklearn.model_selection import train_test_split\r\n",
        "X_train,X_test,y_train,y_test=train_test_split(X,y,test_size=0.3,random_state=42)\r\n",
        "print(X_train.shape,y_train.shape,X_test.shape,y_test.shape)"
      ],
      "execution_count": 116,
      "outputs": [
        {
          "output_type": "stream",
          "text": [
            "(7000,) (7000,) (3000,) (3000,)\n"
          ],
          "name": "stdout"
        }
      ]
    },
    {
      "cell_type": "code",
      "metadata": {
        "id": "n4CBpIUstsf5"
      },
      "source": [
        "# Train Vectorizor\r\n",
        "\r\n",
        "from sklearn.feature_extraction.text import CountVectorizer\r\n",
        "bow=CountVectorizer()\r\n",
        "X_train=bow.fit_transform(X_train)\r\n"
      ],
      "execution_count": 117,
      "outputs": []
    },
    {
      "cell_type": "code",
      "metadata": {
        "id": "1BwCYKeVuPkA"
      },
      "source": [
        "X_test=bow.transform(X_test)\r\n"
      ],
      "execution_count": 118,
      "outputs": []
    },
    {
      "cell_type": "code",
      "metadata": {
        "colab": {
          "base_uri": "https://localhost:8080/"
        },
        "id": "nz6GMySAuVm3",
        "outputId": "b246c9db-f866-41be-e704-e64a18ad1715"
      },
      "source": [
        "print(X_test.shape)"
      ],
      "execution_count": 119,
      "outputs": [
        {
          "output_type": "stream",
          "text": [
            "(3000, 10943)\n"
          ],
          "name": "stdout"
        }
      ]
    },
    {
      "cell_type": "code",
      "metadata": {
        "colab": {
          "base_uri": "https://localhost:8080/",
          "height": 380
        },
        "id": "lCx9bU7Lubov",
        "outputId": "840f04ca-b0c3-407f-d827-24883226e4f6"
      },
      "source": [
        "from sklearn.metrics import accuracy_score\r\n",
        "optimal_k_bow= k_classifier_brute(X_train,y_train)\r\n",
        "optimal_k_bow"
      ],
      "execution_count": 120,
      "outputs": [
        {
          "output_type": "stream",
          "text": [
            "\n",
            "The optimal number of neighbors is 39.\n"
          ],
          "name": "stdout"
        },
        {
          "output_type": "display_data",
          "data": {
            "image/png": "[encoded data removed]",
            "text/plain": [
              "<Figure size 432x288 with 1 Axes>"
            ]
          },
          "metadata": {
            "tags": [],
            "needs_background": "light"
          }
        },
        {
          "output_type": "stream",
          "text": [
            "the misclassification error for each k value is :  [0.399 0.36  0.353 0.352 0.342 0.338 0.337 0.331 0.326 0.324 0.319 0.315\n",
            " 0.316 0.315 0.31  0.304 0.307 0.305 0.303 0.302]\n"
          ],
          "name": "stdout"
        },
        {
          "output_type": "execute_result",
          "data": {
            "text/plain": [
              "39"
            ]
          },
          "metadata": {
            "tags": []
          },
          "execution_count": 120
        }
      ]
    },
    {
      "cell_type": "code",
      "metadata": {
        "id": "9IuKH5UPuoxI"
      },
      "source": [
        "# instantiate learning model k = optimal_k\r\n",
        "\r\n",
        "knn_optimal=KNeighborsClassifier(n_neighbors=optimal_k_bow)\r\n",
        "\r\n",
        "#fitting the model\r\n",
        "knn_optimal.fit(X_train,y_train)\r\n",
        "\r\n",
        "#Predict respondse\r\n",
        "pred=knn_optimal.predict(X_test)"
      ],
      "execution_count": 121,
      "outputs": []
    },
    {
      "cell_type": "code",
      "metadata": {
        "colab": {
          "base_uri": "https://localhost:8080/"
        },
        "id": "zznTrKqRx2eB",
        "outputId": "d11d2de7-cea4-49ff-cad0-1d94f23989b3"
      },
      "source": [
        "#Accuracy on Train data\r\n",
        "train_acc_bow=knn_optimal.score(X_train,y_train)\r\n",
        "print('Train accuracy',train_acc_bow)\r\n",
        "\r\n",
        "train_err_bow=1-train_acc_bow\r\n",
        "print('Train error is ',train_err_bow)"
      ],
      "execution_count": 122,
      "outputs": [
        {
          "output_type": "stream",
          "text": [
            "Train accuracy 0.7467142857142857\n",
            "Train error is  0.25328571428571434\n"
          ],
          "name": "stdout"
        }
      ]
    },
    {
      "cell_type": "code",
      "metadata": {
        "colab": {
          "base_uri": "https://localhost:8080/"
        },
        "id": "V8xKF6G9yQ5Y",
        "outputId": "ce533722-49ef-4081-9450-a546e1096295"
      },
      "source": [
        "#Evaluate accuracy on test data\r\n",
        "\r\n",
        "acc_bow=accuracy_score(y_test,pred)*100\r\n",
        "print('The accuracy of KNN classifier k={}, accuracy={}'.format(optimal_k_bow,acc_bow))"
      ],
      "execution_count": 123,
      "outputs": [
        {
          "output_type": "stream",
          "text": [
            "The accuracy of KNN classifier k=39, accuracy=69.16666666666667\n"
          ],
          "name": "stdout"
        }
      ]
    },
    {
      "cell_type": "code",
      "metadata": {
        "colab": {
          "base_uri": "https://localhost:8080/"
        },
        "id": "6IkPhniBywau",
        "outputId": "66a6685e-fa75-4034-d863-67d1771391f4"
      },
      "source": [
        "from sklearn.metrics import confusion_matrix\r\n",
        "cm=confusion_matrix(y_test,pred)\r\n",
        "cm"
      ],
      "execution_count": 124,
      "outputs": [
        {
          "output_type": "execute_result",
          "data": {
            "text/plain": [
              "array([[ 898,  542],\n",
              "       [ 383, 1177]])"
            ]
          },
          "metadata": {
            "tags": []
          },
          "execution_count": 124
        }
      ]
    },
    {
      "cell_type": "code",
      "metadata": {
        "colab": {
          "base_uri": "https://localhost:8080/",
          "height": 295
        },
        "id": "Ct06Pj8azInG",
        "outputId": "080b3a4a-a011-406e-cfaf-f586f0cb1333"
      },
      "source": [
        "import seaborn as sns\r\n",
        "class_label=['negetive','positive']\r\n",
        "df_cm=pd.DataFrame(cm,index=class_label,columns=class_label)\r\n",
        "sns.heatmap(df_cm,annot=True,fmt='d')\r\n",
        "plt.title('confusion matrix')\r\n",
        "plt.xlabel('predicted label')\r\n",
        "plt.ylabel('Actual label')\r\n",
        "plt.show()"
      ],
      "execution_count": 125,
      "outputs": [
        {
          "output_type": "display_data",
          "data": {
            "image/png": "[encoded data removed]",
            "text/plain": [
              "<Figure size 432x288 with 2 Axes>"
            ]
          },
          "metadata": {
            "tags": [],
            "needs_background": "light"
          }
        }
      ]
    },
    {
      "cell_type": "code",
      "metadata": {
        "colab": {
          "base_uri": "https://localhost:8080/",
          "height": 111
        },
        "id": "yauQIAk4zZYm",
        "outputId": "eca85cc4-a82e-4b92-bb31-5ced3de62fa7"
      },
      "source": [
        "df_cm"
      ],
      "execution_count": 126,
      "outputs": [
        {
          "output_type": "execute_result",
          "data": {
            "text/html": [
              "<div>\n",
              "<style scoped>\n",
              "    .dataframe tbody tr th:only-of-type {\n",
              "        vertical-align: middle;\n",
              "    }\n",
              "\n",
              "    .dataframe tbody tr th {\n",
              "        vertical-align: top;\n",
              "    }\n",
              "\n",
              "    .dataframe thead th {\n",
              "        text-align: right;\n",
              "    }\n",
              "</style>\n",
              "<table border=\"1\" class=\"dataframe\">\n",
              "  <thead>\n",
              "    <tr style=\"text-align: right;\">\n",
              "      <th></th>\n",
              "      <th>negetive</th>\n",
              "      <th>positive</th>\n",
              "    </tr>\n",
              "  </thead>\n",
              "  <tbody>\n",
              "    <tr>\n",
              "      <th>negetive</th>\n",
              "      <td>898</td>\n",
              "      <td>542</td>\n",
              "    </tr>\n",
              "    <tr>\n",
              "      <th>positive</th>\n",
              "      <td>383</td>\n",
              "      <td>1177</td>\n",
              "    </tr>\n",
              "  </tbody>\n",
              "</table>\n",
              "</div>"
            ],
            "text/plain": [
              "          negetive  positive\n",
              "negetive       898       542\n",
              "positive       383      1177"
            ]
          },
          "metadata": {
            "tags": []
          },
          "execution_count": 126
        }
      ]
    },
    {
      "cell_type": "code",
      "metadata": {
        "colab": {
          "base_uri": "https://localhost:8080/"
        },
        "id": "a2dhHIcGzaZ-",
        "outputId": "b3b02541-d0dd-4f54-ed52-498f9c0c3726"
      },
      "source": [
        "from sklearn.metrics import classification_report\r\n",
        "print(classification_report(y_test,pred))\r\n"
      ],
      "execution_count": 127,
      "outputs": [
        {
          "output_type": "stream",
          "text": [
            "              precision    recall  f1-score   support\n",
            "\n",
            "    negetive       0.70      0.62      0.66      1440\n",
            "    positive       0.68      0.75      0.72      1560\n",
            "\n",
            "    accuracy                           0.69      3000\n",
            "   macro avg       0.69      0.69      0.69      3000\n",
            "weighted avg       0.69      0.69      0.69      3000\n",
            "\n"
          ],
          "name": "stdout"
        }
      ]
    },
    {
      "cell_type": "markdown",
      "metadata": {
        "id": "RL309sPm0ILx"
      },
      "source": [
        "\r\n",
        "**Observations:**\r\n",
        "\r\n",
        "1) From above figure(misclassification error vs optimal k),\r\n",
        " it is showing that classification error for each value of k, when k is increaseing the error is decreasing.            \r\n",
        " 2) For example, if k = 1, error is 37%, k = 2, error is 34% and so on.\r\n",
        " 3) As I tested our model on unseen data(test data) the accuracy is 68.53 when k = 33           \r\n",
        " 4) In confusion matrix, It is clear that out of 3k unseen data-points classifier predict 1532 positive and 942 negative class label but in realilty there were 1517 positive and 1483 were negative.             \r\n",
        " 5) So we can say the generalization error is quite high thats why this model does not work well with unseen data."
      ]
    },
    {
      "cell_type": "markdown",
      "metadata": {
        "id": "e_qT9v1X3Ci-"
      },
      "source": [
        "## TF-**IDF**"
      ]
    },
    {
      "cell_type": "code",
      "metadata": {
        "colab": {
          "base_uri": "https://localhost:8080/"
        },
        "id": "WHf0yUjt3Fji",
        "outputId": "0bad11a1-b9f4-4f55-af22-5a8953c5abfa"
      },
      "source": [
        "X= data['CleanText']\r\n",
        "y=data['Score']\r\n",
        "print(X.shape,y.shape)"
      ],
      "execution_count": 269,
      "outputs": [
        {
          "output_type": "stream",
          "text": [
            "(10000,) (10000,)\n"
          ],
          "name": "stdout"
        }
      ]
    },
    {
      "cell_type": "code",
      "metadata": {
        "colab": {
          "base_uri": "https://localhost:8080/"
        },
        "id": "ctYwKOdM3Qtw",
        "outputId": "96a29731-d3f2-4816-dcf7-0eac49732c8a"
      },
      "source": [
        "X_train,X_test,y_train,y_test=train_test_split(X,y,test_size=0.3,random_state=42)\r\n",
        "print(X_train.shape,X_test.shape,y_train.shape,y_test.shape)"
      ],
      "execution_count": 270,
      "outputs": [
        {
          "output_type": "stream",
          "text": [
            "(7000,) (3000,) (7000,) (3000,)\n"
          ],
          "name": "stdout"
        }
      ]
    },
    {
      "cell_type": "code",
      "metadata": {
        "colab": {
          "base_uri": "https://localhost:8080/"
        },
        "id": "c0B_6oZj3pG3",
        "outputId": "ec5241dc-9f09-4dd0-bd8a-2b34a6139e5a"
      },
      "source": [
        "from sklearn.feature_extraction.text import TfidfVectorizer\r\n",
        "tf_idf_vec=TfidfVectorizer()\r\n",
        "X_train=tf_idf_vec.fit_transform(X_train)\r\n",
        "X_train"
      ],
      "execution_count": 271,
      "outputs": [
        {
          "output_type": "execute_result",
          "data": {
            "text/plain": [
              "<7000x10943 sparse matrix of type '<class 'numpy.float64'>'\n",
              "\twith 212454 stored elements in Compressed Sparse Row format>"
            ]
          },
          "metadata": {
            "tags": []
          },
          "execution_count": 271
        }
      ]
    },
    {
      "cell_type": "code",
      "metadata": {
        "colab": {
          "base_uri": "https://localhost:8080/"
        },
        "id": "dh0FIfr-34c1",
        "outputId": "1b6b96ef-e469-481a-c0bd-c5993552d40e"
      },
      "source": [
        "X_test=tf_idf_vec.transform(X_test)\r\n",
        "X_test"
      ],
      "execution_count": 272,
      "outputs": [
        {
          "output_type": "execute_result",
          "data": {
            "text/plain": [
              "<3000x10943 sparse matrix of type '<class 'numpy.float64'>'\n",
              "\twith 89826 stored elements in Compressed Sparse Row format>"
            ]
          },
          "metadata": {
            "tags": []
          },
          "execution_count": 272
        }
      ]
    },
    {
      "cell_type": "code",
      "metadata": {
        "colab": {
          "base_uri": "https://localhost:8080/",
          "height": 380
        },
        "id": "oWbO6C3r4Cn9",
        "outputId": "9ef8e777-5ed9-41ad-d19a-ebaba039c3fe"
      },
      "source": [
        "#choosing optimal_k\r\n",
        "optimal_k_tfidf=k_classifier_brute(X_train,y_train)\r\n",
        "optimal_k_tfidf"
      ],
      "execution_count": 273,
      "outputs": [
        {
          "output_type": "stream",
          "text": [
            "\n",
            "The optimal number of neighbors is 39.\n"
          ],
          "name": "stdout"
        },
        {
          "output_type": "display_data",
          "data": {
            "image/png": "[encoded data removed]",
            "text/plain": [
              "<Figure size 432x288 with 1 Axes>"
            ]
          },
          "metadata": {
            "tags": [],
            "needs_background": "light"
          }
        },
        {
          "output_type": "stream",
          "text": [
            "the misclassification error for each k value is :  [0.371 0.349 0.33  0.326 0.319 0.309 0.303 0.296 0.294 0.292 0.29  0.287\n",
            " 0.284 0.284 0.281 0.276 0.277 0.278 0.274 0.268]\n"
          ],
          "name": "stdout"
        },
        {
          "output_type": "execute_result",
          "data": {
            "text/plain": [
              "39"
            ]
          },
          "metadata": {
            "tags": []
          },
          "execution_count": 273
        }
      ]
    },
    {
      "cell_type": "code",
      "metadata": {
        "id": "HKrvNqE44Nkl"
      },
      "source": [
        "knn_optimal=KNeighborsClassifier(n_neighbors=optimal_k_tfidf)\r\n",
        "\r\n",
        "#Fitting model\r\n",
        "knn_optimal.fit(X_train,y_train)\r\n",
        "\r\n",
        "#predict response\r\n",
        "pred=knn_optimal.predict(X_test)\r\n"
      ],
      "execution_count": 274,
      "outputs": []
    },
    {
      "cell_type": "code",
      "metadata": {
        "colab": {
          "base_uri": "https://localhost:8080/"
        },
        "id": "3HF_jr1P4lxk",
        "outputId": "4dab6540-6d7e-4482-ab3d-76637ba36302"
      },
      "source": [
        "train_acctfidf=knn_optimal.score(X_train,y_train)\r\n",
        "print('Train accuracy',train_acctfidf)\r\n",
        "\r\n",
        "train_err_tfidf=1-train_acctfidf\r\n",
        "print('train error tfiddf',train_err_tfidf)"
      ],
      "execution_count": 275,
      "outputs": [
        {
          "output_type": "stream",
          "text": [
            "Train accuracy 0.7584285714285715\n",
            "train error tfiddf 0.24157142857142855\n"
          ],
          "name": "stdout"
        }
      ]
    },
    {
      "cell_type": "code",
      "metadata": {
        "colab": {
          "base_uri": "https://localhost:8080/"
        },
        "id": "7au5TjvE4-EE",
        "outputId": "f63c1440-d466-47c5-ecfc-038930342d20"
      },
      "source": [
        "#Evaluating accuracy\r\n",
        "\r\n",
        "acc_tfidf=accuracy_score(y_test,pred)*100\r\n",
        "print('The accuracy of knn classifier for k = {}, and accuracy={}'.format(optimal_k_tfidf,acc_tfidf))"
      ],
      "execution_count": 276,
      "outputs": [
        {
          "output_type": "stream",
          "text": [
            "The accuracy of knn classifier for k = 39, and accuracy=72.0\n"
          ],
          "name": "stdout"
        }
      ]
    },
    {
      "cell_type": "code",
      "metadata": {
        "colab": {
          "base_uri": "https://localhost:8080/"
        },
        "id": "DSMt2WQ_5X2X",
        "outputId": "3c04a367-bb99-467c-f6b3-72f0c4465305"
      },
      "source": [
        "#confusion  matrix\r\n",
        "cm=confusion_matrix(y_test,pred)\r\n",
        "cm"
      ],
      "execution_count": 187,
      "outputs": [
        {
          "output_type": "execute_result",
          "data": {
            "text/plain": [
              "array([[ 997,  443],\n",
              "       [ 397, 1163]])"
            ]
          },
          "metadata": {
            "tags": []
          },
          "execution_count": 187
        }
      ]
    },
    {
      "cell_type": "code",
      "metadata": {
        "colab": {
          "base_uri": "https://localhost:8080/",
          "height": 295
        },
        "id": "tjbmTBkz5xGy",
        "outputId": "5ef8c184-f3f5-4663-930a-33c75e024272"
      },
      "source": [
        "class_label=['negetive','positive']\r\n",
        "df_cm=pd.DataFrame(cm,index=class_label,columns=class_label)\r\n",
        "sns.heatmap(df_cm,annot=True,fmt='d')\r\n",
        "plt.title('Confusion Matrix')\r\n",
        "plt.xlabel('Predicted Label')\r\n",
        "plt.ylabel('Actual Label')\r\n",
        "plt.show()"
      ],
      "execution_count": 188,
      "outputs": [
        {
          "output_type": "display_data",
          "data": {
            "image/png": "[encoded data removed]",
            "text/plain": [
              "<Figure size 432x288 with 2 Axes>"
            ]
          },
          "metadata": {
            "tags": [],
            "needs_background": "light"
          }
        }
      ]
    },
    {
      "cell_type": "code",
      "metadata": {
        "colab": {
          "base_uri": "https://localhost:8080/"
        },
        "id": "GDVCoYvN6ULh",
        "outputId": "626981ab-b0b4-4d62-d269-50222daf9ca5"
      },
      "source": [
        "from sklearn.metrics import classification_report\r\n",
        "print(classification_report(y_test,pred))"
      ],
      "execution_count": 189,
      "outputs": [
        {
          "output_type": "stream",
          "text": [
            "              precision    recall  f1-score   support\n",
            "\n",
            "    negetive       0.72      0.69      0.70      1440\n",
            "    positive       0.72      0.75      0.73      1560\n",
            "\n",
            "    accuracy                           0.72      3000\n",
            "   macro avg       0.72      0.72      0.72      3000\n",
            "weighted avg       0.72      0.72      0.72      3000\n",
            "\n"
          ],
          "name": "stdout"
        }
      ]
    },
    {
      "cell_type": "markdown",
      "metadata": {
        "id": "dAwbGWTF6tAG"
      },
      "source": [
        "\r\n",
        "# **Observations:**\r\n",
        " 1) Optimal k is 39 accuracy is 73.93   \r\n",
        " 2) From Confusion matrix, model predicted 1623 as positive & acutal postive are 1505 and predicted 1377 as negative & actual negative are 1495 which is quite good.     \r\n",
        " 3) So we can say that, this model works well"
      ]
    },
    {
      "cell_type": "markdown",
      "metadata": {
        "id": "3__wQdbT8fSJ"
      },
      "source": [
        "## **WORD2VEC**"
      ]
    },
    {
      "cell_type": "code",
      "metadata": {
        "colab": {
          "base_uri": "https://localhost:8080/"
        },
        "id": "_Yv95d4Z8kO4",
        "outputId": "cbaf03ac-9813-41df-aa71-4ed70273cef2"
      },
      "source": [
        "X= data['CleanText']\r\n",
        "y=data['Score']\r\n",
        "print(X.shape,y.shape)"
      ],
      "execution_count": 190,
      "outputs": [
        {
          "output_type": "stream",
          "text": [
            "(10000,) (10000,)\n"
          ],
          "name": "stdout"
        }
      ]
    },
    {
      "cell_type": "code",
      "metadata": {
        "colab": {
          "base_uri": "https://localhost:8080/"
        },
        "id": "JG6kiRS58qCN",
        "outputId": "3cc14d9f-7153-46e3-a31b-52df429f6504"
      },
      "source": [
        "X_train,X_test,y_train,y_test=train_test_split(X,y,test_size=0.3,random_state=40)\r\n",
        "print(X_train.shape,X_test.shape,y_train.shape,y_test.shape)"
      ],
      "execution_count": 191,
      "outputs": [
        {
          "output_type": "stream",
          "text": [
            "(7000,) (3000,) (7000,) (3000,)\n"
          ],
          "name": "stdout"
        }
      ]
    },
    {
      "cell_type": "code",
      "metadata": {
        "id": "a9s5lwc3jCRD"
      },
      "source": [
        "# Train your own Word2Vec model using your own train text corpus\r\n",
        "import gensim\r\n",
        "list_of_sent=[]\r\n",
        "for sent in X_train:\r\n",
        "    filtered_sentence=[]\r\n",
        "    sent=cleanhtml(sent)\r\n",
        "    for w in sent.split():\r\n",
        "        for cleaned_words in cleanpunc(w).split():\r\n",
        "            if(cleaned_words.isalpha()):    \r\n",
        "                filtered_sentence.append(cleaned_words.lower())\r\n",
        "            else:\r\n",
        "                continue \r\n",
        "    list_of_sent.append(filtered_sentence)\r\n",
        "    "
      ],
      "execution_count": 192,
      "outputs": []
    },
    {
      "cell_type": "code",
      "metadata": {
        "id": "LOdReQfLkpm3"
      },
      "source": [
        "w2v_model= gensim.models.Word2Vec(list_of_sent,min_count=5,size=50,workers=4)\r\n",
        " "
      ],
      "execution_count": 193,
      "outputs": []
    },
    {
      "cell_type": "code",
      "metadata": {
        "colab": {
          "base_uri": "https://localhost:8080/"
        },
        "id": "A4mViHIkk4_G",
        "outputId": "3fe4ace2-72aa-434d-b485-7f0bf339766c"
      },
      "source": [
        "w2v_model.wv.most_similar('like')"
      ],
      "execution_count": 194,
      "outputs": [
        {
          "output_type": "execute_result",
          "data": {
            "text/plain": [
              "[('realli', 0.9623720645904541),\n",
              " ('tast', 0.952036440372467),\n",
              " ('textur', 0.9386048913002014),\n",
              " ('pretti', 0.9382772445678711),\n",
              " ('spici', 0.9239088296890259),\n",
              " ('noth', 0.9209856986999512),\n",
              " ('smell', 0.9088646769523621),\n",
              " ('aftertast', 0.9064043164253235),\n",
              " ('real', 0.906173050403595),\n",
              " ('unappet', 0.9011863470077515)]"
            ]
          },
          "metadata": {
            "tags": []
          },
          "execution_count": 194
        }
      ]
    },
    {
      "cell_type": "code",
      "metadata": {
        "colab": {
          "base_uri": "https://localhost:8080/"
        },
        "id": "cRTIg4WLlS4A",
        "outputId": "3c688be7-a919-42c3-8337-7f5235c8cb1d"
      },
      "source": [
        "w2v=w2v_model[w2v_model.wv.vocab]"
      ],
      "execution_count": 195,
      "outputs": [
        {
          "output_type": "stream",
          "text": [
            "/usr/local/lib/python3.6/dist-packages/ipykernel_launcher.py:1: DeprecationWarning: Call to deprecated `__getitem__` (Method will be removed in 4.0.0, use self.wv.__getitem__() instead).\n",
            "  \"\"\"Entry point for launching an IPython kernel.\n"
          ],
          "name": "stderr"
        }
      ]
    },
    {
      "cell_type": "code",
      "metadata": {
        "colab": {
          "base_uri": "https://localhost:8080/"
        },
        "id": "Rot7NxC5mwcT",
        "outputId": "1595aee0-9b79-4c2c-89d8-3713c20706ac"
      },
      "source": [
        "w2v.shape"
      ],
      "execution_count": 145,
      "outputs": [
        {
          "output_type": "execute_result",
          "data": {
            "text/plain": [
              "(3765, 50)"
            ]
          },
          "metadata": {
            "tags": []
          },
          "execution_count": 145
        }
      ]
    },
    {
      "cell_type": "code",
      "metadata": {
        "id": "DJ0yH5Yom_Br"
      },
      "source": [
        "import gensim\r\n",
        "list_of_sent_test = []\r\n",
        "for sent in X_test:\r\n",
        "    filtered_sentence=[]\r\n",
        "    sent=cleanhtml(sent)\r\n",
        "    for w in sent.split():\r\n",
        "        for cleaned_words in cleanpunc(w).split():\r\n",
        "            if(cleaned_words.isalpha()):    \r\n",
        "                filtered_sentence.append(cleaned_words.lower())\r\n",
        "            else:\r\n",
        "                continue \r\n",
        "    list_of_sent_test.append(filtered_sentence)"
      ],
      "execution_count": 196,
      "outputs": []
    },
    {
      "cell_type": "code",
      "metadata": {
        "id": "Xla-QnYTnFVs"
      },
      "source": [
        "w2v_model=gensim.models.Word2Vec(list_of_sent_test, min_count=5, size=50, workers=4)"
      ],
      "execution_count": 197,
      "outputs": []
    },
    {
      "cell_type": "code",
      "metadata": {
        "colab": {
          "base_uri": "https://localhost:8080/"
        },
        "id": "y-J_tH5jnH5Q",
        "outputId": "4ce29b6d-2caf-492e-8f65-726769d4db02"
      },
      "source": [
        "w2v_model.wv.most_similar('like')"
      ],
      "execution_count": 148,
      "outputs": [
        {
          "output_type": "execute_result",
          "data": {
            "text/plain": [
              "[('tast', 0.998896598815918),\n",
              " ('sweet', 0.9988009333610535),\n",
              " ('flavor', 0.9987777471542358),\n",
              " ('smell', 0.9978070259094238),\n",
              " ('drink', 0.9977276921272278),\n",
              " ('good', 0.9974933862686157),\n",
              " ('realli', 0.9974045753479004),\n",
              " ('strong', 0.9972988367080688),\n",
              " ('chocol', 0.9967747926712036),\n",
              " ('bitter', 0.9965669512748718)]"
            ]
          },
          "metadata": {
            "tags": []
          },
          "execution_count": 148
        }
      ]
    },
    {
      "cell_type": "code",
      "metadata": {
        "colab": {
          "base_uri": "https://localhost:8080/"
        },
        "id": "kiDchKZ3nL37",
        "outputId": "cbc1312f-c8ae-4e38-fef5-ffa32b4c9c1e"
      },
      "source": [
        "w2v = w2v_model[w2v_model.wv.vocab]"
      ],
      "execution_count": 198,
      "outputs": [
        {
          "output_type": "stream",
          "text": [
            "/usr/local/lib/python3.6/dist-packages/ipykernel_launcher.py:1: DeprecationWarning: Call to deprecated `__getitem__` (Method will be removed in 4.0.0, use self.wv.__getitem__() instead).\n",
            "  \"\"\"Entry point for launching an IPython kernel.\n"
          ],
          "name": "stderr"
        }
      ]
    },
    {
      "cell_type": "markdown",
      "metadata": {
        "id": "cVjz6OqcnNpa"
      },
      "source": [
        "## AVG **W2V**"
      ]
    },
    {
      "cell_type": "code",
      "metadata": {
        "colab": {
          "base_uri": "https://localhost:8080/"
        },
        "id": "rGqSlUbHnRAV",
        "outputId": "1d2f9024-df8d-4d94-d72f-70ff3361c64a"
      },
      "source": [
        "# average Word2Vec\r\n",
        "# compute average word2vec for each review.\r\n",
        "sent_vectors = []; # the avg-w2v for each sentence/review is stored in this list\r\n",
        "for sent in list_of_sent: # for each review/sentence\r\n",
        "    sent_vec = np.zeros(50) # as word vectors are of zero length\r\n",
        "    cnt_words =0; # num of words with a valid vector in the sentence/review\r\n",
        "    for word in sent: # for each word in a review/sentence\r\n",
        "        try:\r\n",
        "            vec = w2v_model.wv[word]\r\n",
        "            sent_vec += vec\r\n",
        "            cnt_words += 1\r\n",
        "        except:\r\n",
        "            pass\r\n",
        "    sent_vec /= cnt_words\r\n",
        "    sent_vectors.append(sent_vec)\r\n",
        "print(len(sent_vectors))\r\n",
        "print(len(sent_vectors[0]))"
      ],
      "execution_count": 199,
      "outputs": [
        {
          "output_type": "stream",
          "text": [
            "7000\n",
            "50\n"
          ],
          "name": "stdout"
        }
      ]
    },
    {
      "cell_type": "code",
      "metadata": {
        "colab": {
          "base_uri": "https://localhost:8080/"
        },
        "id": "7MnFiVn_nTUx",
        "outputId": "a61d6a53-3e6a-4834-eab7-76b991344c0f"
      },
      "source": [
        "# average Word2Vec\r\n",
        "# compute average word2vec for each review.\r\n",
        "sent_vectors_test = []; # the avg-w2v for each sentence/review is stored in this list\r\n",
        "for sent in list_of_sent_test: # for each review/sentence\r\n",
        "    sent_vec = np.zeros(50) # as word vectors are of zero length\r\n",
        "    cnt_words =0; # num of words with a valid vector in the sentence/review\r\n",
        "    for word in sent: # for each word in a review/sentence\r\n",
        "        try:\r\n",
        "            vec = w2v_model.wv[word]\r\n",
        "            sent_vec += vec\r\n",
        "            cnt_words += 1\r\n",
        "        except:\r\n",
        "            pass\r\n",
        "    sent_vec /= cnt_words\r\n",
        "    sent_vectors_test.append(sent_vec)\r\n",
        "print(len(sent_vectors_test))\r\n",
        "print(len(sent_vectors_test[0]))"
      ],
      "execution_count": 201,
      "outputs": [
        {
          "output_type": "stream",
          "text": [
            "3000\n",
            "50\n"
          ],
          "name": "stdout"
        }
      ]
    },
    {
      "cell_type": "code",
      "metadata": {
        "id": "-WMZlx6JnWSp"
      },
      "source": [
        "\r\n",
        "X_train=sent_vectors"
      ],
      "execution_count": 202,
      "outputs": []
    },
    {
      "cell_type": "code",
      "metadata": {
        "id": "QGgCSMgjnZv7"
      },
      "source": [
        "\r\n",
        "X_test = sent_vectors_test"
      ],
      "execution_count": 203,
      "outputs": []
    },
    {
      "cell_type": "code",
      "metadata": {
        "colab": {
          "base_uri": "https://localhost:8080/",
          "height": 380
        },
        "id": "ypnJKKAqna-Z",
        "outputId": "11400fc1-884b-405f-b5dc-cb4a63c8b166"
      },
      "source": [
        "\r\n",
        "optimal_k_avgw2v = k_classifier_brute(X_train, y_train)\r\n",
        "optimal_k_avgw2v"
      ],
      "execution_count": 204,
      "outputs": [
        {
          "output_type": "stream",
          "text": [
            "\n",
            "The optimal number of neighbors is 39.\n"
          ],
          "name": "stdout"
        },
        {
          "output_type": "display_data",
          "data": {
            "image/png": "[encoded data removed]",
            "text/plain": [
              "<Figure size 432x288 with 1 Axes>"
            ]
          },
          "metadata": {
            "tags": [],
            "needs_background": "light"
          }
        },
        {
          "output_type": "stream",
          "text": [
            "the misclassification error for each k value is :  [0.42  0.402 0.4   0.396 0.403 0.393 0.395 0.394 0.388 0.39  0.39  0.393\n",
            " 0.394 0.388 0.39  0.387 0.387 0.385 0.387 0.383]\n"
          ],
          "name": "stdout"
        },
        {
          "output_type": "execute_result",
          "data": {
            "text/plain": [
              "39"
            ]
          },
          "metadata": {
            "tags": []
          },
          "execution_count": 204
        }
      ]
    },
    {
      "cell_type": "code",
      "metadata": {
        "id": "N6fsDbHendRK"
      },
      "source": [
        "# instantiate learning model k = optimal_k\r\n",
        "knn_optimal = KNeighborsClassifier(n_neighbors=optimal_k_avgw2v)\r\n",
        "\r\n",
        "# fitting the model\r\n",
        "knn_optimal.fit(X_train, y_train)\r\n",
        "\r\n",
        "    \r\n",
        "# predict the response\r\n",
        "pred = knn_optimal.predict(X_test)"
      ],
      "execution_count": 205,
      "outputs": []
    },
    {
      "cell_type": "code",
      "metadata": {
        "colab": {
          "base_uri": "https://localhost:8080/"
        },
        "id": "uZlewtO6sECh",
        "outputId": "a7bae53c-9a5b-4ac0-a79b-5dcd291b62d6"
      },
      "source": [
        "# Accuracy on train data\r\n",
        "train_acc_avgw2v = knn_optimal.score(X_train, y_train)\r\n",
        "print(\"Train accuracy\", train_acc_avgw2v)"
      ],
      "execution_count": 206,
      "outputs": [
        {
          "output_type": "stream",
          "text": [
            "Train accuracy 0.6612857142857143\n"
          ],
          "name": "stdout"
        }
      ]
    },
    {
      "cell_type": "code",
      "metadata": {
        "colab": {
          "base_uri": "https://localhost:8080/"
        },
        "id": "ALq0Wgr1sUOg",
        "outputId": "b2ae920f-fd57-4fd7-94fe-5789a66cdc84"
      },
      "source": [
        "# Error on train data\r\n",
        "train_err_avgw2v = 1-train_acc_avgw2v\r\n",
        "print(\"Train Error %f%%\" % (train_err_avgw2v))"
      ],
      "execution_count": 207,
      "outputs": [
        {
          "output_type": "stream",
          "text": [
            "Train Error 0.338714%\n"
          ],
          "name": "stdout"
        }
      ]
    },
    {
      "cell_type": "code",
      "metadata": {
        "colab": {
          "base_uri": "https://localhost:8080/"
        },
        "id": "CQZv0AiZsWs4",
        "outputId": "7edb0939-29be-4aa9-da31-25a2db49ed57"
      },
      "source": [
        "# evaluate accuracy\r\n",
        "acc_avg_w2v = accuracy_score(y_test, pred) * 100\r\n",
        "print('\\nThe accuracy of the knn classifier for k = %d is %f%%' % (optimal_k_avgw2v, acc_avg_w2v))"
      ],
      "execution_count": 208,
      "outputs": [
        {
          "output_type": "stream",
          "text": [
            "\n",
            "The accuracy of the knn classifier for k = 39 is 60.833333%\n"
          ],
          "name": "stdout"
        }
      ]
    },
    {
      "cell_type": "code",
      "metadata": {
        "colab": {
          "base_uri": "https://localhost:8080/"
        },
        "id": "3bXNMKEXsa_g",
        "outputId": "7fce813c-4082-40d8-d033-a60b4de942d7"
      },
      "source": [
        "print(\"Test Error %f%%\" %(100-(acc_avg_w2v)))"
      ],
      "execution_count": 209,
      "outputs": [
        {
          "output_type": "stream",
          "text": [
            "Test Error 39.166667%\n"
          ],
          "name": "stdout"
        }
      ]
    },
    {
      "cell_type": "code",
      "metadata": {
        "colab": {
          "base_uri": "https://localhost:8080/"
        },
        "id": "sxNbbSIKsgQf",
        "outputId": "826bf261-2285-4dde-f487-23da3c3dbb33"
      },
      "source": [
        "cm=confusion_matrix(y_test,pred)\r\n",
        "cm"
      ],
      "execution_count": 210,
      "outputs": [
        {
          "output_type": "execute_result",
          "data": {
            "text/plain": [
              "array([[960, 562],\n",
              "       [613, 865]])"
            ]
          },
          "metadata": {
            "tags": []
          },
          "execution_count": 210
        }
      ]
    },
    {
      "cell_type": "code",
      "metadata": {
        "colab": {
          "base_uri": "https://localhost:8080/",
          "height": 295
        },
        "id": "twXihKmHsk0f",
        "outputId": "24fe44ae-1c65-4105-f498-ac6ca37f27bc"
      },
      "source": [
        "class_label = [\"negative\", \"positive\"]\r\n",
        "df_cm = pd.DataFrame(cm, index = class_label, columns = class_label)\r\n",
        "sns.heatmap(df_cm, annot = True, fmt = \"d\")\r\n",
        "plt.title(\"Confusion Matrix\")\r\n",
        "plt.xlabel(\"Predicted Label\")\r\n",
        "plt.ylabel(\"True Label\")\r\n",
        "plt.show()"
      ],
      "execution_count": 211,
      "outputs": [
        {
          "output_type": "display_data",
          "data": {
            "image/png": "[encoded data removed]",
            "text/plain": [
              "<Figure size 432x288 with 2 Axes>"
            ]
          },
          "metadata": {
            "tags": [],
            "needs_background": "light"
          }
        }
      ]
    },
    {
      "cell_type": "code",
      "metadata": {
        "colab": {
          "base_uri": "https://localhost:8080/"
        },
        "id": "P5EzWyJ9solv",
        "outputId": "2127584d-08ec-46ab-f388-1293501e153c"
      },
      "source": [
        "from sklearn.metrics import classification_report\r\n",
        "print(classification_report(y_test, pred))"
      ],
      "execution_count": 212,
      "outputs": [
        {
          "output_type": "stream",
          "text": [
            "              precision    recall  f1-score   support\n",
            "\n",
            "    negetive       0.61      0.63      0.62      1522\n",
            "    positive       0.61      0.59      0.60      1478\n",
            "\n",
            "    accuracy                           0.61      3000\n",
            "   macro avg       0.61      0.61      0.61      3000\n",
            "weighted avg       0.61      0.61      0.61      3000\n",
            "\n"
          ],
          "name": "stdout"
        }
      ]
    },
    {
      "cell_type": "markdown",
      "metadata": {
        "id": "vCD5mdQcs1uf"
      },
      "source": [
        "# **Observations:**\r\n",
        " 1) Optimal k is 19  \r\n",
        " 2) Accuarcy if model is 59.766667%\r\n",
        "\r\n",
        "\r\n"
      ]
    },
    {
      "cell_type": "markdown",
      "metadata": {
        "id": "VQ14s6vs0JD2"
      },
      "source": [
        "## TF-IDF **W2V**"
      ]
    },
    {
      "cell_type": "code",
      "metadata": {
        "colab": {
          "base_uri": "https://localhost:8080/"
        },
        "id": "D70W7oJh0ObA",
        "outputId": "bab69ff7-2951-402a-ccd7-3be6fdfe2cfa"
      },
      "source": [
        "final_tf_idf = tf_idf_vec.fit_transform(data['CleanText'].values)\r\n",
        "tfidf_feat = tf_idf_vec.get_feature_names()\r\n",
        "\r\n",
        "\r\n",
        "tfidf_sent_vectors=[]\r\n",
        "row=0\r\n",
        "for sent in list_of_sent:\r\n",
        "  sent_vec=np.zeros(50) # as word vectors are of zero length\r\n",
        "  weighted_sum=0 \r\n",
        "\r\n",
        "  for word in sent:\r\n",
        "    try:\r\n",
        "      vec=w2v_model.wv[word]\r\n",
        "      tfidf= final_tf_idf[row,tfidf_feat.index(word)]\r\n",
        "      sent_vec+=(vec*tfidf)\r\n",
        "      weighted_sum+=tfidf\r\n",
        "    except:\r\n",
        "      pass\r\n",
        "  sent_vec/=weighted_sum\r\n",
        "  tfidf_sent_vectors.append(sent_vec)\r\n",
        "  row+=1\r\n",
        "\r\n",
        "\r\n"
      ],
      "execution_count": 223,
      "outputs": [
        {
          "output_type": "stream",
          "text": [
            "/usr/local/lib/python3.6/dist-packages/ipykernel_launcher.py:19: RuntimeWarning: invalid value encountered in true_divide\n"
          ],
          "name": "stderr"
        }
      ]
    },
    {
      "cell_type": "code",
      "metadata": {
        "colab": {
          "base_uri": "https://localhost:8080/"
        },
        "id": "Ss28ZOlE4xuX",
        "outputId": "e127e232-f99d-4a2c-b75f-a0c779f13e3a"
      },
      "source": [
        "len(tfidf_sent_vectors)"
      ],
      "execution_count": 224,
      "outputs": [
        {
          "output_type": "execute_result",
          "data": {
            "text/plain": [
              "7000"
            ]
          },
          "metadata": {
            "tags": []
          },
          "execution_count": 224
        }
      ]
    },
    {
      "cell_type": "code",
      "metadata": {
        "id": "aVU2W4JOFAft"
      },
      "source": [
        "X_train=tfidf_sent_vectors"
      ],
      "execution_count": 282,
      "outputs": []
    },
    {
      "cell_type": "code",
      "metadata": {
        "colab": {
          "base_uri": "https://localhost:8080/"
        },
        "id": "JUtWIUt4FQ51",
        "outputId": "f82eda1f-5c56-45c8-c6af-fe47d07b8cc6"
      },
      "source": [
        "tfidf_feat = tf_idf_vec.get_feature_names() # tfidf words/col-names\r\n",
        "# final_tf_idf is the sparse matrix with row= sentence, col=word and cell_val = tfidf\r\n",
        "\r\n",
        "tfidf_sent_vectors_test = []; # the tfidf-w2v for each sentence/review is stored in this list\r\n",
        "row=0;\r\n",
        "for sent in list_of_sent_test: # for each review/sentence\r\n",
        "    sent_vec = np.zeros(50) # as word vectors are of zero length\r\n",
        "    weight_sum =0; # num of words with a valid vector in the sentence/review\r\n",
        "    for word in sent: # for each word in a review/sentence\r\n",
        "        try:\r\n",
        "            vec = w2v_model.wv[word]\r\n",
        "            # obtain the tf_idfidf of a word in a sentence/review\r\n",
        "            tfidf = tf_idf_vec[row, tfidf_feat.index(word)]\r\n",
        "            sent_vec += (vec * tf_idf)\r\n",
        "            weight_sum += tf_idf\r\n",
        "        except:\r\n",
        "            pass\r\n",
        "    sent_vec /= weight_sum\r\n",
        "    tfidf_sent_vectors_test.append(sent_vec)\r\n",
        "    row += 1"
      ],
      "execution_count": 283,
      "outputs": [
        {
          "output_type": "stream",
          "text": [
            "/usr/local/lib/python3.6/dist-packages/ipykernel_launcher.py:18: RuntimeWarning: invalid value encountered in true_divide\n"
          ],
          "name": "stderr"
        }
      ]
    },
    {
      "cell_type": "code",
      "metadata": {
        "colab": {
          "base_uri": "https://localhost:8080/"
        },
        "id": "6AM7McIeFTmM",
        "outputId": "6bef6e83-2e26-461e-fb1a-15dc36a5bbf1"
      },
      "source": [
        "print(len(tfidf_sent_vectors_test))\r\n",
        "X_test=tfidf_sent_vectors_test"
      ],
      "execution_count": 284,
      "outputs": [
        {
          "output_type": "stream",
          "text": [
            "3000\n"
          ],
          "name": "stdout"
        }
      ]
    },
    {
      "cell_type": "code",
      "metadata": {
        "id": "pSk_3Wr0Ncew"
      },
      "source": [
        "X_train"
      ],
      "execution_count": null,
      "outputs": []
    },
    {
      "cell_type": "code",
      "metadata": {
        "id": "kPOXIKC8FeCz"
      },
      "source": [
        "X_train = np.nan_to_num(X_train)\r\n",
        "X_test = np.nan_to_num(X_test)"
      ],
      "execution_count": 286,
      "outputs": []
    },
    {
      "cell_type": "code",
      "metadata": {
        "id": "gv_-h5SoPuF8"
      },
      "source": [
        "X_train"
      ],
      "execution_count": null,
      "outputs": []
    },
    {
      "cell_type": "code",
      "metadata": {
        "colab": {
          "base_uri": "https://localhost:8080/",
          "height": 380
        },
        "id": "hEvbNXpfFjob",
        "outputId": "357cf211-023b-4004-ddb6-33893604e88f"
      },
      "source": [
        "\r\n",
        "optimal_k_tfidf_w2v = k_classifier_brute(X_train, y_train)\r\n",
        "optimal_k_tfidf_w2v"
      ],
      "execution_count": 233,
      "outputs": [
        {
          "output_type": "stream",
          "text": [
            "\n",
            "The optimal number of neighbors is 33.\n"
          ],
          "name": "stdout"
        },
        {
          "output_type": "display_data",
          "data": {
            "image/png": "[encoded data removed]",
            "text/plain": [
              "<Figure size 432x288 with 1 Axes>"
            ]
          },
          "metadata": {
            "tags": [],
            "needs_background": "light"
          }
        },
        {
          "output_type": "stream",
          "text": [
            "the misclassification error for each k value is :  [0.513 0.508 0.498 0.507 0.5   0.506 0.501 0.501 0.495 0.497 0.499 0.5\n",
            " 0.501 0.497 0.498 0.498 0.494 0.499 0.501 0.498]\n"
          ],
          "name": "stdout"
        },
        {
          "output_type": "execute_result",
          "data": {
            "text/plain": [
              "33"
            ]
          },
          "metadata": {
            "tags": []
          },
          "execution_count": 233
        }
      ]
    },
    {
      "cell_type": "code",
      "metadata": {
        "id": "2UJy_ae4FqeS"
      },
      "source": [
        "knn_optimal=KNeighborsClassifier(n_neighbors=optimal_k_tfidf_w2v)\r\n",
        "\r\n",
        "#Fitting model\r\n",
        "\r\n",
        "knn_optimal.fit(X_train,y_train)\r\n",
        "#Predict the response\r\n",
        "\r\n",
        "pred=knn_optimal.predict(X_test)"
      ],
      "execution_count": 235,
      "outputs": []
    },
    {
      "cell_type": "code",
      "metadata": {
        "colab": {
          "base_uri": "https://localhost:8080/"
        },
        "id": "Tlcr0WXrGV0Y",
        "outputId": "94038516-c4b2-4b8c-ceff-bdb236397452"
      },
      "source": [
        "train_acc_tfidf_w2v=knn_optimal.score(X_train,y_train)\r\n",
        "print('The accuracy is ',train_acc_tfidf_w2v)"
      ],
      "execution_count": 236,
      "outputs": [
        {
          "output_type": "stream",
          "text": [
            "The accuracy is  0.5444285714285715\n"
          ],
          "name": "stdout"
        }
      ]
    },
    {
      "cell_type": "code",
      "metadata": {
        "colab": {
          "base_uri": "https://localhost:8080/"
        },
        "id": "C7E__w3uGwDV",
        "outputId": "5f11a19f-ff05-4ad1-ddc5-bf591a1fb0f9"
      },
      "source": [
        "train_err_tfidf_w2v = 1-train_acc_tfidf_w2v\r\n",
        "print('Train error is {}'.format(train_err_tfidf_w2v))"
      ],
      "execution_count": 237,
      "outputs": [
        {
          "output_type": "stream",
          "text": [
            "Train error is 0.4555714285714285\n"
          ],
          "name": "stdout"
        }
      ]
    },
    {
      "cell_type": "code",
      "metadata": {
        "colab": {
          "base_uri": "https://localhost:8080/"
        },
        "id": "EHvf7jJMG2vX",
        "outputId": "a54cf3af-f982-4d81-bc55-6bebf1a28496"
      },
      "source": [
        "#Evaluate accuracy\r\n",
        "\r\n",
        "acc_tfidf_w2v=accuracy_score(y_test,pred)*100\r\n",
        "print('The accuracy for knn classifer and k={}, accuracy={}'.format(optimal_k_tfidf_w2v, acc_tfidf_w2v))"
      ],
      "execution_count": 241,
      "outputs": [
        {
          "output_type": "stream",
          "text": [
            "The accuracy for knn classifer and k=33, accuracy=52.0\n"
          ],
          "name": "stdout"
        }
      ]
    },
    {
      "cell_type": "code",
      "metadata": {
        "colab": {
          "base_uri": "https://localhost:8080/"
        },
        "id": "GFr6cMnTHR2V",
        "outputId": "f243d642-1347-4def-b366-2fe61409fb2b"
      },
      "source": [
        "print('Test Error is {}'.format(100-(acc_tfidf_w2v)))"
      ],
      "execution_count": 242,
      "outputs": [
        {
          "output_type": "stream",
          "text": [
            "Test Error is 48.0\n"
          ],
          "name": "stdout"
        }
      ]
    },
    {
      "cell_type": "code",
      "metadata": {
        "colab": {
          "base_uri": "https://localhost:8080/"
        },
        "id": "6Dz2aG7aHedv",
        "outputId": "2f797731-e93d-413e-c448-19b82dcd36a5"
      },
      "source": [
        "cm = confusion_matrix(y_test, pred)\r\n",
        "cm"
      ],
      "execution_count": 243,
      "outputs": [
        {
          "output_type": "execute_result",
          "data": {
            "text/plain": [
              "array([[   0, 1440],\n",
              "       [   0, 1560]])"
            ]
          },
          "metadata": {
            "tags": []
          },
          "execution_count": 243
        }
      ]
    },
    {
      "cell_type": "code",
      "metadata": {
        "colab": {
          "base_uri": "https://localhost:8080/",
          "height": 295
        },
        "id": "OfXPEB9vHrnF",
        "outputId": "31e342bf-f80c-4a1d-e4ac-b65316263bc5"
      },
      "source": [
        "\r\n",
        "class_label = [\"negative\", \"positive\"]\r\n",
        "df_cm = pd.DataFrame(cm, index = class_label, columns = class_label)\r\n",
        "sns.heatmap(df_cm, annot = True, fmt = \"d\")\r\n",
        "plt.title(\"Confusion Matrix\")\r\n",
        "plt.xlabel(\"Predicted Label\")\r\n",
        "plt.ylabel(\"True Label\")\r\n",
        "plt.show()"
      ],
      "execution_count": 244,
      "outputs": [
        {
          "output_type": "display_data",
          "data": {
            "image/png": "[encoded data removed]",
            "text/plain": [
              "<Figure size 432x288 with 2 Axes>"
            ]
          },
          "metadata": {
            "tags": [],
            "needs_background": "light"
          }
        }
      ]
    },
    {
      "cell_type": "code",
      "metadata": {
        "colab": {
          "base_uri": "https://localhost:8080/"
        },
        "id": "K8IYI1H7HuKM",
        "outputId": "420ce338-6cbf-4562-f28d-58291bc1e5a3"
      },
      "source": [
        "from sklearn.metrics import classification_report\r\n",
        "print(classification_report(y_test, pred))"
      ],
      "execution_count": 245,
      "outputs": [
        {
          "output_type": "stream",
          "text": [
            "              precision    recall  f1-score   support\n",
            "\n",
            "    negetive       0.00      0.00      0.00      1440\n",
            "    positive       0.52      1.00      0.68      1560\n",
            "\n",
            "    accuracy                           0.52      3000\n",
            "   macro avg       0.26      0.50      0.34      3000\n",
            "weighted avg       0.27      0.52      0.36      3000\n",
            "\n"
          ],
          "name": "stdout"
        },
        {
          "output_type": "stream",
          "text": [
            "/usr/local/lib/python3.6/dist-packages/sklearn/metrics/_classification.py:1272: UndefinedMetricWarning: Precision and F-score are ill-defined and being set to 0.0 in labels with no predicted samples. Use `zero_division` parameter to control this behavior.\n",
            "  _warn_prf(average, modifier, msg_start, len(result))\n"
          ],
          "name": "stderr"
        }
      ]
    },
    {
      "cell_type": "markdown",
      "metadata": {
        "id": "OpkFRS-_H7ry"
      },
      "source": [
        "# Observations: \r\n",
        "\r\n",
        "\r\n",
        "As we observed in confusion matrix that, \r\n",
        "model predicted all reviews on the basis of majority class. It is dull model to use."
      ]
    },
    {
      "cell_type": "code",
      "metadata": {
        "colab": {
          "base_uri": "https://localhost:8080/",
          "height": 173
        },
        "id": "4tMBeJ2KH2xU",
        "outputId": "b9b313b8-edab-48a2-bd9d-85ad71fd8693"
      },
      "source": [
        "# model\r\n",
        "models = pd.DataFrame({'Model': ['KNN with Bow', \"KNN with TFIDF\", \"KNN with Avg_w2v\", \"KNN with tfidf_w2v\"], \r\n",
        "                       'Hyper Parameter(K)': [optimal_k_bow, optimal_k_tfidf, optimal_k_avgw2v, optimal_k_tfidf_w2v], \r\n",
        "                       'Train Error': [train_err_bow, train_err_tfidf, train_err_avgw2v, train_err_tfidf_w2v], \r\n",
        "                       'Test Error': [100-acc_bow, TFidfTest_error, 100-acc_avg_w2v, 100-acc_tfidf_w2v],\r\n",
        "                       'Accuracy': [acc_bow, acc_tfidf, acc_avg_w2v, acc_tfidf_w2v]},\r\n",
        "                       columns = [\"Model\", \"Hyper Parameter(K)\", \"Train Error\", \"Test Error\", \"Accuracy\"])\r\n",
        "models.sort_values(by='Accuracy', ascending=False)"
      ],
      "execution_count": 277,
      "outputs": [
        {
          "output_type": "execute_result",
          "data": {
            "text/html": [
              "<div>\n",
              "<style scoped>\n",
              "    .dataframe tbody tr th:only-of-type {\n",
              "        vertical-align: middle;\n",
              "    }\n",
              "\n",
              "    .dataframe tbody tr th {\n",
              "        vertical-align: top;\n",
              "    }\n",
              "\n",
              "    .dataframe thead th {\n",
              "        text-align: right;\n",
              "    }\n",
              "</style>\n",
              "<table border=\"1\" class=\"dataframe\">\n",
              "  <thead>\n",
              "    <tr style=\"text-align: right;\">\n",
              "      <th></th>\n",
              "      <th>Model</th>\n",
              "      <th>Hyper Parameter(K)</th>\n",
              "      <th>Train Error</th>\n",
              "      <th>Test Error</th>\n",
              "      <th>Accuracy</th>\n",
              "    </tr>\n",
              "  </thead>\n",
              "  <tbody>\n",
              "    <tr>\n",
              "      <th>1</th>\n",
              "      <td>KNN with TFIDF</td>\n",
              "      <td>39</td>\n",
              "      <td>0.241571</td>\n",
              "      <td>0.280000</td>\n",
              "      <td>72.000000</td>\n",
              "    </tr>\n",
              "    <tr>\n",
              "      <th>0</th>\n",
              "      <td>KNN with Bow</td>\n",
              "      <td>39</td>\n",
              "      <td>0.253286</td>\n",
              "      <td>30.833333</td>\n",
              "      <td>69.166667</td>\n",
              "    </tr>\n",
              "    <tr>\n",
              "      <th>2</th>\n",
              "      <td>KNN with Avg_w2v</td>\n",
              "      <td>39</td>\n",
              "      <td>0.338714</td>\n",
              "      <td>39.166667</td>\n",
              "      <td>60.833333</td>\n",
              "    </tr>\n",
              "    <tr>\n",
              "      <th>3</th>\n",
              "      <td>KNN with tfidf_w2v</td>\n",
              "      <td>33</td>\n",
              "      <td>0.455571</td>\n",
              "      <td>48.000000</td>\n",
              "      <td>52.000000</td>\n",
              "    </tr>\n",
              "  </tbody>\n",
              "</table>\n",
              "</div>"
            ],
            "text/plain": [
              "                Model  Hyper Parameter(K)  Train Error  Test Error   Accuracy\n",
              "1      KNN with TFIDF                  39     0.241571    0.280000  72.000000\n",
              "0        KNN with Bow                  39     0.253286   30.833333  69.166667\n",
              "2    KNN with Avg_w2v                  39     0.338714   39.166667  60.833333\n",
              "3  KNN with tfidf_w2v                  33     0.455571   48.000000  52.000000"
            ]
          },
          "metadata": {
            "tags": []
          },
          "execution_count": 277
        }
      ]
    },
    {
      "cell_type": "markdown",
      "metadata": {
        "id": "YKa3ZJkSI316"
      },
      "source": [
        "\r\n",
        "## **Conclusion:**\r\n",
        "As per above table, it is cleared that KNN with tf-IDF is quite good."
      ]
    }
  ]
}