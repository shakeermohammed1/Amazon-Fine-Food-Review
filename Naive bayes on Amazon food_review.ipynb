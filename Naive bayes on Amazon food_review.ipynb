{
  "nbformat": 4,
  "nbformat_minor": 0,
  "metadata": {
    "colab": {
      "name": "Naive Bayes .ipynb",
      "provenance": [],
      "collapsed_sections": [],
      "toc_visible": true
    },
    "kernelspec": {
      "name": "python3",
      "display_name": "Python 3"
    },
    "accelerator": "GPU"
  },
  "cells": [
    {
      "cell_type": "markdown",
      "metadata": {
        "id": "8MKvMRuHucqV"
      },
      "source": [
        "# New Section\r\n",
        "**Amazon Fine Food Reviews Analysis¶**\r\n",
        "Data Source: https://www.kaggle.com/snap/amazon-fine-food-reviews\r\n",
        "\r\n",
        "\r\n",
        "The Amazon Fine Food Reviews dataset consists of reviews of fine foods from Amazon.\r\n",
        "\r\n",
        "Number of reviews: 568,454\r\n",
        "Number of users: 256,059\r\n",
        "Number of products: 74,258\r\n",
        "Timespan: Oct 1999 - Oct 2012\r\n",
        "Number of Attributes/Columns in data: 10\r\n",
        "\r\n",
        "**Attribute Information:**\r\n",
        "\r\n",
        "Id\r\n",
        "ProductId - unique identifier for the product\r\n",
        "UserId - unqiue identifier for the user\r\n",
        "ProfileName\r\n",
        "HelpfulnessNumerator - number of users who found the review helpful\r\n",
        "HelpfulnessDenominator - number of users who indicated whether they found the review helpful or not\r\n",
        "Score - rating between 1 and 5\r\n",
        "Time - timestamp for the review\r\n",
        "Summary - brief summary of the review\r\n",
        "Text - text of the review\r\n",
        "Objective:\r\n",
        "Given a review, determine whether the review is positive (rating of 4 or 5) or negative (rating of 1 or 2).\r\n",
        "\r\n",
        "\r\n",
        "**[Q] How to determine if a review is positive or negative?**\r\n",
        "\r\n",
        "[Ans] We could use Score/Rating. A rating of 4 or 5 can be cosnidered as a positive review. A rating of 1 or 2 can be considered as negative one. A review of rating 3 is considered nuetral and such reviews are ignored from our analysis. This is an approximate and proxy way of determining the polarity (positivity/negativity) of a review."
      ]
    },
    {
      "cell_type": "markdown",
      "metadata": {
        "id": "O4hfvFr6uxd7"
      },
      "source": [
        "## **Reading Data**"
      ]
    },
    {
      "cell_type": "markdown",
      "metadata": {
        "id": "mnvOQxb3vGbn"
      },
      "source": [
        "# **Loading the data¶**\r\n",
        "\r\n",
        "The dataset is available in two forms\r\n",
        "\r\n",
        "1 .csv file\r\n",
        "2 SQLite Database\r\n",
        "\r\n",
        "In order to load the data, We have used the SQLITE dataset as it is easier to query the data and visualise the data efficiently.\r\n",
        "\r\n",
        "Here as we only want to get the global sentiment of the recommendations (positive or negative), we will purposefully ignore all Scores equal to 3. If the score is above 3, then the recommendation wil be set to \"positive\". Otherwise, it will be set to \"negative\"."
      ]
    },
    {
      "cell_type": "code",
      "metadata": {
        "id": "BeKfXxTavTEg"
      },
      "source": [
        "import sqlite3\r\n",
        "import pandas as pd\r\n",
        "import numpy as np\r\n",
        "import matplotlib.pyplot as plt\r\n",
        "from sklearn.metrics import accuracy_score\r\n",
        "from sklearn.model_selection import train_test_split,cross_val_score"
      ],
      "execution_count": 1,
      "outputs": []
    },
    {
      "cell_type": "code",
      "metadata": {
        "id": "YOdaOnRTwJ0R"
      },
      "source": [
        "# we will read data\r\n",
        "con=sqlite3.connect('/content/drive/MyDrive/amazon data/database.sqlite')"
      ],
      "execution_count": 2,
      "outputs": []
    },
    {
      "cell_type": "code",
      "metadata": {
        "id": "oFEt2jSJwVvH"
      },
      "source": [
        "\r\n",
        "# we neglect the review having Score = 3\r\n",
        "filtered_data=pd.read_sql_query('''SELECT * FROM Reviews WHERE Score!=3''',con)"
      ],
      "execution_count": 3,
      "outputs": []
    },
    {
      "cell_type": "code",
      "metadata": {
        "colab": {
          "base_uri": "https://localhost:8080/",
          "height": 238
        },
        "id": "DphYiDxFwqdO",
        "outputId": "c0e553c3-c4b8-46d0-d575-5b59b781b633"
      },
      "source": [
        "filtered_data.head()"
      ],
      "execution_count": 4,
      "outputs": [
        {
          "output_type": "execute_result",
          "data": {
            "text/html": [
              "<div>\n",
              "<style scoped>\n",
              "    .dataframe tbody tr th:only-of-type {\n",
              "        vertical-align: middle;\n",
              "    }\n",
              "\n",
              "    .dataframe tbody tr th {\n",
              "        vertical-align: top;\n",
              "    }\n",
              "\n",
              "    .dataframe thead th {\n",
              "        text-align: right;\n",
              "    }\n",
              "</style>\n",
              "<table border=\"1\" class=\"dataframe\">\n",
              "  <thead>\n",
              "    <tr style=\"text-align: right;\">\n",
              "      <th></th>\n",
              "      <th>Id</th>\n",
              "      <th>ProductId</th>\n",
              "      <th>UserId</th>\n",
              "      <th>ProfileName</th>\n",
              "      <th>HelpfulnessNumerator</th>\n",
              "      <th>HelpfulnessDenominator</th>\n",
              "      <th>Score</th>\n",
              "      <th>Time</th>\n",
              "      <th>Summary</th>\n",
              "      <th>Text</th>\n",
              "    </tr>\n",
              "  </thead>\n",
              "  <tbody>\n",
              "    <tr>\n",
              "      <th>0</th>\n",
              "      <td>1</td>\n",
              "      <td>B001E4KFG0</td>\n",
              "      <td>A3SGXH7AUHU8GW</td>\n",
              "      <td>delmartian</td>\n",
              "      <td>1</td>\n",
              "      <td>1</td>\n",
              "      <td>5</td>\n",
              "      <td>1303862400</td>\n",
              "      <td>Good Quality Dog Food</td>\n",
              "      <td>I have bought several of the Vitality canned d...</td>\n",
              "    </tr>\n",
              "    <tr>\n",
              "      <th>1</th>\n",
              "      <td>2</td>\n",
              "      <td>B00813GRG4</td>\n",
              "      <td>A1D87F6ZCVE5NK</td>\n",
              "      <td>dll pa</td>\n",
              "      <td>0</td>\n",
              "      <td>0</td>\n",
              "      <td>1</td>\n",
              "      <td>1346976000</td>\n",
              "      <td>Not as Advertised</td>\n",
              "      <td>Product arrived labeled as Jumbo Salted Peanut...</td>\n",
              "    </tr>\n",
              "    <tr>\n",
              "      <th>2</th>\n",
              "      <td>3</td>\n",
              "      <td>B000LQOCH0</td>\n",
              "      <td>ABXLMWJIXXAIN</td>\n",
              "      <td>Natalia Corres \"Natalia Corres\"</td>\n",
              "      <td>1</td>\n",
              "      <td>1</td>\n",
              "      <td>4</td>\n",
              "      <td>1219017600</td>\n",
              "      <td>\"Delight\" says it all</td>\n",
              "      <td>This is a confection that has been around a fe...</td>\n",
              "    </tr>\n",
              "    <tr>\n",
              "      <th>3</th>\n",
              "      <td>4</td>\n",
              "      <td>B000UA0QIQ</td>\n",
              "      <td>A395BORC6FGVXV</td>\n",
              "      <td>Karl</td>\n",
              "      <td>3</td>\n",
              "      <td>3</td>\n",
              "      <td>2</td>\n",
              "      <td>1307923200</td>\n",
              "      <td>Cough Medicine</td>\n",
              "      <td>If you are looking for the secret ingredient i...</td>\n",
              "    </tr>\n",
              "    <tr>\n",
              "      <th>4</th>\n",
              "      <td>5</td>\n",
              "      <td>B006K2ZZ7K</td>\n",
              "      <td>A1UQRSCLF8GW1T</td>\n",
              "      <td>Michael D. Bigham \"M. Wassir\"</td>\n",
              "      <td>0</td>\n",
              "      <td>0</td>\n",
              "      <td>5</td>\n",
              "      <td>1350777600</td>\n",
              "      <td>Great taffy</td>\n",
              "      <td>Great taffy at a great price.  There was a wid...</td>\n",
              "    </tr>\n",
              "  </tbody>\n",
              "</table>\n",
              "</div>"
            ],
            "text/plain": [
              "   Id  ...                                               Text\n",
              "0   1  ...  I have bought several of the Vitality canned d...\n",
              "1   2  ...  Product arrived labeled as Jumbo Salted Peanut...\n",
              "2   3  ...  This is a confection that has been around a fe...\n",
              "3   4  ...  If you are looking for the secret ingredient i...\n",
              "4   5  ...  Great taffy at a great price.  There was a wid...\n",
              "\n",
              "[5 rows x 10 columns]"
            ]
          },
          "metadata": {
            "tags": []
          },
          "execution_count": 4
        }
      ]
    },
    {
      "cell_type": "code",
      "metadata": {
        "id": "B9kRhQZwwvDW"
      },
      "source": [
        "def partition(x):\r\n",
        "  if x<3:\r\n",
        "    return 0\r\n",
        "  return 1"
      ],
      "execution_count": 5,
      "outputs": []
    },
    {
      "cell_type": "code",
      "metadata": {
        "id": "eX4-QF_7w95N"
      },
      "source": [
        "actualscore=filtered_data['Score']\r\n",
        "positivenegetive=actualscore.map(partition)\r\n",
        "filtered_data['Score']=positivenegetive"
      ],
      "execution_count": 6,
      "outputs": []
    },
    {
      "cell_type": "code",
      "metadata": {
        "colab": {
          "base_uri": "https://localhost:8080/",
          "height": 238
        },
        "id": "b61FeVLrxY6F",
        "outputId": "b75d8feb-e7b3-44e1-8cce-9f35f66fe40a"
      },
      "source": [
        "filtered_data.head()"
      ],
      "execution_count": 7,
      "outputs": [
        {
          "output_type": "execute_result",
          "data": {
            "text/html": [
              "<div>\n",
              "<style scoped>\n",
              "    .dataframe tbody tr th:only-of-type {\n",
              "        vertical-align: middle;\n",
              "    }\n",
              "\n",
              "    .dataframe tbody tr th {\n",
              "        vertical-align: top;\n",
              "    }\n",
              "\n",
              "    .dataframe thead th {\n",
              "        text-align: right;\n",
              "    }\n",
              "</style>\n",
              "<table border=\"1\" class=\"dataframe\">\n",
              "  <thead>\n",
              "    <tr style=\"text-align: right;\">\n",
              "      <th></th>\n",
              "      <th>Id</th>\n",
              "      <th>ProductId</th>\n",
              "      <th>UserId</th>\n",
              "      <th>ProfileName</th>\n",
              "      <th>HelpfulnessNumerator</th>\n",
              "      <th>HelpfulnessDenominator</th>\n",
              "      <th>Score</th>\n",
              "      <th>Time</th>\n",
              "      <th>Summary</th>\n",
              "      <th>Text</th>\n",
              "    </tr>\n",
              "  </thead>\n",
              "  <tbody>\n",
              "    <tr>\n",
              "      <th>0</th>\n",
              "      <td>1</td>\n",
              "      <td>B001E4KFG0</td>\n",
              "      <td>A3SGXH7AUHU8GW</td>\n",
              "      <td>delmartian</td>\n",
              "      <td>1</td>\n",
              "      <td>1</td>\n",
              "      <td>1</td>\n",
              "      <td>1303862400</td>\n",
              "      <td>Good Quality Dog Food</td>\n",
              "      <td>I have bought several of the Vitality canned d...</td>\n",
              "    </tr>\n",
              "    <tr>\n",
              "      <th>1</th>\n",
              "      <td>2</td>\n",
              "      <td>B00813GRG4</td>\n",
              "      <td>A1D87F6ZCVE5NK</td>\n",
              "      <td>dll pa</td>\n",
              "      <td>0</td>\n",
              "      <td>0</td>\n",
              "      <td>0</td>\n",
              "      <td>1346976000</td>\n",
              "      <td>Not as Advertised</td>\n",
              "      <td>Product arrived labeled as Jumbo Salted Peanut...</td>\n",
              "    </tr>\n",
              "    <tr>\n",
              "      <th>2</th>\n",
              "      <td>3</td>\n",
              "      <td>B000LQOCH0</td>\n",
              "      <td>ABXLMWJIXXAIN</td>\n",
              "      <td>Natalia Corres \"Natalia Corres\"</td>\n",
              "      <td>1</td>\n",
              "      <td>1</td>\n",
              "      <td>1</td>\n",
              "      <td>1219017600</td>\n",
              "      <td>\"Delight\" says it all</td>\n",
              "      <td>This is a confection that has been around a fe...</td>\n",
              "    </tr>\n",
              "    <tr>\n",
              "      <th>3</th>\n",
              "      <td>4</td>\n",
              "      <td>B000UA0QIQ</td>\n",
              "      <td>A395BORC6FGVXV</td>\n",
              "      <td>Karl</td>\n",
              "      <td>3</td>\n",
              "      <td>3</td>\n",
              "      <td>0</td>\n",
              "      <td>1307923200</td>\n",
              "      <td>Cough Medicine</td>\n",
              "      <td>If you are looking for the secret ingredient i...</td>\n",
              "    </tr>\n",
              "    <tr>\n",
              "      <th>4</th>\n",
              "      <td>5</td>\n",
              "      <td>B006K2ZZ7K</td>\n",
              "      <td>A1UQRSCLF8GW1T</td>\n",
              "      <td>Michael D. Bigham \"M. Wassir\"</td>\n",
              "      <td>0</td>\n",
              "      <td>0</td>\n",
              "      <td>1</td>\n",
              "      <td>1350777600</td>\n",
              "      <td>Great taffy</td>\n",
              "      <td>Great taffy at a great price.  There was a wid...</td>\n",
              "    </tr>\n",
              "  </tbody>\n",
              "</table>\n",
              "</div>"
            ],
            "text/plain": [
              "   Id  ...                                               Text\n",
              "0   1  ...  I have bought several of the Vitality canned d...\n",
              "1   2  ...  Product arrived labeled as Jumbo Salted Peanut...\n",
              "2   3  ...  This is a confection that has been around a fe...\n",
              "3   4  ...  If you are looking for the secret ingredient i...\n",
              "4   5  ...  Great taffy at a great price.  There was a wid...\n",
              "\n",
              "[5 rows x 10 columns]"
            ]
          },
          "metadata": {
            "tags": []
          },
          "execution_count": 7
        }
      ]
    },
    {
      "cell_type": "code",
      "metadata": {
        "colab": {
          "base_uri": "https://localhost:8080/"
        },
        "id": "rIVL2p2wxcHV",
        "outputId": "25fe0506-35b7-4795-dd91-cf16d4d39eeb"
      },
      "source": [
        "filtered_data['Score'].value_counts()"
      ],
      "execution_count": 8,
      "outputs": [
        {
          "output_type": "execute_result",
          "data": {
            "text/plain": [
              "1    443777\n",
              "0     82037\n",
              "Name: Score, dtype: int64"
            ]
          },
          "metadata": {
            "tags": []
          },
          "execution_count": 8
        }
      ]
    },
    {
      "cell_type": "markdown",
      "metadata": {
        "id": "uaj8F3iyxoh_"
      },
      "source": [
        "## **EDA**"
      ]
    },
    {
      "cell_type": "code",
      "metadata": {
        "id": "ZaWemDGbxkLt"
      },
      "source": [
        "display=pd.read_sql_query('''SELECT * FROM Reviews WHERE Score!=3 \r\n",
        "                            AND UserId=\"AR5J8UI46CURR\"\r\n",
        "                            ORDER BY ProductID''',con)"
      ],
      "execution_count": 9,
      "outputs": []
    },
    {
      "cell_type": "code",
      "metadata": {
        "colab": {
          "base_uri": "https://localhost:8080/",
          "height": 289
        },
        "id": "X26w6pmZySh1",
        "outputId": "a7753c83-6c25-42f7-e74e-1df334eded5f"
      },
      "source": [
        "display.head()"
      ],
      "execution_count": 10,
      "outputs": [
        {
          "output_type": "execute_result",
          "data": {
            "text/html": [
              "<div>\n",
              "<style scoped>\n",
              "    .dataframe tbody tr th:only-of-type {\n",
              "        vertical-align: middle;\n",
              "    }\n",
              "\n",
              "    .dataframe tbody tr th {\n",
              "        vertical-align: top;\n",
              "    }\n",
              "\n",
              "    .dataframe thead th {\n",
              "        text-align: right;\n",
              "    }\n",
              "</style>\n",
              "<table border=\"1\" class=\"dataframe\">\n",
              "  <thead>\n",
              "    <tr style=\"text-align: right;\">\n",
              "      <th></th>\n",
              "      <th>Id</th>\n",
              "      <th>ProductId</th>\n",
              "      <th>UserId</th>\n",
              "      <th>ProfileName</th>\n",
              "      <th>HelpfulnessNumerator</th>\n",
              "      <th>HelpfulnessDenominator</th>\n",
              "      <th>Score</th>\n",
              "      <th>Time</th>\n",
              "      <th>Summary</th>\n",
              "      <th>Text</th>\n",
              "    </tr>\n",
              "  </thead>\n",
              "  <tbody>\n",
              "    <tr>\n",
              "      <th>0</th>\n",
              "      <td>78445</td>\n",
              "      <td>B000HDL1RQ</td>\n",
              "      <td>AR5J8UI46CURR</td>\n",
              "      <td>Geetha Krishnan</td>\n",
              "      <td>2</td>\n",
              "      <td>2</td>\n",
              "      <td>5</td>\n",
              "      <td>1199577600</td>\n",
              "      <td>LOACKER QUADRATINI VANILLA WAFERS</td>\n",
              "      <td>DELICIOUS WAFERS. I FIND THAT EUROPEAN WAFERS ...</td>\n",
              "    </tr>\n",
              "    <tr>\n",
              "      <th>1</th>\n",
              "      <td>138317</td>\n",
              "      <td>B000HDOPYC</td>\n",
              "      <td>AR5J8UI46CURR</td>\n",
              "      <td>Geetha Krishnan</td>\n",
              "      <td>2</td>\n",
              "      <td>2</td>\n",
              "      <td>5</td>\n",
              "      <td>1199577600</td>\n",
              "      <td>LOACKER QUADRATINI VANILLA WAFERS</td>\n",
              "      <td>DELICIOUS WAFERS. I FIND THAT EUROPEAN WAFERS ...</td>\n",
              "    </tr>\n",
              "    <tr>\n",
              "      <th>2</th>\n",
              "      <td>138277</td>\n",
              "      <td>B000HDOPYM</td>\n",
              "      <td>AR5J8UI46CURR</td>\n",
              "      <td>Geetha Krishnan</td>\n",
              "      <td>2</td>\n",
              "      <td>2</td>\n",
              "      <td>5</td>\n",
              "      <td>1199577600</td>\n",
              "      <td>LOACKER QUADRATINI VANILLA WAFERS</td>\n",
              "      <td>DELICIOUS WAFERS. I FIND THAT EUROPEAN WAFERS ...</td>\n",
              "    </tr>\n",
              "    <tr>\n",
              "      <th>3</th>\n",
              "      <td>73791</td>\n",
              "      <td>B000HDOPZG</td>\n",
              "      <td>AR5J8UI46CURR</td>\n",
              "      <td>Geetha Krishnan</td>\n",
              "      <td>2</td>\n",
              "      <td>2</td>\n",
              "      <td>5</td>\n",
              "      <td>1199577600</td>\n",
              "      <td>LOACKER QUADRATINI VANILLA WAFERS</td>\n",
              "      <td>DELICIOUS WAFERS. I FIND THAT EUROPEAN WAFERS ...</td>\n",
              "    </tr>\n",
              "    <tr>\n",
              "      <th>4</th>\n",
              "      <td>155049</td>\n",
              "      <td>B000PAQ75C</td>\n",
              "      <td>AR5J8UI46CURR</td>\n",
              "      <td>Geetha Krishnan</td>\n",
              "      <td>2</td>\n",
              "      <td>2</td>\n",
              "      <td>5</td>\n",
              "      <td>1199577600</td>\n",
              "      <td>LOACKER QUADRATINI VANILLA WAFERS</td>\n",
              "      <td>DELICIOUS WAFERS. I FIND THAT EUROPEAN WAFERS ...</td>\n",
              "    </tr>\n",
              "  </tbody>\n",
              "</table>\n",
              "</div>"
            ],
            "text/plain": [
              "       Id  ...                                               Text\n",
              "0   78445  ...  DELICIOUS WAFERS. I FIND THAT EUROPEAN WAFERS ...\n",
              "1  138317  ...  DELICIOUS WAFERS. I FIND THAT EUROPEAN WAFERS ...\n",
              "2  138277  ...  DELICIOUS WAFERS. I FIND THAT EUROPEAN WAFERS ...\n",
              "3   73791  ...  DELICIOUS WAFERS. I FIND THAT EUROPEAN WAFERS ...\n",
              "4  155049  ...  DELICIOUS WAFERS. I FIND THAT EUROPEAN WAFERS ...\n",
              "\n",
              "[5 rows x 10 columns]"
            ]
          },
          "metadata": {
            "tags": []
          },
          "execution_count": 10
        }
      ]
    },
    {
      "cell_type": "markdown",
      "metadata": {
        "id": "mOqIJIMxywCH"
      },
      "source": [
        "\r\n",
        "**Observations: *\r\n",
        "\r\n",
        "1) As in above table, UserId, ProfileName, HelpfulnessNumerator, HelpfulnessDenominator.Score,Time, Summary and Text shows same content \r\n",
        "\r\n",
        "2) Also for all 5 product, shows same time.\r\n",
        "\r\n",
        "3) Here we observed that, product is same, only the flavour is different\r\n",
        "\r\n",
        "4) so we will remove this duplication and keep any one product which all these features so we removing duplicates."
      ]
    },
    {
      "cell_type": "code",
      "metadata": {
        "id": "Z8o6frCbyVfL"
      },
      "source": [
        "#sort data according to ProductID  in ascending ordre#\r\n",
        "sorted_data=filtered_data.sort_values('ProductId',axis=0,ascending=True,inplace=False,kind='quicksort',na_position='last')"
      ],
      "execution_count": 11,
      "outputs": []
    },
    {
      "cell_type": "code",
      "metadata": {
        "id": "ZR43o8kI0BvB"
      },
      "source": [
        "final=sorted_data.drop_duplicates(subset={'UserId', 'ProfileName','Time','Text'},keep='first',inplace=False)"
      ],
      "execution_count": 12,
      "outputs": []
    },
    {
      "cell_type": "code",
      "metadata": {
        "colab": {
          "base_uri": "https://localhost:8080/"
        },
        "id": "Eg9Q_ZWV0ZOI",
        "outputId": "b1c8cc29-9c37-448a-ca50-51f1f000bcb4"
      },
      "source": [
        "final.shape"
      ],
      "execution_count": 13,
      "outputs": [
        {
          "output_type": "execute_result",
          "data": {
            "text/plain": [
              "(364173, 10)"
            ]
          },
          "metadata": {
            "tags": []
          },
          "execution_count": 13
        }
      ]
    },
    {
      "cell_type": "code",
      "metadata": {
        "colab": {
          "base_uri": "https://localhost:8080/"
        },
        "id": "ePhmoto_0aov",
        "outputId": "3a055c25-1840-4f6d-f5ca-6dc09dab9019"
      },
      "source": [
        "#After removing duplicates we'll see how much % data still remains\r\n",
        "\r\n",
        "((final['Id'].count())/(filtered_data['Id'].count()))*100"
      ],
      "execution_count": 14,
      "outputs": [
        {
          "output_type": "execute_result",
          "data": {
            "text/plain": [
              "69.25890143662969"
            ]
          },
          "metadata": {
            "tags": []
          },
          "execution_count": 14
        }
      ]
    },
    {
      "cell_type": "code",
      "metadata": {
        "colab": {
          "base_uri": "https://localhost:8080/",
          "height": 306
        },
        "id": "aypOleGB047e",
        "outputId": "dd512760-bea9-4298-ee04-88acb9f0a9ab"
      },
      "source": [
        "final=final[final.HelpfulnessNumerator<=final.HelpfulnessDenominator]\r\n",
        "print(final.shape)\r\n",
        "final.head()"
      ],
      "execution_count": 15,
      "outputs": [
        {
          "output_type": "stream",
          "text": [
            "(364171, 10)\n"
          ],
          "name": "stdout"
        },
        {
          "output_type": "execute_result",
          "data": {
            "text/html": [
              "<div>\n",
              "<style scoped>\n",
              "    .dataframe tbody tr th:only-of-type {\n",
              "        vertical-align: middle;\n",
              "    }\n",
              "\n",
              "    .dataframe tbody tr th {\n",
              "        vertical-align: top;\n",
              "    }\n",
              "\n",
              "    .dataframe thead th {\n",
              "        text-align: right;\n",
              "    }\n",
              "</style>\n",
              "<table border=\"1\" class=\"dataframe\">\n",
              "  <thead>\n",
              "    <tr style=\"text-align: right;\">\n",
              "      <th></th>\n",
              "      <th>Id</th>\n",
              "      <th>ProductId</th>\n",
              "      <th>UserId</th>\n",
              "      <th>ProfileName</th>\n",
              "      <th>HelpfulnessNumerator</th>\n",
              "      <th>HelpfulnessDenominator</th>\n",
              "      <th>Score</th>\n",
              "      <th>Time</th>\n",
              "      <th>Summary</th>\n",
              "      <th>Text</th>\n",
              "    </tr>\n",
              "  </thead>\n",
              "  <tbody>\n",
              "    <tr>\n",
              "      <th>138706</th>\n",
              "      <td>150524</td>\n",
              "      <td>0006641040</td>\n",
              "      <td>ACITT7DI6IDDL</td>\n",
              "      <td>shari zychinski</td>\n",
              "      <td>0</td>\n",
              "      <td>0</td>\n",
              "      <td>1</td>\n",
              "      <td>939340800</td>\n",
              "      <td>EVERY book is educational</td>\n",
              "      <td>this witty little book makes my son laugh at l...</td>\n",
              "    </tr>\n",
              "    <tr>\n",
              "      <th>138688</th>\n",
              "      <td>150506</td>\n",
              "      <td>0006641040</td>\n",
              "      <td>A2IW4PEEKO2R0U</td>\n",
              "      <td>Tracy</td>\n",
              "      <td>1</td>\n",
              "      <td>1</td>\n",
              "      <td>1</td>\n",
              "      <td>1194739200</td>\n",
              "      <td>Love the book, miss the hard cover version</td>\n",
              "      <td>I grew up reading these Sendak books, and watc...</td>\n",
              "    </tr>\n",
              "    <tr>\n",
              "      <th>138689</th>\n",
              "      <td>150507</td>\n",
              "      <td>0006641040</td>\n",
              "      <td>A1S4A3IQ2MU7V4</td>\n",
              "      <td>sally sue \"sally sue\"</td>\n",
              "      <td>1</td>\n",
              "      <td>1</td>\n",
              "      <td>1</td>\n",
              "      <td>1191456000</td>\n",
              "      <td>chicken soup with rice months</td>\n",
              "      <td>This is a fun way for children to learn their ...</td>\n",
              "    </tr>\n",
              "    <tr>\n",
              "      <th>138690</th>\n",
              "      <td>150508</td>\n",
              "      <td>0006641040</td>\n",
              "      <td>AZGXZ2UUK6X</td>\n",
              "      <td>Catherine Hallberg \"(Kate)\"</td>\n",
              "      <td>1</td>\n",
              "      <td>1</td>\n",
              "      <td>1</td>\n",
              "      <td>1076025600</td>\n",
              "      <td>a good swingy rhythm for reading aloud</td>\n",
              "      <td>This is a great little book to read aloud- it ...</td>\n",
              "    </tr>\n",
              "    <tr>\n",
              "      <th>138691</th>\n",
              "      <td>150509</td>\n",
              "      <td>0006641040</td>\n",
              "      <td>A3CMRKGE0P909G</td>\n",
              "      <td>Teresa</td>\n",
              "      <td>3</td>\n",
              "      <td>4</td>\n",
              "      <td>1</td>\n",
              "      <td>1018396800</td>\n",
              "      <td>A great way to learn the months</td>\n",
              "      <td>This is a book of poetry about the months of t...</td>\n",
              "    </tr>\n",
              "  </tbody>\n",
              "</table>\n",
              "</div>"
            ],
            "text/plain": [
              "            Id  ...                                               Text\n",
              "138706  150524  ...  this witty little book makes my son laugh at l...\n",
              "138688  150506  ...  I grew up reading these Sendak books, and watc...\n",
              "138689  150507  ...  This is a fun way for children to learn their ...\n",
              "138690  150508  ...  This is a great little book to read aloud- it ...\n",
              "138691  150509  ...  This is a book of poetry about the months of t...\n",
              "\n",
              "[5 rows x 10 columns]"
            ]
          },
          "metadata": {
            "tags": []
          },
          "execution_count": 15
        }
      ]
    },
    {
      "cell_type": "markdown",
      "metadata": {
        "id": "6Z1IyqVo1osN"
      },
      "source": [
        "Now , we do processing like removal of stopwords ,html tags, and make all letters in lowercase"
      ]
    },
    {
      "cell_type": "code",
      "metadata": {
        "colab": {
          "base_uri": "https://localhost:8080/"
        },
        "id": "aoytgvJt13Sj",
        "outputId": "9166b2d0-dc42-43e6-8bd7-e92d972f7b3f"
      },
      "source": [
        "import re\r\n",
        "i=0\r\n",
        "for sent in final['Text'].values:\r\n",
        "  if (re.findall('<.*?>',sent)):\r\n",
        "    print(i)\r\n",
        "    print(sent)\r\n",
        "    break\r\n",
        "  i+=1"
      ],
      "execution_count": 16,
      "outputs": [
        {
          "output_type": "stream",
          "text": [
            "6\n",
            "I set aside at least an hour each day to read to my son (3 y/o). At this point, I consider myself a connoisseur of children's books and this is one of the best. Santa Clause put this under the tree. Since then, we've read it perpetually and he loves it.<br /><br />First, this book taught him the months of the year.<br /><br />Second, it's a pleasure to read. Well suited to 1.5 y/o old to 4+.<br /><br />Very few children's books are worth owning. Most should be borrowed from the library. This book, however, deserves a permanent spot on your shelf. Sendak's best.\n"
          ],
          "name": "stdout"
        }
      ]
    },
    {
      "cell_type": "code",
      "metadata": {
        "id": "xoGA-vi52Bs0"
      },
      "source": [
        "import nltk\r\n",
        "from nltk.corpus import stopwords\r\n",
        "from nltk.stem import PorterStemmer\r\n",
        "from nltk.stem.wordnet import WordNetLemmatizer"
      ],
      "execution_count": 17,
      "outputs": []
    },
    {
      "cell_type": "code",
      "metadata": {
        "colab": {
          "base_uri": "https://localhost:8080/"
        },
        "id": "2WAXMN0D5wYN",
        "outputId": "ebbc2f4a-29e4-40f4-f316-2c1caa0ca45f"
      },
      "source": [
        "nltk.download('stopwords')"
      ],
      "execution_count": 18,
      "outputs": [
        {
          "output_type": "stream",
          "text": [
            "[nltk_data] Downloading package stopwords to /root/nltk_data...\n",
            "[nltk_data]   Unzipping corpora/stopwords.zip.\n"
          ],
          "name": "stdout"
        },
        {
          "output_type": "execute_result",
          "data": {
            "text/plain": [
              "True"
            ]
          },
          "metadata": {
            "tags": []
          },
          "execution_count": 18
        }
      ]
    },
    {
      "cell_type": "code",
      "metadata": {
        "id": "VLIm08ZZ5yx8"
      },
      "source": [
        "stop=set(stopwords.words('english'))   #set of stopwordds\r\n",
        "sno=nltk.stem.SnowballStemmer('english')  #intialising snowball stemmer"
      ],
      "execution_count": 19,
      "outputs": []
    },
    {
      "cell_type": "code",
      "metadata": {
        "id": "X4Id9zhs6FcC"
      },
      "source": [
        "def cleanhtml(sentence):\r\n",
        "  cleanr=re.compile('<.*?>')\r\n",
        "  cleantext=re.sub(cleanr,' ',sentence)\r\n",
        "  return cleantext\r\n",
        "\r\n",
        "def cleanpunc(sentence):\r\n",
        "  cleaned=re.sub(r'[?|!|\\'|\"|#]', r'',sentence)\r\n",
        "  cleaned=re.sub(r'[.|,|(|)||\\|/]',r'',cleaned)\r\n",
        "  return cleaned"
      ],
      "execution_count": 20,
      "outputs": []
    },
    {
      "cell_type": "code",
      "metadata": {
        "colab": {
          "base_uri": "https://localhost:8080/"
        },
        "id": "bQ5czr2a7fRB",
        "outputId": "220159f1-d2f9-4534-abb7-24b7d7edbc50"
      },
      "source": [
        "print(stop)\r\n",
        "print(sno.stem('tasty'))"
      ],
      "execution_count": 21,
      "outputs": [
        {
          "output_type": "stream",
          "text": [
            "{'shan', 'doesn', \"shouldn't\", 'i', 'didn', \"doesn't\", 'my', 'once', \"don't\", 'her', 'off', 'again', 'out', 'm', 'on', 'during', \"you've\", 'o', 'most', 'been', 'if', 'itself', \"hasn't\", 'is', 'from', 'ma', 'other', 'having', \"it's\", 'after', 'couldn', 'myself', 'some', 'doing', 'haven', 'ourselves', 'has', 're', 'don', 'needn', 'mustn', \"mightn't\", 'and', 'him', 'into', 'against', \"you'll\", 'your', 'yourselves', \"shan't\", 'does', 'but', 'up', 'below', 'to', 'how', 'such', 'd', 'y', 'there', 'wasn', 't', \"that'll\", 'his', 'have', 'being', 'only', 'just', 'as', 'all', 'it', 'through', \"you're\", 'of', 'will', 'this', 'won', 'them', 'our', 'hasn', 'in', \"you'd\", 'when', 've', 'that', 'or', 'with', 'now', \"should've\", 'be', 'so', 'they', 'hers', \"weren't\", 'weren', \"didn't\", \"wouldn't\", 'yourself', 'are', 'more', 'isn', 'were', \"needn't\", \"wasn't\", 'few', 'whom', 'can', 'where', 'down', 'me', 'both', \"mustn't\", 'above', 'am', 'aren', 'himself', 'very', 'what', 'at', 'until', 'its', 'then', \"aren't\", 's', 'those', 'too', \"won't\", 'mightn', 'hadn', 'shouldn', \"couldn't\", 'ain', 'no', 'why', 'their', 'the', 'which', 'over', 'here', 'herself', 'was', 'each', 'ours', 'further', 'wouldn', 'do', 'll', 'you', 'she', 'because', 'yours', 'for', \"haven't\", \"isn't\", 'themselves', 'under', 'between', 'not', 'same', 'did', 'who', 'a', 'these', 'while', 'theirs', 'before', 'by', 'had', \"hadn't\", 'he', 'own', \"she's\", 'about', 'than', 'any', 'should', 'nor', 'an', 'we'}\n",
            "tasti\n"
          ],
          "name": "stdout"
        }
      ]
    },
    {
      "cell_type": "code",
      "metadata": {
        "id": "Vpd5rL8R7kWo"
      },
      "source": [
        "#Code for implementing step-by-step the checks mentioned in the pre-processing phase\r\n",
        "# this code takes a while to run as it needs to run on 500k sentences.\r\n",
        "\r\n",
        "i=0\r\n",
        "final_string=[]\r\n",
        "all_positive_words=[]\r\n",
        "all_negetive_words=[]\r\n",
        "s=''\r\n",
        "str1=''\r\n",
        "for sent in final['Text'].values:\r\n",
        "  filtered_sentence=[]\r\n",
        "  sent=cleanhtml(sent)\r\n",
        "  for w in sent.split():\r\n",
        "    for cleanword in cleanpunc(w).split():\r\n",
        "      if ((cleanword.isalpha()) & (len(cleanword)>2)):\r\n",
        "        if (cleanword.lower() not in stop):\r\n",
        "          s=(sno.stem(cleanword.lower()))\r\n",
        "          filtered_sentence.append(s)\r\n",
        "          if (final['Score'].values)[i]=='positive':\r\n",
        "            all_positive_words.append(s)\r\n",
        "          if(final['Score'].values)[i]=='negetive':\r\n",
        "            all_negetive_words.append(s)\r\n",
        "        else:\r\n",
        "          continue\r\n",
        "      else:\r\n",
        "        continue\r\n",
        "  str1= ' '.join(filtered_sentence)\r\n",
        "  final_string.append(str1)\r\n",
        "  i+=1\r\n"
      ],
      "execution_count": 22,
      "outputs": []
    },
    {
      "cell_type": "code",
      "metadata": {
        "id": "rGk3oZRi8fkA"
      },
      "source": [
        "final['CleanText']=final_string"
      ],
      "execution_count": 23,
      "outputs": []
    },
    {
      "cell_type": "code",
      "metadata": {
        "colab": {
          "base_uri": "https://localhost:8080/",
          "height": 306
        },
        "id": "BpXdMXgq_-tY",
        "outputId": "3e8d6da3-0967-4bc3-df28-ce26c7ad6608"
      },
      "source": [
        "final.head()"
      ],
      "execution_count": 24,
      "outputs": [
        {
          "output_type": "execute_result",
          "data": {
            "text/html": [
              "<div>\n",
              "<style scoped>\n",
              "    .dataframe tbody tr th:only-of-type {\n",
              "        vertical-align: middle;\n",
              "    }\n",
              "\n",
              "    .dataframe tbody tr th {\n",
              "        vertical-align: top;\n",
              "    }\n",
              "\n",
              "    .dataframe thead th {\n",
              "        text-align: right;\n",
              "    }\n",
              "</style>\n",
              "<table border=\"1\" class=\"dataframe\">\n",
              "  <thead>\n",
              "    <tr style=\"text-align: right;\">\n",
              "      <th></th>\n",
              "      <th>Id</th>\n",
              "      <th>ProductId</th>\n",
              "      <th>UserId</th>\n",
              "      <th>ProfileName</th>\n",
              "      <th>HelpfulnessNumerator</th>\n",
              "      <th>HelpfulnessDenominator</th>\n",
              "      <th>Score</th>\n",
              "      <th>Time</th>\n",
              "      <th>Summary</th>\n",
              "      <th>Text</th>\n",
              "      <th>CleanText</th>\n",
              "    </tr>\n",
              "  </thead>\n",
              "  <tbody>\n",
              "    <tr>\n",
              "      <th>138706</th>\n",
              "      <td>150524</td>\n",
              "      <td>0006641040</td>\n",
              "      <td>ACITT7DI6IDDL</td>\n",
              "      <td>shari zychinski</td>\n",
              "      <td>0</td>\n",
              "      <td>0</td>\n",
              "      <td>1</td>\n",
              "      <td>939340800</td>\n",
              "      <td>EVERY book is educational</td>\n",
              "      <td>this witty little book makes my son laugh at l...</td>\n",
              "      <td>witti littl book make son laugh loud recit car...</td>\n",
              "    </tr>\n",
              "    <tr>\n",
              "      <th>138688</th>\n",
              "      <td>150506</td>\n",
              "      <td>0006641040</td>\n",
              "      <td>A2IW4PEEKO2R0U</td>\n",
              "      <td>Tracy</td>\n",
              "      <td>1</td>\n",
              "      <td>1</td>\n",
              "      <td>1</td>\n",
              "      <td>1194739200</td>\n",
              "      <td>Love the book, miss the hard cover version</td>\n",
              "      <td>I grew up reading these Sendak books, and watc...</td>\n",
              "      <td>grew read sendak book watch realli rosi movi i...</td>\n",
              "    </tr>\n",
              "    <tr>\n",
              "      <th>138689</th>\n",
              "      <td>150507</td>\n",
              "      <td>0006641040</td>\n",
              "      <td>A1S4A3IQ2MU7V4</td>\n",
              "      <td>sally sue \"sally sue\"</td>\n",
              "      <td>1</td>\n",
              "      <td>1</td>\n",
              "      <td>1</td>\n",
              "      <td>1191456000</td>\n",
              "      <td>chicken soup with rice months</td>\n",
              "      <td>This is a fun way for children to learn their ...</td>\n",
              "      <td>fun way children learn month year learn poem t...</td>\n",
              "    </tr>\n",
              "    <tr>\n",
              "      <th>138690</th>\n",
              "      <td>150508</td>\n",
              "      <td>0006641040</td>\n",
              "      <td>AZGXZ2UUK6X</td>\n",
              "      <td>Catherine Hallberg \"(Kate)\"</td>\n",
              "      <td>1</td>\n",
              "      <td>1</td>\n",
              "      <td>1</td>\n",
              "      <td>1076025600</td>\n",
              "      <td>a good swingy rhythm for reading aloud</td>\n",
              "      <td>This is a great little book to read aloud- it ...</td>\n",
              "      <td>great littl book read nice rhythm well good re...</td>\n",
              "    </tr>\n",
              "    <tr>\n",
              "      <th>138691</th>\n",
              "      <td>150509</td>\n",
              "      <td>0006641040</td>\n",
              "      <td>A3CMRKGE0P909G</td>\n",
              "      <td>Teresa</td>\n",
              "      <td>3</td>\n",
              "      <td>4</td>\n",
              "      <td>1</td>\n",
              "      <td>1018396800</td>\n",
              "      <td>A great way to learn the months</td>\n",
              "      <td>This is a book of poetry about the months of t...</td>\n",
              "      <td>book poetri month year goe month cute littl po...</td>\n",
              "    </tr>\n",
              "  </tbody>\n",
              "</table>\n",
              "</div>"
            ],
            "text/plain": [
              "            Id  ...                                          CleanText\n",
              "138706  150524  ...  witti littl book make son laugh loud recit car...\n",
              "138688  150506  ...  grew read sendak book watch realli rosi movi i...\n",
              "138689  150507  ...  fun way children learn month year learn poem t...\n",
              "138690  150508  ...  great littl book read nice rhythm well good re...\n",
              "138691  150509  ...  book poetri month year goe month cute littl po...\n",
              "\n",
              "[5 rows x 11 columns]"
            ]
          },
          "metadata": {
            "tags": []
          },
          "execution_count": 24
        }
      ]
    },
    {
      "cell_type": "code",
      "metadata": {
        "id": "OdNC_QWW__5f"
      },
      "source": [
        "#Store table into sqlite table for future\r\n",
        "con1=sqlite3.connect('final.sqlite')\r\n",
        "c=con1.cursor()\r\n",
        "final.to_sql('Reviews',con1,schema=None,index=True,chunksize=None,dtype=None)"
      ],
      "execution_count": 25,
      "outputs": []
    },
    {
      "cell_type": "code",
      "metadata": {
        "id": "9RdmTkHpAiPm"
      },
      "source": [
        "import sqlite3\r\n",
        "conn=sqlite3.connect('/content/final.sqlite')"
      ],
      "execution_count": 26,
      "outputs": []
    },
    {
      "cell_type": "code",
      "metadata": {
        "colab": {
          "base_uri": "https://localhost:8080/"
        },
        "id": "9I81bY0QBxu7",
        "outputId": "f689b6dd-d3bc-4cd0-e351-123cb92cbb60"
      },
      "source": [
        "final=pd.read_sql_query('''SELECT * FROM Reviews''',conn)\r\n",
        "final.shape"
      ],
      "execution_count": 27,
      "outputs": [
        {
          "output_type": "execute_result",
          "data": {
            "text/plain": [
              "(364171, 12)"
            ]
          },
          "metadata": {
            "tags": []
          },
          "execution_count": 27
        }
      ]
    },
    {
      "cell_type": "code",
      "metadata": {
        "id": "8ZPsGm0KDZT_"
      },
      "source": [
        "#data_p=cleaned[cleaned['Score']==1].sample(n=5000)\r\n",
        "#data_n=cleaned[cleaned['Score']==0].sample(n=5000)\r\n",
        "#data=pd.concat([data_p,data_n])"
      ],
      "execution_count": 28,
      "outputs": []
    },
    {
      "cell_type": "code",
      "metadata": {
        "colab": {
          "base_uri": "https://localhost:8080/",
          "height": 648
        },
        "id": "s11ZdwobD99G",
        "outputId": "aeb4aff1-1e44-4875-d15f-f3809a8f1c0d"
      },
      "source": [
        "final.head(10)"
      ],
      "execution_count": 29,
      "outputs": [
        {
          "output_type": "execute_result",
          "data": {
            "text/html": [
              "<div>\n",
              "<style scoped>\n",
              "    .dataframe tbody tr th:only-of-type {\n",
              "        vertical-align: middle;\n",
              "    }\n",
              "\n",
              "    .dataframe tbody tr th {\n",
              "        vertical-align: top;\n",
              "    }\n",
              "\n",
              "    .dataframe thead th {\n",
              "        text-align: right;\n",
              "    }\n",
              "</style>\n",
              "<table border=\"1\" class=\"dataframe\">\n",
              "  <thead>\n",
              "    <tr style=\"text-align: right;\">\n",
              "      <th></th>\n",
              "      <th>index</th>\n",
              "      <th>Id</th>\n",
              "      <th>ProductId</th>\n",
              "      <th>UserId</th>\n",
              "      <th>ProfileName</th>\n",
              "      <th>HelpfulnessNumerator</th>\n",
              "      <th>HelpfulnessDenominator</th>\n",
              "      <th>Score</th>\n",
              "      <th>Time</th>\n",
              "      <th>Summary</th>\n",
              "      <th>Text</th>\n",
              "      <th>CleanText</th>\n",
              "    </tr>\n",
              "  </thead>\n",
              "  <tbody>\n",
              "    <tr>\n",
              "      <th>0</th>\n",
              "      <td>138706</td>\n",
              "      <td>150524</td>\n",
              "      <td>0006641040</td>\n",
              "      <td>ACITT7DI6IDDL</td>\n",
              "      <td>shari zychinski</td>\n",
              "      <td>0</td>\n",
              "      <td>0</td>\n",
              "      <td>1</td>\n",
              "      <td>939340800</td>\n",
              "      <td>EVERY book is educational</td>\n",
              "      <td>this witty little book makes my son laugh at l...</td>\n",
              "      <td>witti littl book make son laugh loud recit car...</td>\n",
              "    </tr>\n",
              "    <tr>\n",
              "      <th>1</th>\n",
              "      <td>138688</td>\n",
              "      <td>150506</td>\n",
              "      <td>0006641040</td>\n",
              "      <td>A2IW4PEEKO2R0U</td>\n",
              "      <td>Tracy</td>\n",
              "      <td>1</td>\n",
              "      <td>1</td>\n",
              "      <td>1</td>\n",
              "      <td>1194739200</td>\n",
              "      <td>Love the book, miss the hard cover version</td>\n",
              "      <td>I grew up reading these Sendak books, and watc...</td>\n",
              "      <td>grew read sendak book watch realli rosi movi i...</td>\n",
              "    </tr>\n",
              "    <tr>\n",
              "      <th>2</th>\n",
              "      <td>138689</td>\n",
              "      <td>150507</td>\n",
              "      <td>0006641040</td>\n",
              "      <td>A1S4A3IQ2MU7V4</td>\n",
              "      <td>sally sue \"sally sue\"</td>\n",
              "      <td>1</td>\n",
              "      <td>1</td>\n",
              "      <td>1</td>\n",
              "      <td>1191456000</td>\n",
              "      <td>chicken soup with rice months</td>\n",
              "      <td>This is a fun way for children to learn their ...</td>\n",
              "      <td>fun way children learn month year learn poem t...</td>\n",
              "    </tr>\n",
              "    <tr>\n",
              "      <th>3</th>\n",
              "      <td>138690</td>\n",
              "      <td>150508</td>\n",
              "      <td>0006641040</td>\n",
              "      <td>AZGXZ2UUK6X</td>\n",
              "      <td>Catherine Hallberg \"(Kate)\"</td>\n",
              "      <td>1</td>\n",
              "      <td>1</td>\n",
              "      <td>1</td>\n",
              "      <td>1076025600</td>\n",
              "      <td>a good swingy rhythm for reading aloud</td>\n",
              "      <td>This is a great little book to read aloud- it ...</td>\n",
              "      <td>great littl book read nice rhythm well good re...</td>\n",
              "    </tr>\n",
              "    <tr>\n",
              "      <th>4</th>\n",
              "      <td>138691</td>\n",
              "      <td>150509</td>\n",
              "      <td>0006641040</td>\n",
              "      <td>A3CMRKGE0P909G</td>\n",
              "      <td>Teresa</td>\n",
              "      <td>3</td>\n",
              "      <td>4</td>\n",
              "      <td>1</td>\n",
              "      <td>1018396800</td>\n",
              "      <td>A great way to learn the months</td>\n",
              "      <td>This is a book of poetry about the months of t...</td>\n",
              "      <td>book poetri month year goe month cute littl po...</td>\n",
              "    </tr>\n",
              "    <tr>\n",
              "      <th>5</th>\n",
              "      <td>138693</td>\n",
              "      <td>150511</td>\n",
              "      <td>0006641040</td>\n",
              "      <td>A1C9K534BCI9GO</td>\n",
              "      <td>Laura Purdie Salas</td>\n",
              "      <td>0</td>\n",
              "      <td>0</td>\n",
              "      <td>1</td>\n",
              "      <td>1344211200</td>\n",
              "      <td>Charming and childlike</td>\n",
              "      <td>A charming, rhyming book that describes the ci...</td>\n",
              "      <td>charm rhyme book describ circumst eat dont chi...</td>\n",
              "    </tr>\n",
              "    <tr>\n",
              "      <th>6</th>\n",
              "      <td>138694</td>\n",
              "      <td>150512</td>\n",
              "      <td>0006641040</td>\n",
              "      <td>A1DJXZA5V5FFVA</td>\n",
              "      <td>A. Conway</td>\n",
              "      <td>0</td>\n",
              "      <td>0</td>\n",
              "      <td>1</td>\n",
              "      <td>1338249600</td>\n",
              "      <td>Must have.</td>\n",
              "      <td>I set aside at least an hour each day to read ...</td>\n",
              "      <td>set asid least hour day read son point consid ...</td>\n",
              "    </tr>\n",
              "    <tr>\n",
              "      <th>7</th>\n",
              "      <td>138695</td>\n",
              "      <td>150513</td>\n",
              "      <td>0006641040</td>\n",
              "      <td>ASH0DZQQF6AIZ</td>\n",
              "      <td>tessarat</td>\n",
              "      <td>0</td>\n",
              "      <td>0</td>\n",
              "      <td>1</td>\n",
              "      <td>1325721600</td>\n",
              "      <td>A classic</td>\n",
              "      <td>I remembered this book from my childhood and g...</td>\n",
              "      <td>rememb book childhood got kid good rememb kid ...</td>\n",
              "    </tr>\n",
              "    <tr>\n",
              "      <th>8</th>\n",
              "      <td>138696</td>\n",
              "      <td>150514</td>\n",
              "      <td>0006641040</td>\n",
              "      <td>A2ONB6ZA292PA</td>\n",
              "      <td>Rosalind Matzner</td>\n",
              "      <td>0</td>\n",
              "      <td>0</td>\n",
              "      <td>1</td>\n",
              "      <td>1313884800</td>\n",
              "      <td>Chicken soup with Rice</td>\n",
              "      <td>It's a great book with adorable illustrations....</td>\n",
              "      <td>great book ador illustr true classic kid love ...</td>\n",
              "    </tr>\n",
              "    <tr>\n",
              "      <th>9</th>\n",
              "      <td>138697</td>\n",
              "      <td>150515</td>\n",
              "      <td>0006641040</td>\n",
              "      <td>A2RTT81R6Y3R7X</td>\n",
              "      <td>Lindylu</td>\n",
              "      <td>0</td>\n",
              "      <td>0</td>\n",
              "      <td>1</td>\n",
              "      <td>1303171200</td>\n",
              "      <td>One of our family's favorite books</td>\n",
              "      <td>This book is a family favorite and was read to...</td>\n",
              "      <td>book famili favorit read children small order ...</td>\n",
              "    </tr>\n",
              "  </tbody>\n",
              "</table>\n",
              "</div>"
            ],
            "text/plain": [
              "    index  ...                                          CleanText\n",
              "0  138706  ...  witti littl book make son laugh loud recit car...\n",
              "1  138688  ...  grew read sendak book watch realli rosi movi i...\n",
              "2  138689  ...  fun way children learn month year learn poem t...\n",
              "3  138690  ...  great littl book read nice rhythm well good re...\n",
              "4  138691  ...  book poetri month year goe month cute littl po...\n",
              "5  138693  ...  charm rhyme book describ circumst eat dont chi...\n",
              "6  138694  ...  set asid least hour day read son point consid ...\n",
              "7  138695  ...  rememb book childhood got kid good rememb kid ...\n",
              "8  138696  ...  great book ador illustr true classic kid love ...\n",
              "9  138697  ...  book famili favorit read children small order ...\n",
              "\n",
              "[10 rows x 12 columns]"
            ]
          },
          "metadata": {
            "tags": []
          },
          "execution_count": 29
        }
      ]
    },
    {
      "cell_type": "code",
      "metadata": {
        "id": "9m0_g0AeEB7H"
      },
      "source": [
        "final['Time']=pd.to_datetime(final['Time'],unit='s')\r\n",
        "final=final.sort_values(by='Time')"
      ],
      "execution_count": 30,
      "outputs": []
    },
    {
      "cell_type": "markdown",
      "metadata": {
        "id": "EB0m-OuC9FUx"
      },
      "source": [
        "# **Applying Multinomial Naive Bayes**\r\n",
        "\r\n",
        "\r\n",
        "# Applying Naive Bayes on BOW "
      ]
    },
    {
      "cell_type": "code",
      "metadata": {
        "id": "6oLlyaFk9XX2"
      },
      "source": [
        "from sklearn.naive_bayes import MultinomialNB\r\n",
        "from sklearn.metrics import accuracy_score\r\n",
        "from sklearn.metrics import roc_auc_score\r\n",
        "from sklearn.model_selection import train_test_split\r\n",
        "import math"
      ],
      "execution_count": 31,
      "outputs": []
    },
    {
      "cell_type": "code",
      "metadata": {
        "id": "c3-PlYufCVC-"
      },
      "source": [
        "X=final['CleanText']\r\n",
        "y=np.array(final['Score'])"
      ],
      "execution_count": 32,
      "outputs": []
    },
    {
      "cell_type": "code",
      "metadata": {
        "id": "QPZmg7e3C1ic"
      },
      "source": [
        "X_1,X_test,y_1,y_test=train_test_split(X,y,test_size=0.3,random_state=42)\r\n",
        "X_train,X_cv,y_train,y_cv=train_test_split(X_1,y_1,test_size=0.3)\r\n"
      ],
      "execution_count": 33,
      "outputs": []
    },
    {
      "cell_type": "code",
      "metadata": {
        "id": "bcq-yKzdDT27"
      },
      "source": [
        "from sklearn.feature_extraction.text import CountVectorizer\r\n",
        "count_vect=CountVectorizer()\r\n",
        "final_Xtrain=count_vect.fit_transform(X_train)\r\n",
        "final_Xcv=count_vect.transform(X_cv)\r\n",
        "final_Xtest=count_vect.transform(X_test)\r\n",
        "\r\n"
      ],
      "execution_count": 34,
      "outputs": []
    },
    {
      "cell_type": "code",
      "metadata": {
        "colab": {
          "base_uri": "https://localhost:8080/",
          "height": 312
        },
        "id": "qWkg5sHBDzzA",
        "outputId": "0ce8b1ce-dd6d-4d15-d4ff-fe00ec4d31aa"
      },
      "source": [
        "auc_train=[]\r\n",
        "auc_cv=[]\r\n",
        "\r\n",
        "alpha_values=[0.00001,0.0001,0.001,0.01,0.1,1,10,100,1000,10000,100000]#alpha from 10^-5 to 10^5\r\n",
        "for i in alpha_values:\r\n",
        "  mnb=MultinomialNB(alpha=i)\r\n",
        "  mnb.fit(final_Xtrain,y_train)\r\n",
        "  pred=mnb.predict_proba(final_Xcv)[:,1]\r\n",
        "  pred1=mnb.predict_proba(final_Xtrain)[:,1]\r\n",
        "  auc_train.append(roc_auc_score(y_train,pred1))\r\n",
        "  auc_cv.append(roc_auc_score(y_cv,pred))\r\n",
        "\r\n",
        "\r\n",
        "optimal_alpha=alpha_values[auc_cv.index(max(auc_cv))]\r\n",
        "alpha_values=[math.log(x) for x in alpha_values]\r\n",
        "\r\n",
        "fig=plt.figure()\r\n",
        "ax=plt.subplot(111)\r\n",
        "\r\n",
        "ax.plot(alpha_values,auc_train,label='AUC train')\r\n",
        "ax.plot(alpha_values,auc_cv,label='AUC CV')\r\n",
        "plt.title('alpha values vs hyper parameter')\r\n",
        "plt.xlabel('Alpha Values')\r\n",
        "plt.ylabel('AUC')\r\n",
        "plt.legend()\r\n",
        "plt.show()\r\n",
        "print('Optimal alpha for which auc is maximum',optimal_alpha)\r\n"
      ],
      "execution_count": 35,
      "outputs": [
        {
          "output_type": "display_data",
          "data": {
            "image/png": "[encoded data removed]",
            "text/plain": [
              "<Figure size 432x288 with 1 Axes>"
            ]
          },
          "metadata": {
            "tags": [],
            "needs_background": "light"
          }
        },
        {
          "output_type": "stream",
          "text": [
            "Optimal alpha for which auc is maximum 0.1\n"
          ],
          "name": "stdout"
        }
      ]
    },
    {
      "cell_type": "code",
      "metadata": {
        "colab": {
          "base_uri": "https://localhost:8080/",
          "height": 295
        },
        "id": "eqsyuIDnGOuw",
        "outputId": "0e5db3a4-6ce5-4d2f-9894-5c0e73023703"
      },
      "source": [
        "#ROC for alpha =0.1\r\n",
        "\r\n",
        "mnb=MultinomialNB(alpha=0.1)\r\n",
        "mnb.fit(final_Xtrain,y_train)\r\n",
        "\r\n",
        "predi=mnb.predict_proba(final_Xtest)[:,1]\r\n",
        "fpr1,tpr1,thresholds1=metrics.roc_curve(y_test,predi)\r\n",
        "\r\n",
        "pred=mnb.predict_proba(final_Xtrain)[:,1]\r\n",
        "fpr2,tpr2,thresholds2=metrics.roc_curve(y_train,pred)\r\n",
        "\r\n",
        "fig=plt.figure()\r\n",
        "ax=plt.subplot(111)\r\n",
        "ax.plot(fpr1,tpr1,label='Test ROC ,auc='+str(roc_auc_score(y_test,predi)))\r\n",
        "ax.plot(fpr2,tpr2,label='Train Roc, auc='+str(roc_auc_score(y_train,pred)))\r\n",
        "plt.title('ROC ')\r\n",
        "plt.xlabel('FPR')\r\n",
        "plt.ylabel('TPR')\r\n",
        "plt.legend()\r\n",
        "plt.show()\r\n"
      ],
      "execution_count": 39,
      "outputs": [
        {
          "output_type": "display_data",
          "data": {
            "image/png": "[encoded data removed]",
            "text/plain": [
              "<Figure size 432x288 with 1 Axes>"
            ]
          },
          "metadata": {
            "tags": [],
            "needs_background": "light"
          }
        }
      ]
    },
    {
      "cell_type": "code",
      "metadata": {
        "id": "Q_lw5e2npuS_"
      },
      "source": [
        "import sklearn.metrics as metrics"
      ],
      "execution_count": 38,
      "outputs": []
    },
    {
      "cell_type": "code",
      "metadata": {
        "colab": {
          "base_uri": "https://localhost:8080/",
          "height": 295
        },
        "id": "g_PFmPX1Jmfn",
        "outputId": "dc6f74f1-7d74-427c-e247-e58cc4ee64a3"
      },
      "source": [
        "#confusion matrix using heatmap for train data\r\n",
        "from sklearn.metrics import confusion_matrix\r\n",
        "mnb=MultinomialNB(alpha=0.1)\r\n",
        "mnb.fit(final_Xtrain,y_train)\r\n",
        "predic=mnb.predict(final_Xtrain)\r\n",
        "import seaborn as sns\r\n",
        "conf_mat=confusion_matrix(y_train,predic)\r\n",
        "class_label=['negetive','positive']\r\n",
        "df=pd.DataFrame(conf_mat,index=class_label,columns=class_label)\r\n",
        "sns.heatmap(df,annot=True,fmt='d')\r\n",
        "plt.title('Confusion matrix')\r\n",
        "plt.xlabel('predicted label')\r\n",
        "plt.ylabel('True label')\r\n",
        "plt.show()"
      ],
      "execution_count": 40,
      "outputs": [
        {
          "output_type": "display_data",
          "data": {
            "image/png": "[encoded data removed]",
            "text/plain": [
              "<Figure size 432x288 with 2 Axes>"
            ]
          },
          "metadata": {
            "tags": [],
            "needs_background": "light"
          }
        }
      ]
    },
    {
      "cell_type": "code",
      "metadata": {
        "colab": {
          "base_uri": "https://localhost:8080/",
          "height": 295
        },
        "id": "ijOTpUu5NdWH",
        "outputId": "a90989b4-5598-4848-8d72-39fbbd647570"
      },
      "source": [
        "#confusion matrix using heatmap for test data\r\n",
        "mnb=MultinomialNB(alpha=0.1)\r\n",
        "mnb.fit(final_Xtrain,y_train)\r\n",
        "predic=mnb.predict(final_Xtest)\r\n",
        "import seaborn as sns\r\n",
        "conf_mat=confusion_matrix(y_test,predic)\r\n",
        "class_label=['negetive','positive']\r\n",
        "df=pd.DataFrame(conf_mat,index=class_label,columns=class_label)\r\n",
        "sns.heatmap(df,annot=True,fmt='d')\r\n",
        "plt.title('confusion matrix')\r\n",
        "plt.xlabel('predicted label')\r\n",
        "plt.ylabel('Actual label')\r\n",
        "plt.show()"
      ],
      "execution_count": 41,
      "outputs": [
        {
          "output_type": "display_data",
          "data": {
            "image/png": "[encoded data removed]",
            "text/plain": [
              "<Figure size 432x288 with 2 Axes>"
            ]
          },
          "metadata": {
            "tags": [],
            "needs_background": "light"
          }
        }
      ]
    },
    {
      "cell_type": "markdown",
      "metadata": {
        "id": "q_2v6wdkRMYK"
      },
      "source": [
        "### Top 10 important features of positive class"
      ]
    },
    {
      "cell_type": "code",
      "metadata": {
        "colab": {
          "base_uri": "https://localhost:8080/"
        },
        "id": "tef1J4qZRStm",
        "outputId": "8aeaa5b0-73e3-4961-8de3-b686081e6c5e"
      },
      "source": [
        "model=MultinomialNB(alpha=0.1)\r\n",
        "model.fit(final_Xtrain,y_train)\r\n",
        "features=model.feature_log_prob_ #log probability of features for given class\r\n",
        "feature_names=count_vect.get_feature_names()\r\n",
        "negetive_features=np.argsort(features[0])[::-1]\r\n",
        "positive_features=np.argsort(features[1])[::-1]\r\n",
        "print('Top 10 important features of positive class for BOW')\r\n",
        "for i in list(positive_features[1:10]):\r\n",
        "  print(feature_names[i])"
      ],
      "execution_count": 42,
      "outputs": [
        {
          "output_type": "stream",
          "text": [
            "Top 10 important features of positive class for BOW\n",
            "tast\n",
            "good\n",
            "flavor\n",
            "love\n",
            "use\n",
            "great\n",
            "one\n",
            "product\n",
            "tri\n"
          ],
          "name": "stdout"
        }
      ]
    },
    {
      "cell_type": "code",
      "metadata": {
        "colab": {
          "base_uri": "https://localhost:8080/"
        },
        "id": "sicCT6VMTLbk",
        "outputId": "23c39a4f-aa3c-4c58-e0fa-19e1035da5ad"
      },
      "source": [
        "print('Top 10 import features of negetive class')\r\n",
        "for i in list(negetive_features[0:10]):\r\n",
        "  print(feature_names[i])"
      ],
      "execution_count": 43,
      "outputs": [
        {
          "output_type": "stream",
          "text": [
            "Top 10 import features of negetive class\n",
            "tast\n",
            "like\n",
            "product\n",
            "one\n",
            "flavor\n",
            "tri\n",
            "would\n",
            "use\n",
            "good\n",
            "coffe\n"
          ],
          "name": "stdout"
        }
      ]
    },
    {
      "cell_type": "markdown",
      "metadata": {
        "id": "NCDyEnrJVttp"
      },
      "source": [
        "# Applying Naive Bayes on TFIDF"
      ]
    },
    {
      "cell_type": "code",
      "metadata": {
        "id": "8fW2lPleWqHh"
      },
      "source": [
        "X=final['CleanText']\r\n",
        "y=np.array(final['Score'])\r\n",
        "X_1,X_test,y_1,y_test=train_test_split(X,y,test_size=0.3,random_state=42)\r\n",
        "X_train,X_cv,y_train,y_cv=train_test_split(X_1,y_1,test_size=0.3, random_state=40)"
      ],
      "execution_count": 44,
      "outputs": []
    },
    {
      "cell_type": "code",
      "metadata": {
        "colab": {
          "base_uri": "https://localhost:8080/"
        },
        "id": "8dRCOGzSVwZB",
        "outputId": "2d542e47-2536-4e6f-d6a6-a07098800063"
      },
      "source": [
        "X_train"
      ],
      "execution_count": 45,
      "outputs": [
        {
          "output_type": "execute_result",
          "data": {
            "text/plain": [
              "142729    tea tast bag torn place creas side one side ba...\n",
              "254616    product excel qualiti great tast import india ...\n",
              "295941    great older dog either lost chew teeth rather ...\n",
              "37676     tea crisp clean fresh tast lemon ginger get en...\n",
              "254100    honest dont understand murmur product sweet fa...\n",
              "                                ...                        \n",
              "163774    dont trust ate hand feel like might give migra...\n",
              "42255     ive vegan six year know thing two rice bean de...\n",
              "6558      deal rip tea tast noth like suppos item add sh...\n",
              "78761     skeptic first heard product decid give tri ama...\n",
              "60164     love pineappl wont disappoint item half sweet ...\n",
              "Name: CleanText, Length: 178443, dtype: object"
            ]
          },
          "metadata": {
            "tags": []
          },
          "execution_count": 45
        }
      ]
    },
    {
      "cell_type": "code",
      "metadata": {
        "colab": {
          "base_uri": "https://localhost:8080/",
          "height": 295
        },
        "id": "6mSGOMJ1bCkR",
        "outputId": "357dc14d-26cc-4e37-e9f6-b6e85fb81aff"
      },
      "source": [
        "from sklearn.feature_extraction.text import TfidfVectorizer\r\n",
        "tf_idf_vect=TfidfVectorizer(min_df=10)\r\n",
        "X_train=tf_idf_vect.fit_transform(X_train)\r\n",
        "X_cv=tf_idf_vect.transform(X_cv)\r\n",
        "X_test=tf_idf_vect.transform(X_test)\r\n",
        "\r\n",
        "auc_cv=[]\r\n",
        "auc_train=[]\r\n",
        "alpha_values = [0.00001,0.0001,0.001,0.01,0.1,1,10,100,1000,10000,100000]\r\n",
        "    \r\n",
        "for i in alpha_values:\r\n",
        "    mnb = MultinomialNB(alpha = i)\r\n",
        "    mnb.fit(X_train,y_train)\r\n",
        "    pred=mnb.predict_proba(X_cv)[:,1]\r\n",
        "    pred1=mnb.predict_proba(X_train)[:,1]\r\n",
        "    auc_train.append(roc_auc_score(y_train,pred1))\r\n",
        "    auc_cv.append(roc_auc_score(y_cv,pred))\r\n",
        "    \r\n",
        "optimal_alpha= alpha_values[auc_cv.index(max(auc_cv))]\r\n",
        "alpha_values=[math.log(x) for x in alpha_values]\r\n",
        "fig = plt.figure()\r\n",
        "ax = plt.subplot(111)\r\n",
        "ax.plot(alpha_values, auc_train, label='AUC train')\r\n",
        "ax.plot(alpha_values, auc_cv, label='AUC CV')\r\n",
        "plt.title('AUC vs hyperparameter')\r\n",
        "plt.xlabel('log(alpha)')\r\n",
        "plt.ylabel('AUC')\r\n",
        "ax.legend()\r\n",
        "plt.show()"
      ],
      "execution_count": 46,
      "outputs": [
        {
          "output_type": "display_data",
          "data": {
            "image/png": "[encoded data removed]",
            "text/plain": [
              "<Figure size 432x288 with 1 Axes>"
            ]
          },
          "metadata": {
            "tags": [],
            "needs_background": "light"
          }
        }
      ]
    },
    {
      "cell_type": "code",
      "metadata": {
        "colab": {
          "base_uri": "https://localhost:8080/"
        },
        "id": "SIZ3pZqPgyUT",
        "outputId": "d0b0c4b4-5ded-42da-8f2e-931303877f7b"
      },
      "source": [
        "print('optimal alpha which auc is maximum',optimal_alpha)"
      ],
      "execution_count": 47,
      "outputs": [
        {
          "output_type": "stream",
          "text": [
            "optimal alpha which auc is maximum 0.1\n"
          ],
          "name": "stdout"
        }
      ]
    },
    {
      "cell_type": "code",
      "metadata": {
        "colab": {
          "base_uri": "https://localhost:8080/",
          "height": 295
        },
        "id": "cn3hOGrGhM1t",
        "outputId": "4641625c-e7e7-41f8-b758-645f91261187"
      },
      "source": [
        "mnb=MultinomialNB(alpha=0.1)\r\n",
        "mnb.fit(X_train,y_train)\r\n",
        "predi=mnb.predict_proba(X_test)[:,1]\r\n",
        "fpr1,tpr1,thresholds1=metrics.roc_curve(y_test,predi)\r\n",
        "\r\n",
        "pred=mnb.predict_proba(X_train)[:,1]\r\n",
        "fpr2,tpr2,thresholds2=metrics.roc_curve(y_train,pred)\r\n",
        "\r\n",
        "fig=plt.figure()\r\n",
        "ax=plt.subplot(111)\r\n",
        "ax.plot(fpr1,tpr1,label='test Roc auc='+str(roc_auc_score(y_test,predi)))\r\n",
        "ax.plot(fpr2,tpr2,label='Train roc ,auc='+str(roc_auc_score(y_train,pred)))\r\n",
        "plt.title('ROC')\r\n",
        "plt.xlabel('FPR')\r\n",
        "plt.ylabel('TPR')\r\n",
        "plt.legend()\r\n",
        "plt.show()"
      ],
      "execution_count": 48,
      "outputs": [
        {
          "output_type": "display_data",
          "data": {
            "image/png": "[encoded data removed]",
            "text/plain": [
              "<Figure size 432x288 with 1 Axes>"
            ]
          },
          "metadata": {
            "tags": [],
            "needs_background": "light"
          }
        }
      ]
    },
    {
      "cell_type": "code",
      "metadata": {
        "colab": {
          "base_uri": "https://localhost:8080/",
          "height": 295
        },
        "id": "FMxw59bwj0-1",
        "outputId": "f9810bcd-fbfb-4f98-93f9-7fc77dd3e251"
      },
      "source": [
        "#confusion matrix using heatmap for train data\r\n",
        "\r\n",
        "from sklearn.metrics import confusion_matrix\r\n",
        "mnb=MultinomialNB(alpha=0.1)\r\n",
        "mnb.fit(X_train,y_train)\r\n",
        "predic=mnb.predict(X_train)\r\n",
        "import seaborn as sns\r\n",
        "class_label=['negetive','positive']\r\n",
        "confu=confusion_matrix(y_train,predic)\r\n",
        "df=pd.DataFrame(confu,index=class_label,columns=class_label)\r\n",
        "sns.heatmap(df, annot=True,fmt='d')\r\n",
        "plt.title('confusion matrix')\r\n",
        "plt.xlabel('predicted label')\r\n",
        "plt.ylabel('actual label')\r\n",
        "plt.show()"
      ],
      "execution_count": 49,
      "outputs": [
        {
          "output_type": "display_data",
          "data": {
            "image/png": "[encoded data removed]",
            "text/plain": [
              "<Figure size 432x288 with 2 Axes>"
            ]
          },
          "metadata": {
            "tags": [],
            "needs_background": "light"
          }
        }
      ]
    },
    {
      "cell_type": "code",
      "metadata": {
        "colab": {
          "base_uri": "https://localhost:8080/",
          "height": 295
        },
        "id": "E5yfMSGmlKNw",
        "outputId": "9b1acbf9-b965-4aa8-8199-1ce46925a22a"
      },
      "source": [
        "#Confusion matrix using heatmap for test data\r\n",
        "from sklearn.metrics import confusion_matrix\r\n",
        "mnb=MultinomialNB(alpha=0.1)\r\n",
        "mnb.fit(X_train,y_train)\r\n",
        "predic=mnb.predict(X_test)\r\n",
        "import seaborn as sns\r\n",
        "conf_mat = confusion_matrix(y_test, predic)\r\n",
        "class_label = [\"negative\", \"positive\"]\r\n",
        "df = pd.DataFrame(conf_mat, index = class_label, columns = class_label)\r\n",
        "sns.heatmap(df, annot = True,fmt=\"d\")\r\n",
        "plt.title(\"Confusion Matrix\")\r\n",
        "plt.xlabel(\"Predicted Label\")\r\n",
        "plt.ylabel(\"True Label\")\r\n",
        "plt.show()"
      ],
      "execution_count": 50,
      "outputs": [
        {
          "output_type": "display_data",
          "data": {
            "image/png": "[encoded data removed]",
            "text/plain": [
              "<Figure size 432x288 with 2 Axes>"
            ]
          },
          "metadata": {
            "tags": [],
            "needs_background": "light"
          }
        }
      ]
    },
    {
      "cell_type": "code",
      "metadata": {
        "id": "HpWnc6iAlW3e"
      },
      "source": [
        ""
      ],
      "execution_count": 50,
      "outputs": []
    },
    {
      "cell_type": "markdown",
      "metadata": {
        "id": "BY0z5oBclZay"
      },
      "source": [
        "# Top 10 important features of positive class"
      ]
    },
    {
      "cell_type": "code",
      "metadata": {
        "colab": {
          "base_uri": "https://localhost:8080/"
        },
        "id": "1aCGdISilbmN",
        "outputId": "1c6f5710-5162-40aa-f4a3-d6e1743eb057"
      },
      "source": [
        "model=MultinomialNB(alpha=0.1)\r\n",
        "model.fit(X_train,y_train)\r\n",
        "features=model.feature_log_prob_\r\n",
        "feature_names=tf_idf_vect.get_feature_names()\r\n",
        "negetive_features=np.argsort(features[0])[::-1]\r\n",
        "positive_features=np.argsort(features[1])[::-1]\r\n",
        "print('Top 10 features of positive class from TFIDF')\r\n",
        "\r\n",
        "for i in list(positive_features[0:10]):\r\n",
        "  print(feature_names[i])"
      ],
      "execution_count": 51,
      "outputs": [
        {
          "output_type": "stream",
          "text": [
            "Top 10 features of positive class from TFIDF\n",
            "great\n",
            "love\n",
            "tast\n",
            "good\n",
            "like\n",
            "flavor\n",
            "tea\n",
            "coffe\n",
            "product\n",
            "use\n"
          ],
          "name": "stdout"
        }
      ]
    },
    {
      "cell_type": "code",
      "metadata": {
        "colab": {
          "base_uri": "https://localhost:8080/"
        },
        "id": "LpbK2ZRslkLN",
        "outputId": "57f2a7f7-7f9a-4ef8-876f-8445a80269c9"
      },
      "source": [
        "# Please write all the code with proper documentation\r\n",
        "print(\"Top 10 important features of negative class from TFIDF\")\r\n",
        "for i in list(negetive_features[0:10]):\r\n",
        "    print(feature_names[i])"
      ],
      "execution_count": 52,
      "outputs": [
        {
          "output_type": "stream",
          "text": [
            "Top 10 important features of negative class from TFIDF\n",
            "tast\n",
            "like\n",
            "product\n",
            "would\n",
            "flavor\n",
            "one\n",
            "coffe\n",
            "buy\n",
            "tri\n",
            "order\n"
          ],
          "name": "stdout"
        }
      ]
    },
    {
      "cell_type": "code",
      "metadata": {
        "id": "-faMgJFLmeOL",
        "colab": {
          "base_uri": "https://localhost:8080/"
        },
        "outputId": "c40cc650-e366-4954-98d6-cc733f40790b"
      },
      "source": [
        "from prettytable import PrettyTable\r\n",
        "x= PrettyTable()\r\n",
        "x.field_names=['vectorizer','Hyperparameter(alpha)','AUC']\r\n",
        "x.add_row(['BOW',0.1,0.91])\r\n",
        "x.add_row(['TFIDF',0.1,0.92])\r\n",
        "print(x)"
      ],
      "execution_count": 55,
      "outputs": [
        {
          "output_type": "stream",
          "text": [
            "+------------+-----------------------+------+\n",
            "| vectorizer | Hyperparameter(alpha) | AUC  |\n",
            "+------------+-----------------------+------+\n",
            "|    BOW     |          0.1          | 0.91 |\n",
            "|   TFIDF    |          0.1          | 0.92 |\n",
            "+------------+-----------------------+------+\n"
          ],
          "name": "stdout"
        }
      ]
    },
    {
      "cell_type": "code",
      "metadata": {
        "id": "mtOceB9JqzCf"
      },
      "source": [
        ""
      ],
      "execution_count": null,
      "outputs": []
    }
  ]
}