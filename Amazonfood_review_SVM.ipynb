{
  "nbformat": 4,
  "nbformat_minor": 0,
  "metadata": {
    "accelerator": "GPU",
    "colab": {
      "name": "Amazonfood review_SVM.ipynb",
      "provenance": [],
      "collapsed_sections": [],
      "toc_visible": true
    },
    "kernelspec": {
      "display_name": "Python 3",
      "name": "python3"
    }
  },
  "cells": [
    {
      "cell_type": "markdown",
      "metadata": {
        "id": "uioxmDiqEaIP"
      },
      "source": [
        "\r\n",
        "# Amazon Fine Food Reviews Analysis¶ **bold text**\r\n",
        "\r\n",
        "Data Source: **https://www.kaggle.com/snap/amazon-fine-food-reviews**\r\n",
        "\r\n",
        "**The Amazon Fine Food Reviews dataset consists of reviews of fine foods from Amazon.**\r\n",
        "\r\n",
        "Number of reviews: 568,454\r\n",
        "\r\n",
        "Number of users: 256,059\r\n",
        "\r\n",
        "Number of products: 74,258\r\n",
        "\r\n",
        "Timespan: Oct 1999 - Oct 2012\r\n",
        "\r\n",
        "Number of Attributes/Columns in data: 10\r\n",
        "\r\n",
        "Attribute Information:\r\n",
        "\r\n",
        "Id\r\n",
        "ProductId - unique identifier for the product\r\n",
        "\r\n",
        "UserId - unqiue identifier for the user\r\n",
        "\r\n",
        "ProfileName\r\n",
        "\r\n",
        "HelpfulnessNumerator - number of users who found the review helpful\r\n",
        "\r\n",
        "HelpfulnessDenominator - number of users who indicated whether they found the \r\n",
        "review helpful or not\r\n",
        "\r\n",
        "Score - rating between 1 and 5\r\n",
        "\r\n",
        "Time - timestamp for the review\r\n",
        "\r\n",
        "Summary - brief summary of the review\r\n",
        "\r\n",
        "\r\n",
        "Text - text of the review\r\n",
        "\r\n",
        "Objective:- Given a review, determine whether the review is positive (Rating of 4 or 5) or negative (rating of 1 or 2).\r\n",
        "\r\n",
        "\r\n",
        "**[Q] How to determine if a review is positive or negative?** \r\n",
        "\r\n",
        "[Ans] We could use the Score/Rating. A rating of 4 or 5 could be cosnidered a positive review. A review of 1 or 2 could be considered negative. A review of 3 is nuetral and ignored. This is an approximate and proxy way of determining the polarity (positivity/negativity) of a review.\r\n",
        "\r\n",
        "**[1.1] Loading the data **\r\n",
        "\r\n",
        "**The dataset is available in two forms**\r\n",
        "\r\n",
        ".csv file\r\n",
        "\r\n",
        "SQLite Database\r\n",
        "\r\n",
        "In order to load the data, We have used the SQLITE dataset as it easier to query the data and visualise the data efficiently.\r\n",
        "\r\n",
        "Here as we only want to get the global sentiment of the recommendations (positive or negative), we will purposefully ignore all Scores equal to 3. \r\n",
        "\r\n",
        "If the score id above 3, then the recommendation wil be set to \"positive\". Otherwise, it will be set to \"negative\"."
      ]
    },
    {
      "cell_type": "code",
      "metadata": {
        "id": "NINF_uKdFI81"
      },
      "source": [
        "import numpy as np\r\n",
        "import pandas as pd\r\n",
        "import matplotlib.pyplot as plt\r\n",
        "from sklearn.metrics import accuracy_score\r\n",
        "from sklearn.model_selection import train_test_split,cross_val_score\r\n",
        "import sqlite3"
      ],
      "execution_count": null,
      "outputs": []
    },
    {
      "cell_type": "code",
      "metadata": {
        "id": "z2hzR-CbFcxs"
      },
      "source": [
        "#read data\r\n",
        "con=sqlite3.connect('/content/drive/MyDrive/amazon data/database.sqlite')"
      ],
      "execution_count": null,
      "outputs": []
    },
    {
      "cell_type": "code",
      "metadata": {
        "colab": {
          "base_uri": "https://localhost:8080/",
          "height": 238
        },
        "id": "4UhRBDIIGJnq",
        "outputId": "494f11cd-6e79-481e-b1c9-1a8593cb340b"
      },
      "source": [
        "#negelect data review having score=3\r\n",
        "\r\n",
        "filtered_data=pd.read_sql_query('''SELECT * FROM Reviews WHERE Score!=3''',con)\r\n",
        "filtered_data.head()"
      ],
      "execution_count": null,
      "outputs": [
        {
          "output_type": "execute_result",
          "data": {
            "text/html": [
              "<div>\n",
              "<style scoped>\n",
              "    .dataframe tbody tr th:only-of-type {\n",
              "        vertical-align: middle;\n",
              "    }\n",
              "\n",
              "    .dataframe tbody tr th {\n",
              "        vertical-align: top;\n",
              "    }\n",
              "\n",
              "    .dataframe thead th {\n",
              "        text-align: right;\n",
              "    }\n",
              "</style>\n",
              "<table border=\"1\" class=\"dataframe\">\n",
              "  <thead>\n",
              "    <tr style=\"text-align: right;\">\n",
              "      <th></th>\n",
              "      <th>Id</th>\n",
              "      <th>ProductId</th>\n",
              "      <th>UserId</th>\n",
              "      <th>ProfileName</th>\n",
              "      <th>HelpfulnessNumerator</th>\n",
              "      <th>HelpfulnessDenominator</th>\n",
              "      <th>Score</th>\n",
              "      <th>Time</th>\n",
              "      <th>Summary</th>\n",
              "      <th>Text</th>\n",
              "    </tr>\n",
              "  </thead>\n",
              "  <tbody>\n",
              "    <tr>\n",
              "      <th>0</th>\n",
              "      <td>1</td>\n",
              "      <td>B001E4KFG0</td>\n",
              "      <td>A3SGXH7AUHU8GW</td>\n",
              "      <td>delmartian</td>\n",
              "      <td>1</td>\n",
              "      <td>1</td>\n",
              "      <td>5</td>\n",
              "      <td>1303862400</td>\n",
              "      <td>Good Quality Dog Food</td>\n",
              "      <td>I have bought several of the Vitality canned d...</td>\n",
              "    </tr>\n",
              "    <tr>\n",
              "      <th>1</th>\n",
              "      <td>2</td>\n",
              "      <td>B00813GRG4</td>\n",
              "      <td>A1D87F6ZCVE5NK</td>\n",
              "      <td>dll pa</td>\n",
              "      <td>0</td>\n",
              "      <td>0</td>\n",
              "      <td>1</td>\n",
              "      <td>1346976000</td>\n",
              "      <td>Not as Advertised</td>\n",
              "      <td>Product arrived labeled as Jumbo Salted Peanut...</td>\n",
              "    </tr>\n",
              "    <tr>\n",
              "      <th>2</th>\n",
              "      <td>3</td>\n",
              "      <td>B000LQOCH0</td>\n",
              "      <td>ABXLMWJIXXAIN</td>\n",
              "      <td>Natalia Corres \"Natalia Corres\"</td>\n",
              "      <td>1</td>\n",
              "      <td>1</td>\n",
              "      <td>4</td>\n",
              "      <td>1219017600</td>\n",
              "      <td>\"Delight\" says it all</td>\n",
              "      <td>This is a confection that has been around a fe...</td>\n",
              "    </tr>\n",
              "    <tr>\n",
              "      <th>3</th>\n",
              "      <td>4</td>\n",
              "      <td>B000UA0QIQ</td>\n",
              "      <td>A395BORC6FGVXV</td>\n",
              "      <td>Karl</td>\n",
              "      <td>3</td>\n",
              "      <td>3</td>\n",
              "      <td>2</td>\n",
              "      <td>1307923200</td>\n",
              "      <td>Cough Medicine</td>\n",
              "      <td>If you are looking for the secret ingredient i...</td>\n",
              "    </tr>\n",
              "    <tr>\n",
              "      <th>4</th>\n",
              "      <td>5</td>\n",
              "      <td>B006K2ZZ7K</td>\n",
              "      <td>A1UQRSCLF8GW1T</td>\n",
              "      <td>Michael D. Bigham \"M. Wassir\"</td>\n",
              "      <td>0</td>\n",
              "      <td>0</td>\n",
              "      <td>5</td>\n",
              "      <td>1350777600</td>\n",
              "      <td>Great taffy</td>\n",
              "      <td>Great taffy at a great price.  There was a wid...</td>\n",
              "    </tr>\n",
              "  </tbody>\n",
              "</table>\n",
              "</div>"
            ],
            "text/plain": [
              "   Id  ...                                               Text\n",
              "0   1  ...  I have bought several of the Vitality canned d...\n",
              "1   2  ...  Product arrived labeled as Jumbo Salted Peanut...\n",
              "2   3  ...  This is a confection that has been around a fe...\n",
              "3   4  ...  If you are looking for the secret ingredient i...\n",
              "4   5  ...  Great taffy at a great price.  There was a wid...\n",
              "\n",
              "[5 rows x 10 columns]"
            ]
          },
          "metadata": {
            "tags": []
          },
          "execution_count": 3
        }
      ]
    },
    {
      "cell_type": "code",
      "metadata": {
        "id": "9RBZE8BWGeYB"
      },
      "source": [
        "def partition(x):\r\n",
        "  if x<3:\r\n",
        "    return 'negetive'\r\n",
        "  return 'positive'"
      ],
      "execution_count": null,
      "outputs": []
    },
    {
      "cell_type": "code",
      "metadata": {
        "id": "VgvfQv_FGsIY"
      },
      "source": [
        "filtered_data['Score']=filtered_data['Score'].map(partition)"
      ],
      "execution_count": null,
      "outputs": []
    },
    {
      "cell_type": "code",
      "metadata": {
        "colab": {
          "base_uri": "https://localhost:8080/",
          "height": 272
        },
        "id": "FDe8yotKGx-Q",
        "outputId": "fe21be71-f53d-4bed-aa3c-7def22040877"
      },
      "source": [
        "filtered_data.head()"
      ],
      "execution_count": null,
      "outputs": [
        {
          "output_type": "execute_result",
          "data": {
            "text/html": [
              "<div>\n",
              "<style scoped>\n",
              "    .dataframe tbody tr th:only-of-type {\n",
              "        vertical-align: middle;\n",
              "    }\n",
              "\n",
              "    .dataframe tbody tr th {\n",
              "        vertical-align: top;\n",
              "    }\n",
              "\n",
              "    .dataframe thead th {\n",
              "        text-align: right;\n",
              "    }\n",
              "</style>\n",
              "<table border=\"1\" class=\"dataframe\">\n",
              "  <thead>\n",
              "    <tr style=\"text-align: right;\">\n",
              "      <th></th>\n",
              "      <th>Id</th>\n",
              "      <th>ProductId</th>\n",
              "      <th>UserId</th>\n",
              "      <th>ProfileName</th>\n",
              "      <th>HelpfulnessNumerator</th>\n",
              "      <th>HelpfulnessDenominator</th>\n",
              "      <th>Score</th>\n",
              "      <th>Time</th>\n",
              "      <th>Summary</th>\n",
              "      <th>Text</th>\n",
              "    </tr>\n",
              "  </thead>\n",
              "  <tbody>\n",
              "    <tr>\n",
              "      <th>0</th>\n",
              "      <td>1</td>\n",
              "      <td>B001E4KFG0</td>\n",
              "      <td>A3SGXH7AUHU8GW</td>\n",
              "      <td>delmartian</td>\n",
              "      <td>1</td>\n",
              "      <td>1</td>\n",
              "      <td>positive</td>\n",
              "      <td>1303862400</td>\n",
              "      <td>Good Quality Dog Food</td>\n",
              "      <td>I have bought several of the Vitality canned d...</td>\n",
              "    </tr>\n",
              "    <tr>\n",
              "      <th>1</th>\n",
              "      <td>2</td>\n",
              "      <td>B00813GRG4</td>\n",
              "      <td>A1D87F6ZCVE5NK</td>\n",
              "      <td>dll pa</td>\n",
              "      <td>0</td>\n",
              "      <td>0</td>\n",
              "      <td>negetive</td>\n",
              "      <td>1346976000</td>\n",
              "      <td>Not as Advertised</td>\n",
              "      <td>Product arrived labeled as Jumbo Salted Peanut...</td>\n",
              "    </tr>\n",
              "    <tr>\n",
              "      <th>2</th>\n",
              "      <td>3</td>\n",
              "      <td>B000LQOCH0</td>\n",
              "      <td>ABXLMWJIXXAIN</td>\n",
              "      <td>Natalia Corres \"Natalia Corres\"</td>\n",
              "      <td>1</td>\n",
              "      <td>1</td>\n",
              "      <td>positive</td>\n",
              "      <td>1219017600</td>\n",
              "      <td>\"Delight\" says it all</td>\n",
              "      <td>This is a confection that has been around a fe...</td>\n",
              "    </tr>\n",
              "    <tr>\n",
              "      <th>3</th>\n",
              "      <td>4</td>\n",
              "      <td>B000UA0QIQ</td>\n",
              "      <td>A395BORC6FGVXV</td>\n",
              "      <td>Karl</td>\n",
              "      <td>3</td>\n",
              "      <td>3</td>\n",
              "      <td>negetive</td>\n",
              "      <td>1307923200</td>\n",
              "      <td>Cough Medicine</td>\n",
              "      <td>If you are looking for the secret ingredient i...</td>\n",
              "    </tr>\n",
              "    <tr>\n",
              "      <th>4</th>\n",
              "      <td>5</td>\n",
              "      <td>B006K2ZZ7K</td>\n",
              "      <td>A1UQRSCLF8GW1T</td>\n",
              "      <td>Michael D. Bigham \"M. Wassir\"</td>\n",
              "      <td>0</td>\n",
              "      <td>0</td>\n",
              "      <td>positive</td>\n",
              "      <td>1350777600</td>\n",
              "      <td>Great taffy</td>\n",
              "      <td>Great taffy at a great price.  There was a wid...</td>\n",
              "    </tr>\n",
              "  </tbody>\n",
              "</table>\n",
              "</div>"
            ],
            "text/plain": [
              "   Id  ...                                               Text\n",
              "0   1  ...  I have bought several of the Vitality canned d...\n",
              "1   2  ...  Product arrived labeled as Jumbo Salted Peanut...\n",
              "2   3  ...  This is a confection that has been around a fe...\n",
              "3   4  ...  If you are looking for the secret ingredient i...\n",
              "4   5  ...  Great taffy at a great price.  There was a wid...\n",
              "\n",
              "[5 rows x 10 columns]"
            ]
          },
          "metadata": {
            "tags": []
          },
          "execution_count": 6
        }
      ]
    },
    {
      "cell_type": "code",
      "metadata": {
        "colab": {
          "base_uri": "https://localhost:8080/"
        },
        "id": "yezzPxiHG1W4",
        "outputId": "6054046d-bc7d-44cb-8edc-7dee2222acfb"
      },
      "source": [
        "filtered_data['Score'].value_counts()"
      ],
      "execution_count": null,
      "outputs": [
        {
          "output_type": "execute_result",
          "data": {
            "text/plain": [
              "positive    443777\n",
              "negetive     82037\n",
              "Name: Score, dtype: int64"
            ]
          },
          "metadata": {
            "tags": []
          },
          "execution_count": 7
        }
      ]
    },
    {
      "cell_type": "code",
      "metadata": {
        "id": "zjcjfd2MG9GX"
      },
      "source": [
        "display=pd.read_sql_query('''SELECT * FROM Reviews WHERE Score!=3 \r\n",
        "                              AND UserId=\"AR5J8UI46CURR\"\r\n",
        "                              ORDER BY ProductID''',con)"
      ],
      "execution_count": null,
      "outputs": []
    },
    {
      "cell_type": "code",
      "metadata": {
        "colab": {
          "base_uri": "https://localhost:8080/",
          "height": 306
        },
        "id": "5xCxC0YxHX7P",
        "outputId": "a5605339-c5c5-451d-fc3e-83a89c89ff99"
      },
      "source": [
        "print(display.shape)\r\n",
        "display.head()"
      ],
      "execution_count": null,
      "outputs": [
        {
          "output_type": "stream",
          "text": [
            "(5, 10)\n"
          ],
          "name": "stdout"
        },
        {
          "output_type": "execute_result",
          "data": {
            "text/html": [
              "<div>\n",
              "<style scoped>\n",
              "    .dataframe tbody tr th:only-of-type {\n",
              "        vertical-align: middle;\n",
              "    }\n",
              "\n",
              "    .dataframe tbody tr th {\n",
              "        vertical-align: top;\n",
              "    }\n",
              "\n",
              "    .dataframe thead th {\n",
              "        text-align: right;\n",
              "    }\n",
              "</style>\n",
              "<table border=\"1\" class=\"dataframe\">\n",
              "  <thead>\n",
              "    <tr style=\"text-align: right;\">\n",
              "      <th></th>\n",
              "      <th>Id</th>\n",
              "      <th>ProductId</th>\n",
              "      <th>UserId</th>\n",
              "      <th>ProfileName</th>\n",
              "      <th>HelpfulnessNumerator</th>\n",
              "      <th>HelpfulnessDenominator</th>\n",
              "      <th>Score</th>\n",
              "      <th>Time</th>\n",
              "      <th>Summary</th>\n",
              "      <th>Text</th>\n",
              "    </tr>\n",
              "  </thead>\n",
              "  <tbody>\n",
              "    <tr>\n",
              "      <th>0</th>\n",
              "      <td>78445</td>\n",
              "      <td>B000HDL1RQ</td>\n",
              "      <td>AR5J8UI46CURR</td>\n",
              "      <td>Geetha Krishnan</td>\n",
              "      <td>2</td>\n",
              "      <td>2</td>\n",
              "      <td>5</td>\n",
              "      <td>1199577600</td>\n",
              "      <td>LOACKER QUADRATINI VANILLA WAFERS</td>\n",
              "      <td>DELICIOUS WAFERS. I FIND THAT EUROPEAN WAFERS ...</td>\n",
              "    </tr>\n",
              "    <tr>\n",
              "      <th>1</th>\n",
              "      <td>138317</td>\n",
              "      <td>B000HDOPYC</td>\n",
              "      <td>AR5J8UI46CURR</td>\n",
              "      <td>Geetha Krishnan</td>\n",
              "      <td>2</td>\n",
              "      <td>2</td>\n",
              "      <td>5</td>\n",
              "      <td>1199577600</td>\n",
              "      <td>LOACKER QUADRATINI VANILLA WAFERS</td>\n",
              "      <td>DELICIOUS WAFERS. I FIND THAT EUROPEAN WAFERS ...</td>\n",
              "    </tr>\n",
              "    <tr>\n",
              "      <th>2</th>\n",
              "      <td>138277</td>\n",
              "      <td>B000HDOPYM</td>\n",
              "      <td>AR5J8UI46CURR</td>\n",
              "      <td>Geetha Krishnan</td>\n",
              "      <td>2</td>\n",
              "      <td>2</td>\n",
              "      <td>5</td>\n",
              "      <td>1199577600</td>\n",
              "      <td>LOACKER QUADRATINI VANILLA WAFERS</td>\n",
              "      <td>DELICIOUS WAFERS. I FIND THAT EUROPEAN WAFERS ...</td>\n",
              "    </tr>\n",
              "    <tr>\n",
              "      <th>3</th>\n",
              "      <td>73791</td>\n",
              "      <td>B000HDOPZG</td>\n",
              "      <td>AR5J8UI46CURR</td>\n",
              "      <td>Geetha Krishnan</td>\n",
              "      <td>2</td>\n",
              "      <td>2</td>\n",
              "      <td>5</td>\n",
              "      <td>1199577600</td>\n",
              "      <td>LOACKER QUADRATINI VANILLA WAFERS</td>\n",
              "      <td>DELICIOUS WAFERS. I FIND THAT EUROPEAN WAFERS ...</td>\n",
              "    </tr>\n",
              "    <tr>\n",
              "      <th>4</th>\n",
              "      <td>155049</td>\n",
              "      <td>B000PAQ75C</td>\n",
              "      <td>AR5J8UI46CURR</td>\n",
              "      <td>Geetha Krishnan</td>\n",
              "      <td>2</td>\n",
              "      <td>2</td>\n",
              "      <td>5</td>\n",
              "      <td>1199577600</td>\n",
              "      <td>LOACKER QUADRATINI VANILLA WAFERS</td>\n",
              "      <td>DELICIOUS WAFERS. I FIND THAT EUROPEAN WAFERS ...</td>\n",
              "    </tr>\n",
              "  </tbody>\n",
              "</table>\n",
              "</div>"
            ],
            "text/plain": [
              "       Id  ...                                               Text\n",
              "0   78445  ...  DELICIOUS WAFERS. I FIND THAT EUROPEAN WAFERS ...\n",
              "1  138317  ...  DELICIOUS WAFERS. I FIND THAT EUROPEAN WAFERS ...\n",
              "2  138277  ...  DELICIOUS WAFERS. I FIND THAT EUROPEAN WAFERS ...\n",
              "3   73791  ...  DELICIOUS WAFERS. I FIND THAT EUROPEAN WAFERS ...\n",
              "4  155049  ...  DELICIOUS WAFERS. I FIND THAT EUROPEAN WAFERS ...\n",
              "\n",
              "[5 rows x 10 columns]"
            ]
          },
          "metadata": {
            "tags": []
          },
          "execution_count": 9
        }
      ]
    },
    {
      "cell_type": "markdown",
      "metadata": {
        "id": "6Z5ZygBqHg73"
      },
      "source": [
        "*Observations: *\r\n",
        "\r\n",
        "1) As in above table, UserId, ProfileName, HelpfulnessNumerator, HelpfulnessDenominator.Score,Time, Summary and Text shows same content\r\n",
        "\r\n",
        "2) Also for all 5 product, shows same time.\r\n",
        "\r\n",
        "3) Here we observed that, product is same, only the flavour is different\r\n",
        "\r\n",
        "4) so we will remove this duplication and keep any one product which all these features so we removing duplicates."
      ]
    },
    {
      "cell_type": "code",
      "metadata": {
        "id": "mNlU_LT2HcFm"
      },
      "source": [
        "#sort data according to product Id in ascending order\r\n",
        "\r\n",
        "sorted_data=filtered_data.sort_values('ProductId',ascending=True,inplace=False,kind='quicksort',na_position='last')\r\n"
      ],
      "execution_count": null,
      "outputs": []
    },
    {
      "cell_type": "code",
      "metadata": {
        "colab": {
          "base_uri": "https://localhost:8080/"
        },
        "id": "Ne2-0OsbIBLs",
        "outputId": "77d13a79-3743-4335-9c8d-be9bccbfcd69"
      },
      "source": [
        "final=sorted_data.drop_duplicates(subset={'UserId','ProfileName','Time','Text'},keep='first',inplace=False)\r\n",
        "final.shape"
      ],
      "execution_count": null,
      "outputs": [
        {
          "output_type": "execute_result",
          "data": {
            "text/plain": [
              "(364173, 10)"
            ]
          },
          "metadata": {
            "tags": []
          },
          "execution_count": 11
        }
      ]
    },
    {
      "cell_type": "code",
      "metadata": {
        "colab": {
          "base_uri": "https://localhost:8080/"
        },
        "id": "rzb7f9e6ITgk",
        "outputId": "f57120ca-8ae6-4049-b0a2-160ec4d9eff5"
      },
      "source": [
        "#After removing duplicaties see how much % of data  still remains\r\n",
        "((final['Id'].size)/(filtered_data['Id'].size))*100"
      ],
      "execution_count": null,
      "outputs": [
        {
          "output_type": "execute_result",
          "data": {
            "text/plain": [
              "69.25890143662969"
            ]
          },
          "metadata": {
            "tags": []
          },
          "execution_count": 12
        }
      ]
    },
    {
      "cell_type": "code",
      "metadata": {
        "id": "ub5r50rAIqGT"
      },
      "source": [
        "final=final[final.HelpfulnessNumerator<=final.HelpfulnessDenominator]"
      ],
      "execution_count": null,
      "outputs": []
    },
    {
      "cell_type": "markdown",
      "metadata": {
        "id": "lv323tphJIUw"
      },
      "source": [
        "## **Now, we do preprocessing like removal of stop words, html tags and make all letters in lowercase.**"
      ]
    },
    {
      "cell_type": "code",
      "metadata": {
        "colab": {
          "base_uri": "https://localhost:8080/"
        },
        "id": "v7zy-iBGI5fL",
        "outputId": "7847dbd4-50cc-4c78-dd58-a5fbcb1489eb"
      },
      "source": [
        "import re\r\n",
        "i=0\r\n",
        "for sent in final['Text'].values:\r\n",
        "  if (re.findall('<.*?>',sent)):\r\n",
        "    print(i)\r\n",
        "    print(sent)\r\n",
        "    break\r\n",
        "  i+=1\r\n",
        "\r\n"
      ],
      "execution_count": null,
      "outputs": [
        {
          "output_type": "stream",
          "text": [
            "6\n",
            "I set aside at least an hour each day to read to my son (3 y/o). At this point, I consider myself a connoisseur of children's books and this is one of the best. Santa Clause put this under the tree. Since then, we've read it perpetually and he loves it.<br /><br />First, this book taught him the months of the year.<br /><br />Second, it's a pleasure to read. Well suited to 1.5 y/o old to 4+.<br /><br />Very few children's books are worth owning. Most should be borrowed from the library. This book, however, deserves a permanent spot on your shelf. Sendak's best.\n"
          ],
          "name": "stdout"
        }
      ]
    },
    {
      "cell_type": "code",
      "metadata": {
        "id": "HQU6-_5wJi2J"
      },
      "source": [
        "import nltk\r\n",
        "from nltk.corpus import stopwords\r\n",
        "from nltk.stem import PorterStemmer\r\n",
        "from nltk.stem.wordnet import WordNetLemmatizer"
      ],
      "execution_count": null,
      "outputs": []
    },
    {
      "cell_type": "code",
      "metadata": {
        "colab": {
          "base_uri": "https://localhost:8080/"
        },
        "id": "rhDzv4WwJ1qh",
        "outputId": "ffe48d73-28f3-4fd0-84e1-0cd71f6db30c"
      },
      "source": [
        "nltk.download('stopwords')"
      ],
      "execution_count": null,
      "outputs": [
        {
          "output_type": "stream",
          "text": [
            "[nltk_data] Downloading package stopwords to /root/nltk_data...\n",
            "[nltk_data]   Unzipping corpora/stopwords.zip.\n"
          ],
          "name": "stdout"
        },
        {
          "output_type": "execute_result",
          "data": {
            "text/plain": [
              "True"
            ]
          },
          "metadata": {
            "tags": []
          },
          "execution_count": 16
        }
      ]
    },
    {
      "cell_type": "code",
      "metadata": {
        "id": "1u-R55OgJ72I"
      },
      "source": [
        "stop=set(stopwords.words('english')) #set of stopwords\r\n",
        "\r\n",
        "sno=nltk.stem.SnowballStemmer('english') #intialising snowball stemmer"
      ],
      "execution_count": null,
      "outputs": []
    },
    {
      "cell_type": "code",
      "metadata": {
        "id": "jRZ62ER7KMG4"
      },
      "source": [
        "#funtion to clean htmal tags\r\n",
        "def cleanhtml(sentence):\r\n",
        "  cleanr=re.compile('<.*?>')\r\n",
        "  cleantext=re.sub(cleanr,' ',sentence)\r\n",
        "  return cleantext\r\n",
        "\r\n",
        "#function to clean punctuations\r\n",
        "\r\n",
        "def cleanpunc(sentence):\r\n",
        "  cleaned=re.sub(r'[?|!|\\'|\"|#]',r'',sentence)\r\n",
        "  cleaned=re.sub(r'[.|,|(|)|\\|/]',r'',cleaned)\r\n",
        "  return cleaned"
      ],
      "execution_count": null,
      "outputs": []
    },
    {
      "cell_type": "code",
      "metadata": {
        "colab": {
          "base_uri": "https://localhost:8080/"
        },
        "id": "8Lg91Xi1Lq7n",
        "outputId": "709f3c83-4c32-487b-afd5-35576ec2f4a9"
      },
      "source": [
        "print(stop)\r\n",
        "print(sno.stem('tasty'))"
      ],
      "execution_count": null,
      "outputs": [
        {
          "output_type": "stream",
          "text": [
            "{'just', 'it', 'theirs', 'between', \"hasn't\", 'won', 're', 'than', \"wasn't\", 'should', 'isn', 'an', 'these', 'don', 'if', 'same', 'o', 'and', 'a', 'for', 'yours', 'be', 'then', 'mightn', 'hers', 'he', \"you'll\", 'at', \"haven't\", \"hadn't\", 'what', 'as', 'shan', 'its', 'did', 'with', 'to', 'up', 'haven', 'myself', 've', 'were', 'of', 'has', 'd', 'all', 'wouldn', 'our', 'once', 'weren', 'll', 'other', 'yourself', 'shouldn', 'ours', 'hasn', 'until', 'their', \"wouldn't\", 'wasn', 'no', 'very', 'him', 'here', 'her', 'will', 'my', 'his', 'against', 'where', 'hadn', \"aren't\", 'itself', 'ain', 'again', 'himself', 'are', 'there', 'how', 'had', 'but', \"that'll\", 'm', \"mightn't\", \"shouldn't\", 'which', \"weren't\", 'over', 'this', 'am', 'when', 't', \"mustn't\", 'because', 'or', \"doesn't\", 'does', 'been', 'in', 'whom', 'who', 'themselves', 'why', 'further', \"couldn't\", 'can', \"isn't\", \"should've\", \"it's\", 'such', 'is', \"she's\", 'down', 'on', 'off', \"won't\", 'aren', 'they', \"didn't\", 'below', 's', \"you've\", 'each', 'needn', 'too', 'didn', 'herself', 'through', 'after', 'mustn', 'into', 'more', 'we', 'that', 'was', 'you', 'not', 'under', 'nor', 'so', 'do', \"needn't\", 'ourselves', 'few', 'having', 'yourselves', 'from', \"don't\", 'about', 'before', \"you're\", 'she', 'above', 'me', 'i', 'both', 'some', 'own', 'those', 'the', 'out', 'by', \"you'd\", 'have', 'only', 'while', 'any', 'your', 'most', 'doing', 'during', 'y', 'them', 'being', 'ma', 'now', 'doesn', \"shan't\", 'couldn'}\n",
            "tasti\n"
          ],
          "name": "stdout"
        }
      ]
    },
    {
      "cell_type": "code",
      "metadata": {
        "id": "v-mss9M7LvEs"
      },
      "source": [
        "#Code for implementing step-by-step the checks mentioned in the pre-processing phase\r\n",
        "# this code takes a while to run as it needs to run on 500k sentences.\r\n",
        "i=0\r\n",
        "final_string=[]\r\n",
        "all_positive_words=[]\r\n",
        "all_negetive_words=[]\r\n",
        "str1=''\r\n",
        "s=''\r\n",
        "for sent in final['Text'].values:\r\n",
        "  filtered_sentence=[]\r\n",
        "  sent=cleanhtml(sent)\r\n",
        "  for w in sent.split():\r\n",
        "    for cleanword in cleanpunc(w).split():\r\n",
        "      if ((cleanword.isalpha()) & (len(cleanword)>2)):\r\n",
        "        if (cleanword.islower() not in stop):\r\n",
        "          s=(sno.stem(cleanword.lower()))\r\n",
        "          filtered_sentence.append(s)\r\n",
        "          if (final['Score'].values)[i]=='positive':\r\n",
        "            all_positive_words.append(s)\r\n",
        "          if (final['Score'].values)[i]=='negetive':\r\n",
        "            all_negetive_words.append(s)\r\n",
        "        else:\r\n",
        "          continue\r\n",
        "      else:\r\n",
        "        continue\r\n",
        "  str1=' '.join(filtered_sentence)\r\n",
        "  final_string.append(str1)\r\n",
        "  i+=1"
      ],
      "execution_count": null,
      "outputs": []
    },
    {
      "cell_type": "code",
      "metadata": {
        "id": "eiaOaVYbL6ic"
      },
      "source": [
        "final['CleanText']=final_string\r\n"
      ],
      "execution_count": null,
      "outputs": []
    },
    {
      "cell_type": "code",
      "metadata": {
        "colab": {
          "base_uri": "https://localhost:8080/",
          "height": 145
        },
        "id": "w2O7ZEvMMb2a",
        "outputId": "2a96ac65-ca11-4593-a78b-d52ae8bca2cd"
      },
      "source": [
        "final.head(2)"
      ],
      "execution_count": null,
      "outputs": [
        {
          "output_type": "execute_result",
          "data": {
            "text/html": [
              "<div>\n",
              "<style scoped>\n",
              "    .dataframe tbody tr th:only-of-type {\n",
              "        vertical-align: middle;\n",
              "    }\n",
              "\n",
              "    .dataframe tbody tr th {\n",
              "        vertical-align: top;\n",
              "    }\n",
              "\n",
              "    .dataframe thead th {\n",
              "        text-align: right;\n",
              "    }\n",
              "</style>\n",
              "<table border=\"1\" class=\"dataframe\">\n",
              "  <thead>\n",
              "    <tr style=\"text-align: right;\">\n",
              "      <th></th>\n",
              "      <th>Id</th>\n",
              "      <th>ProductId</th>\n",
              "      <th>UserId</th>\n",
              "      <th>ProfileName</th>\n",
              "      <th>HelpfulnessNumerator</th>\n",
              "      <th>HelpfulnessDenominator</th>\n",
              "      <th>Score</th>\n",
              "      <th>Time</th>\n",
              "      <th>Summary</th>\n",
              "      <th>Text</th>\n",
              "      <th>CleanText</th>\n",
              "    </tr>\n",
              "  </thead>\n",
              "  <tbody>\n",
              "    <tr>\n",
              "      <th>138706</th>\n",
              "      <td>150524</td>\n",
              "      <td>0006641040</td>\n",
              "      <td>ACITT7DI6IDDL</td>\n",
              "      <td>shari zychinski</td>\n",
              "      <td>0</td>\n",
              "      <td>0</td>\n",
              "      <td>positive</td>\n",
              "      <td>939340800</td>\n",
              "      <td>EVERY book is educational</td>\n",
              "      <td>this witty little book makes my son laugh at l...</td>\n",
              "      <td>this witti littl book make son laugh loud reci...</td>\n",
              "    </tr>\n",
              "    <tr>\n",
              "      <th>138688</th>\n",
              "      <td>150506</td>\n",
              "      <td>0006641040</td>\n",
              "      <td>A2IW4PEEKO2R0U</td>\n",
              "      <td>Tracy</td>\n",
              "      <td>1</td>\n",
              "      <td>1</td>\n",
              "      <td>positive</td>\n",
              "      <td>1194739200</td>\n",
              "      <td>Love the book, miss the hard cover version</td>\n",
              "      <td>I grew up reading these Sendak books, and watc...</td>\n",
              "      <td>grew read these sendak book and watch the real...</td>\n",
              "    </tr>\n",
              "  </tbody>\n",
              "</table>\n",
              "</div>"
            ],
            "text/plain": [
              "            Id  ...                                          CleanText\n",
              "138706  150524  ...  this witti littl book make son laugh loud reci...\n",
              "138688  150506  ...  grew read these sendak book and watch the real...\n",
              "\n",
              "[2 rows x 11 columns]"
            ]
          },
          "metadata": {
            "tags": []
          },
          "execution_count": 22
        }
      ]
    },
    {
      "cell_type": "code",
      "metadata": {
        "id": "az2mWDyxP9n7"
      },
      "source": [
        "final['Time']=pd.to_datetime(final['Time'],unit='s')\r\n",
        "final=final.sort_values('Time',axis=0,ascending=True,inplace=False,kind='quicksort',na_position='last')"
      ],
      "execution_count": null,
      "outputs": []
    },
    {
      "cell_type": "code",
      "metadata": {
        "colab": {
          "base_uri": "https://localhost:8080/"
        },
        "id": "dn1VskJRQXs4",
        "outputId": "51af8d76-cd5d-40df-bdd0-a6be21bcb04a"
      },
      "source": [
        "final.shape"
      ],
      "execution_count": null,
      "outputs": [
        {
          "output_type": "execute_result",
          "data": {
            "text/plain": [
              "(364171, 11)"
            ]
          },
          "metadata": {
            "tags": []
          },
          "execution_count": 24
        }
      ]
    },
    {
      "cell_type": "code",
      "metadata": {
        "id": "0O6jAjjEQYkw"
      },
      "source": [
        "final_p=final[final['Score']=='positive'].sample(n=5000)\r\n",
        "final_n=final[final['Score']=='negetive'].sample(n=5000)\r\n",
        "final=pd.concat([final_p,final_n])"
      ],
      "execution_count": null,
      "outputs": []
    },
    {
      "cell_type": "code",
      "metadata": {
        "colab": {
          "base_uri": "https://localhost:8080/"
        },
        "id": "q0pV2NzAQvrI",
        "outputId": "e027d0de-c90e-413e-b290-b8db5bbcd076"
      },
      "source": [
        "!pip install scikit-plot"
      ],
      "execution_count": null,
      "outputs": [
        {
          "output_type": "stream",
          "text": [
            "Collecting scikit-plot\n",
            "  Downloading https://files.pythonhosted.org/packages/7c/47/32520e259340c140a4ad27c1b97050dd3254fdc517b1d59974d47037510e/scikit_plot-0.3.7-py3-none-any.whl\n",
            "Requirement already satisfied: scipy>=0.9 in /usr/local/lib/python3.6/dist-packages (from scikit-plot) (1.4.1)\n",
            "Requirement already satisfied: joblib>=0.10 in /usr/local/lib/python3.6/dist-packages (from scikit-plot) (1.0.0)\n",
            "Requirement already satisfied: scikit-learn>=0.18 in /usr/local/lib/python3.6/dist-packages (from scikit-plot) (0.22.2.post1)\n",
            "Requirement already satisfied: matplotlib>=1.4.0 in /usr/local/lib/python3.6/dist-packages (from scikit-plot) (3.2.2)\n",
            "Requirement already satisfied: numpy>=1.13.3 in /usr/local/lib/python3.6/dist-packages (from scipy>=0.9->scikit-plot) (1.19.5)\n",
            "Requirement already satisfied: kiwisolver>=1.0.1 in /usr/local/lib/python3.6/dist-packages (from matplotlib>=1.4.0->scikit-plot) (1.3.1)\n",
            "Requirement already satisfied: cycler>=0.10 in /usr/local/lib/python3.6/dist-packages (from matplotlib>=1.4.0->scikit-plot) (0.10.0)\n",
            "Requirement already satisfied: python-dateutil>=2.1 in /usr/local/lib/python3.6/dist-packages (from matplotlib>=1.4.0->scikit-plot) (2.8.1)\n",
            "Requirement already satisfied: pyparsing!=2.0.4,!=2.1.2,!=2.1.6,>=2.0.1 in /usr/local/lib/python3.6/dist-packages (from matplotlib>=1.4.0->scikit-plot) (2.4.7)\n",
            "Requirement already satisfied: six in /usr/local/lib/python3.6/dist-packages (from cycler>=0.10->matplotlib>=1.4.0->scikit-plot) (1.15.0)\n",
            "Installing collected packages: scikit-plot\n",
            "Successfully installed scikit-plot-0.3.7\n"
          ],
          "name": "stdout"
        }
      ]
    },
    {
      "cell_type": "code",
      "metadata": {
        "id": "tt-z0XL1Q3VP"
      },
      "source": [
        "from sklearn.model_selection import cross_val_score\r\n",
        "import scikitplot as skplt\r\n",
        "from scikitplot.metrics import plot_confusion_matrix\r\n",
        "import warnings\r\n",
        "warnings.filterwarnings('ignore')\r\n",
        "from sklearn.metrics import f1_score\r\n",
        "from sklearn.metrics import roc_auc_score\r\n",
        "\r\n"
      ],
      "execution_count": null,
      "outputs": []
    },
    {
      "cell_type": "code",
      "metadata": {
        "id": "49TaVmzPRXru"
      },
      "source": [
        "X=final['CleanText']\r\n",
        "y=final['Score']"
      ],
      "execution_count": null,
      "outputs": []
    },
    {
      "cell_type": "code",
      "metadata": {
        "id": "q73nwxY7Rd-m"
      },
      "source": [
        "X_train,X_test,y_train,y_test=train_test_split(X,y,test_size=0.3,stratify=y,random_state=42)"
      ],
      "execution_count": null,
      "outputs": []
    },
    {
      "cell_type": "markdown",
      "metadata": {
        "id": "Hh6Z7VgKSGNu"
      },
      "source": [
        "## **SVM with SGD Classifier**"
      ]
    },
    {
      "cell_type": "markdown",
      "metadata": {
        "id": "PtPNQuKDSKh3"
      },
      "source": [
        "## **Training Model**"
      ]
    },
    {
      "cell_type": "code",
      "metadata": {
        "id": "HVA4W5_-RrRd"
      },
      "source": [
        "from sklearn.linear_model import SGDClassifier\r\n",
        "from sklearn.calibration import CalibratedClassifierCV\r\n",
        "import sklearn.metrics as metrics\r\n",
        "\r\n",
        "def sgd_classifierl1(X_train,y_train,X_test,y_test):\r\n",
        "  alpha=[0.00001, 0.00005, 0.0001, 0.001, 0.01, 0.1, 1, 10, 100]\r\n",
        " \r\n",
        "  cv_scores=[]\r\n",
        "  for i in alpha:\r\n",
        "    m=SGDClassifier(alpha=i,penalty='l1',loss='hinge',random_state=42)\r\n",
        "    clf=CalibratedClassifierCV(base_estimator=m,cv=None)\r\n",
        "    clf.fit(X_train,y_train)\r\n",
        "    scores=cross_val_score(clf,X_train,y_train,cv=10,scoring='roc_auc')\r\n",
        "    cv_scores.append(scores.mean())\r\n",
        "    optimal_alpha=alpha[cv_scores.index(max(cv_scores))]\r\n",
        "\r\n",
        "  plt.plot(alpha,cv_scores,label='Train AUC')\r\n",
        "  plt.xlabel('alpha')\r\n",
        "  plt.ylabel('Area under ROC curve')\r\n",
        "  plt.title('AUC vs Hyper parameter')\r\n",
        "  plt.legend(loc='best')\r\n",
        "  plt.grid()\r\n",
        "  plt.show()\r\n",
        "\r\n",
        "  fpr,tpr,threshold=metrics.roc_curve(y_test,clf.predict_proba(X_test)[:,1],pos_label='positive')\r\n",
        "  auc=metrics.auc(fpr,tpr)\r\n",
        "  print(f'optimal alpha is {optimal_alpha} with best roc score {auc}')\r\n",
        "  return optimal_alpha\r\n"
      ],
      "execution_count": null,
      "outputs": []
    },
    {
      "cell_type": "code",
      "metadata": {
        "id": "7GnqTLQAjHUc"
      },
      "source": [
        "def sgd_classifierl2(X_train,y_train,X_test,y_test):\r\n",
        "  alpha=[10**-4,10**-2,10**0,10**2,10**4]\r\n",
        " \r\n",
        "  cv_scores=[]\r\n",
        "  for i in alpha:\r\n",
        "    m=SGDClassifier(alpha=i,penalty='l2',loss='hinge',random_state=42)\r\n",
        "    clf=CalibratedClassifierCV(base_estimator=m,cv=None)\r\n",
        "    clf.fit(X_train,y_train)\r\n",
        "    scores=cross_val_score(clf,X_train,y_train,cv=10,scoring='roc_auc')\r\n",
        "    cv_scores.append(scores.mean())\r\n",
        "    optimal_alpha=alpha[cv_scores.index(max(cv_scores))]\r\n",
        "\r\n",
        "  plt.plot(alpha,cv_scores,label='Train AUC')\r\n",
        "  plt.xlabel('alpha')\r\n",
        "  plt.ylabel('Area under ROC curve')\r\n",
        "  plt.title('AUC vs Hyper parameter')\r\n",
        "  plt.legend(loc='best')\r\n",
        "  plt.grid()\r\n",
        "  plt.show()\r\n",
        "\r\n",
        "  fpr,tpr,threshold=metrics.roc_curve(y_test,clf.predict_proba(X_test)[:,1],pos_label='positive')\r\n",
        "  auc=metrics.auc(fpr,tpr)\r\n",
        "  print(f'optimal alpha is {optimal_alpha} with best roc score {auc}')\r\n",
        "  return optimal_alpha\r\n"
      ],
      "execution_count": null,
      "outputs": []
    },
    {
      "cell_type": "markdown",
      "metadata": {
        "id": "eTas1qa2fClS"
      },
      "source": [
        "## **Testing Model**"
      ]
    },
    {
      "cell_type": "markdown",
      "metadata": {
        "id": "Hn5tQaY_fx91"
      },
      "source": [
        ""
      ]
    },
    {
      "cell_type": "code",
      "metadata": {
        "id": "ork96c8jfCA_"
      },
      "source": [
        "from sklearn.metrics import  roc_auc_score,f1_score,accuracy_score,hamming_loss\r\n",
        "def testingmodel_l1(X_train,X_test,y_train,y_test,optimal_alpha):\r\n",
        "  m=SGDClassifier(alpha=optimal_alpha,penalty='l1',loss='hinge',random_state=42)\r\n",
        "  clf=CalibratedClassifierCV(m,method='sigmoid')\r\n",
        "  clf.fit(X_train,y_train)\r\n",
        "  pred=clf.predict(X_test)\r\n",
        "  \r\n",
        "  print('Test data report')\r\n",
        "  print('Best alpha',optimal_alpha)\r\n",
        "  skplt.metrics.plot_confusion_matrix(y_test,pred)\r\n",
        "  plt.show()\r\n",
        "  print(\"macro f1 score for data :\",metrics.f1_score(y_test, pred, average = 'macro'))\r\n",
        "  print(\"micro f1 scoore for data:\",metrics.f1_score(y_test, pred, average = 'micro'))\r\n",
        "  print(\"hamming loss for data:\",metrics.hamming_loss(y_test,pred))\r\n",
        "  print(\"Precision recall report for data:\\n\",metrics.classification_report(y_test, pred))\r\n",
        "\r\n",
        "\r\n",
        "  fpr,tpr,threshold=metrics.roc_curve(y_test,clf.predict_proba(X_test)[:,1],pos_label='positive')\r\n",
        "  fpr1,tpr1,threshold1=metrics.roc_curve(y_train,clf.predict_proba(X_train)[:,1],pos_label='positive')\r\n",
        "  auc=metrics.auc(fpr,tpr)\r\n",
        "  auc1=metrics.auc(fpr1,tpr1)\r\n",
        "\r\n",
        "  print('test AUC',auc)\r\n",
        "  plt.title('ROC curve')\r\n",
        "  plt.plot(fpr,tpr,label='test roc AUC='+str(roc_auc_score(y_test,clf.predict_proba(X_test)[:,1])))\r\n",
        "  plt.plot(fpr1,tpr1,label='Train roc AUC='+str(roc_auc_score(y_train,clf.predict_proba(X_train)[:,1])))\r\n",
        "  plt.legend(['TESt data','Train data'],loc='best')\r\n",
        "  plt.plot([0,1],[0,1],'r--')\r\n",
        "  plt.xlim([0,1])\r\n",
        "  plt.ylim([0,1])\r\n",
        "  plt.xlabel('FPR')\r\n",
        "  plt.ylabel('TPR')\r\n",
        "  plt.show()"
      ],
      "execution_count": null,
      "outputs": []
    },
    {
      "cell_type": "code",
      "metadata": {
        "id": "T5Qi4n-3hzky"
      },
      "source": [
        "from sklearn.metrics import  roc_auc_score,f1_score,accuracy_score,hamming_loss\r\n",
        "def testingmodel_l2(X_train,X_test,y_train,y_test,optimal_alpha):\r\n",
        "  m=SGDClassifier(alpha=optimal_alpha,penalty='l2',loss='hinge',random_state=42)\r\n",
        "  clf=CalibratedClassifierCV(m,method='sigmoid')\r\n",
        "  clf.fit(X_train,y_train)\r\n",
        "  pred=clf.predict(X_test)\r\n",
        "  \r\n",
        "  print('Test data report')\r\n",
        "  print('Best alpha',optimal_alpha)\r\n",
        "  skplt.metrics.plot_confusion_matrix(y_test,pred)\r\n",
        "  plt.show()\r\n",
        "  print(\"macro f1 score for data :\",metrics.f1_score(y_test, pred, average = 'macro'))\r\n",
        "  print(\"micro f1 scoore for data:\",metrics.f1_score(y_test, pred, average = 'micro'))\r\n",
        "  print(\"hamming loss for data:\",metrics.hamming_loss(y_test,pred))\r\n",
        "  print(\"Precision recall report for data:\\n\",metrics.classification_report(y_test, pred))\r\n",
        "\r\n",
        "\r\n",
        "  fpr,tpr,threshold=metrics.roc_curve(y_test,clf.predict_proba(X_test)[:,1],pos_label='positive')\r\n",
        "  fpr1,tpr1,threshold1=metrics.roc_curve(y_train,clf.predict_proba(X_train)[:,1],pos_label='positive')\r\n",
        "  auc=metrics.auc(fpr,tpr)\r\n",
        "  auc1=metrics.auc(fpr1,tpr1)\r\n",
        "\r\n",
        "  print('test AUC',auc)\r\n",
        "  plt.title('ROC curve')\r\n",
        "  plt.plot(fpr,tpr,label='test roc AUC=' +str(roc_auc_score(y_test,clf.predict_proba(X_test)[:,1])))\r\n",
        "  plt.plot(fpr1,tpr1,label='Train roc AUC=' +str(roc_auc_score(y_train,clf.predict_proba(X_train)[:,1])))\r\n",
        "  plt.legend(['TESt data','Train data'],loc='best')\r\n",
        "  plt.plot([0,1],[0,1],'r--')\r\n",
        "  plt.xlim([0,1])\r\n",
        "  plt.ylim([0,1])\r\n",
        "  plt.xlabel('FPR')\r\n",
        "  plt.ylabel('TPR')\r\n",
        "  plt.show()"
      ],
      "execution_count": null,
      "outputs": []
    },
    {
      "cell_type": "markdown",
      "metadata": {
        "id": "jznqHe8zh6jT"
      },
      "source": [
        "# Top 10 **features**"
      ]
    },
    {
      "cell_type": "code",
      "metadata": {
        "id": "2QqcUgQqiDAx"
      },
      "source": [
        "#Code Reference:https://stackoverflow.com/questions/11116697/how-to-get-most-informative-features-for-scikit-learn-classifiers\r\n",
        "\r\n",
        "def show_most_informative_features(vectorizer, clf, n=10):\r\n",
        "    feature_names = vectorizer.get_feature_names()\r\n",
        "    coefs_with_fns = sorted(zip(clf.coef_[0], feature_names))\r\n",
        "    top = zip(coefs_with_fns[:n], coefs_with_fns[:-(n + 1):-1])\r\n",
        "    for (coef_1, fn_1), (coef_2, fn_2) in top:\r\n",
        "        print (\"\\t%.4f\\t%-15s\\t\\t%.4f\\t%-15s\" % (coef_1, fn_1, coef_2, fn_2))"
      ],
      "execution_count": null,
      "outputs": []
    },
    {
      "cell_type": "markdown",
      "metadata": {
        "id": "kkpKWHYsiLy1"
      },
      "source": [
        "# Techiques of vectorization\r\n",
        "## **Bag Of Words (BOW)**"
      ]
    },
    {
      "cell_type": "code",
      "metadata": {
        "colab": {
          "base_uri": "https://localhost:8080/"
        },
        "id": "lg3_W7UhiORw",
        "outputId": "20b9aeb6-3378-4067-be14-563af67d544e"
      },
      "source": [
        "from sklearn.feature_extraction.text import CountVectorizer\r\n",
        "count_vect=CountVectorizer()\r\n",
        "bow_train=count_vect.fit_transform(X_train)\r\n",
        "bow_test=count_vect.transform(X_test)\r\n",
        "\r\n",
        "print('Train data shape',bow_train.shape)\r\n",
        "print('Test data shape',bow_test.shape)"
      ],
      "execution_count": null,
      "outputs": [
        {
          "output_type": "stream",
          "text": [
            "Train data shape (7000, 12818)\n",
            "Test data shape (3000, 12818)\n"
          ],
          "name": "stdout"
        }
      ]
    },
    {
      "cell_type": "code",
      "metadata": {
        "id": "DUf6PbyhinXd"
      },
      "source": [
        "#normalize data\r\n",
        "from sklearn.preprocessing import StandardScaler\r\n",
        "sc=StandardScaler(with_mean=False)\r\n",
        "bow_train=sc.fit_transform(bow_train)\r\n",
        "bow_test=sc.transform(bow_test)\r\n"
      ],
      "execution_count": null,
      "outputs": []
    },
    {
      "cell_type": "code",
      "metadata": {
        "colab": {
          "base_uri": "https://localhost:8080/",
          "height": 329
        },
        "id": "kGOtGUITi8oM",
        "outputId": "bc9b4653-7b9d-4cef-f197-b54ef95a37f5"
      },
      "source": [
        "sgd_classifierl1(bow_train,y_train,bow_test,y_test)"
      ],
      "execution_count": null,
      "outputs": [
        {
          "output_type": "display_data",
          "data": {
            "image/png": "[encoded data removed]",
            "text/plain": [
              "<Figure size 432x288 with 1 Axes>"
            ]
          },
          "metadata": {
            "tags": []
          }
        },
        {
          "output_type": "stream",
          "text": [
            "optimal alpha is 0.001 with best roc score 0.5\n"
          ],
          "name": "stdout"
        },
        {
          "output_type": "execute_result",
          "data": {
            "text/plain": [
              "0.001"
            ]
          },
          "metadata": {
            "tags": []
          },
          "execution_count": 37
        }
      ]
    },
    {
      "cell_type": "code",
      "metadata": {
        "colab": {
          "base_uri": "https://localhost:8080/",
          "height": 329
        },
        "id": "UcAJcA2FjaTr",
        "outputId": "965547d2-7772-4ad9-8774-a6421aaa8c05"
      },
      "source": [
        "sgd_classifierl2(bow_train,y_train,bow_test,y_test)"
      ],
      "execution_count": null,
      "outputs": [
        {
          "output_type": "display_data",
          "data": {
            "image/png": "[encoded data removed]",
            "text/plain": [
              "<Figure size 432x288 with 1 Axes>"
            ]
          },
          "metadata": {
            "tags": []
          }
        },
        {
          "output_type": "stream",
          "text": [
            "optimal alpha is 1 with best roc score 0.9040404444444445\n"
          ],
          "name": "stdout"
        },
        {
          "output_type": "execute_result",
          "data": {
            "text/plain": [
              "1"
            ]
          },
          "metadata": {
            "tags": []
          },
          "execution_count": 38
        }
      ]
    },
    {
      "cell_type": "code",
      "metadata": {
        "colab": {
          "base_uri": "https://localhost:8080/",
          "height": 845
        },
        "id": "4HMxxw4osvFq",
        "outputId": "58eb97fa-2375-4913-8f74-c3972ab9ccc2"
      },
      "source": [
        "testingmodel_l2(bow_train,bow_test,y_train,y_test,optimal_alpha=1)"
      ],
      "execution_count": null,
      "outputs": [
        {
          "output_type": "stream",
          "text": [
            "Test data report\n",
            "Best alpha 1\n"
          ],
          "name": "stdout"
        },
        {
          "output_type": "display_data",
          "data": {
            "image/png": "[encoded data removed]",
            "text/plain": [
              "<Figure size 432x288 with 2 Axes>"
            ]
          },
          "metadata": {
            "tags": []
          }
        },
        {
          "output_type": "stream",
          "text": [
            "macro f1 score for data : 0.8496618391412791\n",
            "micro f1 scoore for data: 0.8496666666666668\n",
            "hamming loss for data: 0.15033333333333335\n",
            "Precision recall report for data:\n",
            "               precision    recall  f1-score   support\n",
            "\n",
            "    negetive       0.85      0.86      0.85      1500\n",
            "    positive       0.85      0.84      0.85      1500\n",
            "\n",
            "    accuracy                           0.85      3000\n",
            "   macro avg       0.85      0.85      0.85      3000\n",
            "weighted avg       0.85      0.85      0.85      3000\n",
            "\n",
            "test AUC 0.9194440000000002\n"
          ],
          "name": "stdout"
        },
        {
          "output_type": "display_data",
          "data": {
            "image/png": "[encoded data removed]",
            "text/plain": [
              "<Figure size 432x288 with 1 Axes>"
            ]
          },
          "metadata": {
            "tags": []
          }
        }
      ]
    },
    {
      "cell_type": "code",
      "metadata": {
        "colab": {
          "base_uri": "https://localhost:8080/",
          "height": 845
        },
        "id": "_ZqcGh6ns_JU",
        "outputId": "9b42a442-af39-4983-e90a-37ff6c2309af"
      },
      "source": [
        "testingmodel_l1(bow_train,bow_test,y_train,y_test,optimal_alpha=0.001)"
      ],
      "execution_count": null,
      "outputs": [
        {
          "output_type": "stream",
          "text": [
            "Test data report\n",
            "Best alpha 0.001\n"
          ],
          "name": "stdout"
        },
        {
          "output_type": "display_data",
          "data": {
            "image/png": "[encoded data removed]",
            "text/plain": [
              "<Figure size 432x288 with 2 Axes>"
            ]
          },
          "metadata": {
            "tags": []
          }
        },
        {
          "output_type": "stream",
          "text": [
            "macro f1 score for data : 0.7963315003168361\n",
            "micro f1 scoore for data: 0.7963333333333334\n",
            "hamming loss for data: 0.20366666666666666\n",
            "Precision recall report for data:\n",
            "               precision    recall  f1-score   support\n",
            "\n",
            "    negetive       0.79      0.80      0.80      1500\n",
            "    positive       0.80      0.79      0.80      1500\n",
            "\n",
            "    accuracy                           0.80      3000\n",
            "   macro avg       0.80      0.80      0.80      3000\n",
            "weighted avg       0.80      0.80      0.80      3000\n",
            "\n",
            "test AUC 0.8591764444444444\n"
          ],
          "name": "stdout"
        },
        {
          "output_type": "display_data",
          "data": {
            "image/png": "[encoded data removed]",
            "text/plain": [
              "<Figure size 432x288 with 1 Axes>"
            ]
          },
          "metadata": {
            "tags": []
          }
        }
      ]
    },
    {
      "cell_type": "code",
      "metadata": {
        "colab": {
          "base_uri": "https://localhost:8080/"
        },
        "id": "R0WA0XBNJnkq",
        "outputId": "0eecebb5-a6f1-4c47-cefa-77e57dddc916"
      },
      "source": [
        "#Top 10 important features of L1 regularization\r\n",
        "clf=SGDClassifier(alpha=0.001,loss='hinge', penalty='l1')\r\n",
        "clf.fit(bow_train,y_train)\r\n",
        "show_most_informative_features(count_vect,clf)"
      ],
      "execution_count": null,
      "outputs": [
        {
          "output_type": "stream",
          "text": [
            "\t-418.8832\tsnappl         \t\t437.2725\tpanko          \n",
            "\t-399.9204\tdiscontinuedrecal\t\t437.2725\tglutenwheat    \n",
            "\t-399.9204\townermanufactur\t\t437.2725\tbreadcrumb     \n",
            "\t-370.0416\tcontentcal     \t\t427.8854\tconsol         \n",
            "\t-370.0416\tdespis         \t\t427.8854\tarmor          \n",
            "\t-370.0416\tieinstead      \t\t408.1370\twayi           \n",
            "\t-370.0416\tpessimist      \t\t408.1370\tkickth         \n",
            "\t-370.0416\ttherenoth      \t\t373.5362\trinc           \n",
            "\t-299.5109\tovaeasi        \t\t361.5766\ttasier         \n",
            "\t-298.3662\tflipper        \t\t361.5766\tmorningstar    \n"
          ],
          "name": "stdout"
        }
      ]
    },
    {
      "cell_type": "code",
      "metadata": {
        "colab": {
          "base_uri": "https://localhost:8080/"
        },
        "id": "tWmMkqLDKzm-",
        "outputId": "77607f6c-ee0d-4b38-b444-e57c5feb68d8"
      },
      "source": [
        "clf1=SGDClassifier(alpha=1,loss='hinge', penalty='l2')\r\n",
        "clf1.fit(bow_train,y_train)\r\n",
        "show_most_informative_features(count_vect,clf1)"
      ],
      "execution_count": null,
      "outputs": [
        {
          "output_type": "stream",
          "text": [
            "\t-0.0690\tnot            \t\t0.0879\tgreat          \n",
            "\t-0.0684\tdisappoint     \t\t0.0799\tlove           \n",
            "\t-0.0408\twas            \t\t0.0558\tbest           \n",
            "\t-0.0390\tmoney          \t\t0.0499\tfavorit        \n",
            "\t-0.0380\tstale          \t\t0.0489\tdelici         \n",
            "\t-0.0373\tbad            \t\t0.0460\texcel          \n",
            "\t-0.0366\taw             \t\t0.0406\tgood           \n",
            "\t-0.0362\tterribl        \t\t0.0398\tperfect        \n",
            "\t-0.0362\tworst          \t\t0.0346\teasi           \n",
            "\t-0.0343\ttast           \t\t0.0339\tnice           \n"
          ],
          "name": "stdout"
        }
      ]
    },
    {
      "cell_type": "markdown",
      "metadata": {
        "id": "XuFXi6HXLT16"
      },
      "source": [
        "# TF-IDF"
      ]
    },
    {
      "cell_type": "code",
      "metadata": {
        "id": "toZhkkieLCCc"
      },
      "source": [
        "from sklearn.feature_extraction.text import TfidfVectorizer\r\n",
        "tfidf_vec=TfidfVectorizer(ngram_range=(1,2))\r\n",
        "tf_train=tfidf_vec.fit_transform(X_train)\r\n",
        "tf_test=tfidf_vec.transform(X_test)"
      ],
      "execution_count": null,
      "outputs": []
    },
    {
      "cell_type": "code",
      "metadata": {
        "id": "ekAxZxECN7Pp"
      },
      "source": [
        "#normalize data\r\n",
        "from sklearn.preprocessing import StandardScaler\r\n",
        "sc=StandardScaler(with_mean=False)\r\n",
        "tf_train=sc.fit_transform(tf_train)\r\n",
        "tf_test=sc.transform(tf_test)\r\n"
      ],
      "execution_count": null,
      "outputs": []
    },
    {
      "cell_type": "code",
      "metadata": {
        "colab": {
          "base_uri": "https://localhost:8080/",
          "height": 329
        },
        "id": "Ff0nyFNILwbj",
        "outputId": "ba70d5e7-64b4-4dcc-bf22-eeca5122f2ad"
      },
      "source": [
        "sgd_classifierl2(tf_train,y_train,tf_test,y_test)"
      ],
      "execution_count": null,
      "outputs": [
        {
          "output_type": "display_data",
          "data": {
            "image/png": "[encoded data removed]",
            "text/plain": [
              "<Figure size 432x288 with 1 Axes>"
            ]
          },
          "metadata": {
            "tags": []
          }
        },
        {
          "output_type": "stream",
          "text": [
            "optimal alpha is 1 with best roc score 0.9203702222222222\n"
          ],
          "name": "stdout"
        },
        {
          "output_type": "execute_result",
          "data": {
            "text/plain": [
              "1"
            ]
          },
          "metadata": {
            "tags": []
          },
          "execution_count": 52
        }
      ]
    },
    {
      "cell_type": "code",
      "metadata": {
        "colab": {
          "base_uri": "https://localhost:8080/",
          "height": 329
        },
        "id": "FYVycbnHME-H",
        "outputId": "bb2cb78b-851a-488f-a66d-c705757984c2"
      },
      "source": [
        "sgd_classifierl1(tf_train,y_train,tf_test,y_test)"
      ],
      "execution_count": null,
      "outputs": [
        {
          "output_type": "display_data",
          "data": {
            "image/png": "[encoded data removed]",
            "text/plain": [
              "<Figure size 432x288 with 1 Axes>"
            ]
          },
          "metadata": {
            "tags": []
          }
        },
        {
          "output_type": "stream",
          "text": [
            "optimal alpha is 0.01 with best roc score 0.5\n"
          ],
          "name": "stdout"
        },
        {
          "output_type": "execute_result",
          "data": {
            "text/plain": [
              "0.01"
            ]
          },
          "metadata": {
            "tags": []
          },
          "execution_count": 53
        }
      ]
    },
    {
      "cell_type": "code",
      "metadata": {
        "colab": {
          "base_uri": "https://localhost:8080/",
          "height": 845
        },
        "id": "nNOnJR8HMK9Q",
        "outputId": "2635809f-c95d-49f9-8316-be456e63705d"
      },
      "source": [
        "testingmodel_l1(tf_train,tf_test,y_train,y_test,optimal_alpha=0.01)"
      ],
      "execution_count": null,
      "outputs": [
        {
          "output_type": "stream",
          "text": [
            "Test data report\n",
            "Best alpha 0.01\n"
          ],
          "name": "stdout"
        },
        {
          "output_type": "display_data",
          "data": {
            "image/png": "[encoded data removed]",
            "text/plain": [
              "<Figure size 432x288 with 2 Axes>"
            ]
          },
          "metadata": {
            "tags": []
          }
        },
        {
          "output_type": "stream",
          "text": [
            "macro f1 score for data : 0.7059705970597059\n",
            "micro f1 scoore for data: 0.706\n",
            "hamming loss for data: 0.294\n",
            "Precision recall report for data:\n",
            "               precision    recall  f1-score   support\n",
            "\n",
            "    negetive       0.70      0.72      0.71      1500\n",
            "    positive       0.71      0.70      0.70      1500\n",
            "\n",
            "    accuracy                           0.71      3000\n",
            "   macro avg       0.71      0.71      0.71      3000\n",
            "weighted avg       0.71      0.71      0.71      3000\n",
            "\n",
            "test AUC 0.7235391111111111\n"
          ],
          "name": "stdout"
        },
        {
          "output_type": "display_data",
          "data": {
            "image/png": "[encoded data removed]",
            "text/plain": [
              "<Figure size 432x288 with 1 Axes>"
            ]
          },
          "metadata": {
            "tags": []
          }
        }
      ]
    },
    {
      "cell_type": "code",
      "metadata": {
        "colab": {
          "base_uri": "https://localhost:8080/",
          "height": 845
        },
        "id": "E80WNsLtMPNq",
        "outputId": "2e341c6d-c3cb-4aa0-c70b-60c84d4ded2a"
      },
      "source": [
        "testingmodel_l2(tf_train,tf_test,y_train,y_test,optimal_alpha=1)"
      ],
      "execution_count": null,
      "outputs": [
        {
          "output_type": "stream",
          "text": [
            "Test data report\n",
            "Best alpha 1\n"
          ],
          "name": "stdout"
        },
        {
          "output_type": "display_data",
          "data": {
            "image/png": "[encoded data removed]",
            "text/plain": [
              "<Figure size 432x288 with 2 Axes>"
            ]
          },
          "metadata": {
            "tags": []
          }
        },
        {
          "output_type": "stream",
          "text": [
            "macro f1 score for data : 0.8299972799564793\n",
            "micro f1 scoore for data: 0.83\n",
            "hamming loss for data: 0.17\n",
            "Precision recall report for data:\n",
            "               precision    recall  f1-score   support\n",
            "\n",
            "    negetive       0.83      0.83      0.83      1500\n",
            "    positive       0.83      0.83      0.83      1500\n",
            "\n",
            "    accuracy                           0.83      3000\n",
            "   macro avg       0.83      0.83      0.83      3000\n",
            "weighted avg       0.83      0.83      0.83      3000\n",
            "\n",
            "test AUC 0.9179484444444445\n"
          ],
          "name": "stdout"
        },
        {
          "output_type": "display_data",
          "data": {
            "image/png": "[encoded data removed]",
            "text/plain": [
              "<Figure size 432x288 with 1 Axes>"
            ]
          },
          "metadata": {
            "tags": []
          }
        }
      ]
    },
    {
      "cell_type": "code",
      "metadata": {
        "colab": {
          "base_uri": "https://localhost:8080/"
        },
        "id": "vON_8sNdM1xf",
        "outputId": "fb6b0914-42c1-4d9f-978d-2bc77b9706eb"
      },
      "source": [
        "#Top 10 important features of L1 regularization\r\n",
        "clf=SGDClassifier(alpha=0.01,loss='hinge', penalty='l1')\r\n",
        "clf.fit(tf_train,y_train)\r\n",
        "show_most_informative_features(tfidf_vec,clf)"
      ],
      "execution_count": null,
      "outputs": [
        {
          "output_type": "stream",
          "text": [
            "\t-222.5607\teasi mac       \t\t252.2714\twill readi     \n",
            "\t-222.5607\tkraft easi     \t\t252.2714\tweek veri      \n",
            "\t-222.5607\talfredo pleas  \t\t252.2714\twebsitei have  \n",
            "\t-222.5607\tamazon consum  \t\t252.2714\twebsitei       \n",
            "\t-222.5607\tand alfredo    \t\t252.2714\ttire buy       \n",
            "\t-222.5607\tani occas      \t\t252.2714\ttime hoursbut  \n",
            "\t-222.5607\tanyon grossli  \t\t252.2714\ttheir websitei \n",
            "\t-222.5607\tare portabl    \t\t252.2714\tthat room      \n",
            "\t-222.5607\tare turn       \t\t252.2714\troom brighten  \n",
            "\t-222.5607\tavail sever    \t\t252.2714\town herb       \n"
          ],
          "name": "stdout"
        }
      ]
    },
    {
      "cell_type": "code",
      "metadata": {
        "colab": {
          "base_uri": "https://localhost:8080/"
        },
        "id": "zX9pz99rNHuW",
        "outputId": "f119d6a6-45d8-4035-a37c-7c0ce4bf61cd"
      },
      "source": [
        "clf11=SGDClassifier(alpha=1,loss='hinge', penalty='l2')\r\n",
        "clf.fit(tf_train,y_train)\r\n",
        "show_most_informative_features(tfidf_vec,clf1)"
      ],
      "execution_count": null,
      "outputs": [
        {
          "output_type": "stream",
          "text": [
            "\t-0.0690\tand lather     \t\t0.0879\talso incorpor  \n",
            "\t-0.0684\tago while      \t\t0.0799\tand bold       \n",
            "\t-0.0408\tartifici want  \t\t0.0558\tact act        \n",
            "\t-0.0390\tand flat       \t\t0.0499\tall wonder     \n",
            "\t-0.0380\tappx ounc      \t\t0.0489\tagaini         \n",
            "\t-0.0373\tacclim         \t\t0.0460\tall own        \n",
            "\t-0.0366\taccept now     \t\t0.0406\talso cheaper   \n",
            "\t-0.0362\tare overlook   \t\t0.0398\tand see        \n",
            "\t-0.0362\tasthma         \t\t0.0346\talik           \n",
            "\t-0.0343\tare larger     \t\t0.0339\tand into       \n"
          ],
          "name": "stdout"
        }
      ]
    },
    {
      "cell_type": "markdown",
      "metadata": {
        "id": "G9SSej3eNpfB"
      },
      "source": [
        "# **WORD2VEC**"
      ]
    },
    {
      "cell_type": "code",
      "metadata": {
        "colab": {
          "base_uri": "https://localhost:8080/"
        },
        "id": "Bpg7aseVNbov",
        "outputId": "dbed8ac6-c7be-4c72-bb15-c53ff4340328"
      },
      "source": [
        "list_of_sent_train=[]\r\n",
        "for sent in X_train:\r\n",
        "  list_of_sent_train.append(sent.split())\r\n",
        "\r\n",
        "list_of_sent_test=[]\r\n",
        "for sent in X_test:\r\n",
        "  list_of_sent_test.append(sent.split())\r\n",
        "\r\n",
        "print(len(list_of_sent_train))\r\n",
        "print(len(list_of_sent_test))"
      ],
      "execution_count": null,
      "outputs": [
        {
          "output_type": "stream",
          "text": [
            "7000\n",
            "3000\n"
          ],
          "name": "stdout"
        }
      ]
    },
    {
      "cell_type": "code",
      "metadata": {
        "id": "01LPV_ZdR1le"
      },
      "source": [
        "import gensim\r\n",
        "w2v_model=gensim.models.Word2Vec(list_of_sent_train,min_count=5,size=50,workers=4)\r\n",
        "w2v_words=list(w2v_model.wv.vocab)"
      ],
      "execution_count": null,
      "outputs": []
    },
    {
      "cell_type": "code",
      "metadata": {
        "id": "DFobyUz2WR-U"
      },
      "source": [
        "def avgw2v(list_of_sent):\r\n",
        "  sent_vectors=[] #the avg-w2v each sentance /review is stored in list\r\n",
        "  for sent in list_of_sent:\r\n",
        "    sent_vec=np.zeros(50)\r\n",
        "    cnt_words=0\r\n",
        "    for word in sent:\r\n",
        "      if word in w2v_words:\r\n",
        "        vec=w2v_model.wv[word]\r\n",
        "        sent_vec+=vec\r\n",
        "        cnt_words +=1\r\n",
        "    if cnt_words!=0:\r\n",
        "      sent_vec /=cnt_words\r\n",
        "    sent_vectors.append(sent_vec)\r\n",
        "  print(len(sent_vectors[0]))\r\n",
        "  print(len(sent_vectors))\r\n",
        "  return np.array(sent_vectors)"
      ],
      "execution_count": null,
      "outputs": []
    },
    {
      "cell_type": "code",
      "metadata": {
        "colab": {
          "base_uri": "https://localhost:8080/"
        },
        "id": "JBdf74wFXvBD",
        "outputId": "619a1085-09ee-400b-e788-c6292ad16c91"
      },
      "source": [
        "train_avgw2v=avgw2v(list_of_sent_train)"
      ],
      "execution_count": null,
      "outputs": [
        {
          "output_type": "stream",
          "text": [
            "50\n",
            "7000\n"
          ],
          "name": "stdout"
        }
      ]
    },
    {
      "cell_type": "code",
      "metadata": {
        "colab": {
          "base_uri": "https://localhost:8080/"
        },
        "id": "PjRZVdLEYB3n",
        "outputId": "2777aea5-3db1-4de2-bf8e-9e83ffb7f7e9"
      },
      "source": [
        "test_avgw2v=avgw2v(list_of_sent_test)"
      ],
      "execution_count": null,
      "outputs": [
        {
          "output_type": "stream",
          "text": [
            "50\n",
            "3000\n"
          ],
          "name": "stdout"
        }
      ]
    },
    {
      "cell_type": "code",
      "metadata": {
        "id": "ASJluUxYaWla"
      },
      "source": [
        "from sklearn.preprocessing import StandardScaler\r\n",
        "sc=StandardScaler()\r\n",
        "train_avgw2v=sc.fit_transform(train_avgw2v)\r\n",
        "test_avgw2v=sc.transform(test_avgw2v)"
      ],
      "execution_count": null,
      "outputs": []
    },
    {
      "cell_type": "code",
      "metadata": {
        "colab": {
          "base_uri": "https://localhost:8080/",
          "height": 329
        },
        "id": "_mTvphpcZGqW",
        "outputId": "4c84ab59-072f-40ba-de25-bfc934793a17"
      },
      "source": [
        "sgd_classifierl2(train_avgw2v,y_train,test_avgw2v,y_test)"
      ],
      "execution_count": null,
      "outputs": [
        {
          "output_type": "display_data",
          "data": {
            "image/png": "[encoded data removed]",
            "text/plain": [
              "<Figure size 432x288 with 1 Axes>"
            ]
          },
          "metadata": {
            "tags": []
          }
        },
        {
          "output_type": "stream",
          "text": [
            "optimal alpha is 0.0001 with best roc score 0.7924786666666667\n"
          ],
          "name": "stdout"
        },
        {
          "output_type": "execute_result",
          "data": {
            "text/plain": [
              "0.0001"
            ]
          },
          "metadata": {
            "tags": []
          },
          "execution_count": 64
        }
      ]
    },
    {
      "cell_type": "code",
      "metadata": {
        "colab": {
          "base_uri": "https://localhost:8080/",
          "height": 329
        },
        "id": "uuACIDlAZycb",
        "outputId": "f6f91ffd-8dea-4a1b-fdff-7f835e01f20a"
      },
      "source": [
        "sgd_classifierl1(train_avgw2v,y_train,test_avgw2v,y_test)"
      ],
      "execution_count": null,
      "outputs": [
        {
          "output_type": "display_data",
          "data": {
            "image/png": "[encoded data removed]",
            "text/plain": [
              "<Figure size 432x288 with 1 Axes>"
            ]
          },
          "metadata": {
            "tags": []
          }
        },
        {
          "output_type": "stream",
          "text": [
            "optimal alpha is 0.0001 with best roc score 0.5\n"
          ],
          "name": "stdout"
        },
        {
          "output_type": "execute_result",
          "data": {
            "text/plain": [
              "0.0001"
            ]
          },
          "metadata": {
            "tags": []
          },
          "execution_count": 65
        }
      ]
    },
    {
      "cell_type": "code",
      "metadata": {
        "colab": {
          "base_uri": "https://localhost:8080/",
          "height": 845
        },
        "id": "mTnD8vbPZ9Sb",
        "outputId": "15fb2454-9909-4f21-dff3-e42841119bcf"
      },
      "source": [
        "testingmodel_l2(train_avgw2v,test_avgw2v,y_train,y_test,optimal_alpha=0.0001)"
      ],
      "execution_count": null,
      "outputs": [
        {
          "output_type": "stream",
          "text": [
            "Test data report\n",
            "Best alpha 0.0001\n"
          ],
          "name": "stdout"
        },
        {
          "output_type": "display_data",
          "data": {
            "image/png": "[encoded data removed]",
            "text/plain": [
              "<Figure size 432x288 with 2 Axes>"
            ]
          },
          "metadata": {
            "tags": []
          }
        },
        {
          "output_type": "stream",
          "text": [
            "macro f1 score for data : 0.773632233614202\n",
            "micro f1 scoore for data: 0.7736666666666666\n",
            "hamming loss for data: 0.22633333333333333\n",
            "Precision recall report for data:\n",
            "               precision    recall  f1-score   support\n",
            "\n",
            "    negetive       0.77      0.79      0.78      1500\n",
            "    positive       0.78      0.76      0.77      1500\n",
            "\n",
            "    accuracy                           0.77      3000\n",
            "   macro avg       0.77      0.77      0.77      3000\n",
            "weighted avg       0.77      0.77      0.77      3000\n",
            "\n",
            "test AUC 0.8596742222222222\n"
          ],
          "name": "stdout"
        },
        {
          "output_type": "display_data",
          "data": {
            "image/png": "[encoded data removed]",
            "text/plain": [
              "<Figure size 432x288 with 1 Axes>"
            ]
          },
          "metadata": {
            "tags": []
          }
        }
      ]
    },
    {
      "cell_type": "code",
      "metadata": {
        "colab": {
          "base_uri": "https://localhost:8080/",
          "height": 845
        },
        "id": "lcniF-poa9--",
        "outputId": "d3fb6432-3a26-4db0-8696-00b7e0ed0606"
      },
      "source": [
        "testingmodel_l1(train_avgw2v,test_avgw2v,y_train,y_test,optimal_alpha=0.001)"
      ],
      "execution_count": null,
      "outputs": [
        {
          "output_type": "stream",
          "text": [
            "Test data report\n",
            "Best alpha 0.001\n"
          ],
          "name": "stdout"
        },
        {
          "output_type": "display_data",
          "data": {
            "image/png": "[encoded data removed]",
            "text/plain": [
              "<Figure size 432x288 with 2 Axes>"
            ]
          },
          "metadata": {
            "tags": []
          }
        },
        {
          "output_type": "stream",
          "text": [
            "macro f1 score for data : 0.7808630393996248\n",
            "micro f1 scoore for data: 0.7810000000000001\n",
            "hamming loss for data: 0.219\n",
            "Precision recall report for data:\n",
            "               precision    recall  f1-score   support\n",
            "\n",
            "    negetive       0.77      0.81      0.79      1500\n",
            "    positive       0.80      0.76      0.78      1500\n",
            "\n",
            "    accuracy                           0.78      3000\n",
            "   macro avg       0.78      0.78      0.78      3000\n",
            "weighted avg       0.78      0.78      0.78      3000\n",
            "\n",
            "test AUC 0.8639862222222221\n"
          ],
          "name": "stdout"
        },
        {
          "output_type": "display_data",
          "data": {
            "image/png": "[encoded data removed]",
            "text/plain": [
              "<Figure size 432x288 with 1 Axes>"
            ]
          },
          "metadata": {
            "tags": []
          }
        }
      ]
    },
    {
      "cell_type": "markdown",
      "metadata": {
        "id": "TRnMukSCb6C_"
      },
      "source": [
        "## **TF-IDF W2V**"
      ]
    },
    {
      "cell_type": "code",
      "metadata": {
        "id": "mLDlMEgSbCWZ"
      },
      "source": [
        "#converting  a dictionary word as key and idf as value\r\n",
        "dictionary=dict(zip(tfidf_vec.get_feature_names(),list(tfidf_vec.idf_)))"
      ],
      "execution_count": null,
      "outputs": []
    },
    {
      "cell_type": "code",
      "metadata": {
        "id": "7La1NpwTcxhn"
      },
      "source": [
        "def tfidfw2v(list_of_sent):\r\n",
        "  tfidf_feat=tfidf_vec.get_feature_names()\r\n",
        "  tfidf_sent_vectors=[]\r\n",
        "  row=0\r\n",
        "  for sent in list_of_sent:\r\n",
        "    sent_vec=np.zeros(50)\r\n",
        "    weight_sum=0\r\n",
        "    for word in sent:\r\n",
        "      if word in w2v_words and word in tfidf_feat:\r\n",
        "        vec=w2v_model.wv[word]\r\n",
        "        #tf_idf = tf_idf_matrix[row, tfidf_feat.index(word)]\r\n",
        "        # to reduce the computation we are \r\n",
        "        #dictionary[word] = idf value of word in whole courpus\r\n",
        "         #sent.count(word) = tf valeus of word in this review\r\n",
        "        tf_idf=dictionary[word]*(sent.count(word)/len(sent))\r\n",
        "        sent_vec+=tf_idf\r\n",
        "        weight_sum+=tf_idf\r\n",
        "    \r\n",
        "    if weight_sum!=0:\r\n",
        "      sent_vec /=weight_sum\r\n",
        "    tfidf_sent_vectors.append(sent_vec)\r\n",
        "  \r\n",
        "  row+=1\r\n",
        "  print(len(tfidf_sent_vectors))\r\n",
        "  print(len(tfidf_sent_vectors[0]))\r\n",
        "  return np.array(tfidf_sent_vectors)"
      ],
      "execution_count": null,
      "outputs": []
    },
    {
      "cell_type": "code",
      "metadata": {
        "colab": {
          "base_uri": "https://localhost:8080/"
        },
        "id": "qojmwMUZffcK",
        "outputId": "4b693e94-ac22-4683-ef0e-7d67656ad450"
      },
      "source": [
        "train_tfidf=tfidfw2v(list_of_sent_train)"
      ],
      "execution_count": null,
      "outputs": [
        {
          "output_type": "stream",
          "text": [
            "7000\n",
            "50\n"
          ],
          "name": "stdout"
        }
      ]
    },
    {
      "cell_type": "code",
      "metadata": {
        "colab": {
          "base_uri": "https://localhost:8080/"
        },
        "id": "SLbs9B1ngGtF",
        "outputId": "c2244728-68d6-4770-8bf3-0673d7452cff"
      },
      "source": [
        "test_tfidf=tfidfw2v(list_of_sent_test)"
      ],
      "execution_count": null,
      "outputs": [
        {
          "output_type": "stream",
          "text": [
            "3000\n",
            "50\n"
          ],
          "name": "stdout"
        }
      ]
    },
    {
      "cell_type": "code",
      "metadata": {
        "id": "olSuu6Y8gdk2"
      },
      "source": [
        "from sklearn.preprocessing import StandardScaler\r\n",
        "sc=StandardScaler()\r\n",
        "train_tfidf=sc.fit_transform(train_tfidf)\r\n",
        "test_tfidf=sc.transform(test_tfidf)"
      ],
      "execution_count": null,
      "outputs": []
    },
    {
      "cell_type": "code",
      "metadata": {
        "id": "9mFDhfythXcW"
      },
      "source": [
        "sgd_classifierl2(train_tfidf,y_train,test_tfidf,y_test)"
      ],
      "execution_count": null,
      "outputs": []
    },
    {
      "cell_type": "code",
      "metadata": {
        "id": "yFPyFQN1l1u8"
      },
      "source": [
        "sgd_classifierl1(train_tfidf,y_train,test_tfidf,y_test)"
      ],
      "execution_count": null,
      "outputs": []
    },
    {
      "cell_type": "code",
      "metadata": {
        "id": "HdoSedvamObF"
      },
      "source": [
        "testingmodel_l1(train_tfidf,test_tfidf,y_train,y_test,optimal_alpha=1e-05)"
      ],
      "execution_count": null,
      "outputs": []
    },
    {
      "cell_type": "code",
      "metadata": {
        "id": "EAyziztAhXfn"
      },
      "source": [
        "from sklearn.svm import SVC"
      ],
      "execution_count": null,
      "outputs": []
    },
    {
      "cell_type": "code",
      "metadata": {
        "colab": {
          "base_uri": "https://localhost:8080/"
        },
        "id": "jfBlgMWd1oS3",
        "outputId": "7143349c-24a1-45cf-8824-2c4a8815054c"
      },
      "source": [
        "# Hyperparameter tuning :\r\n",
        "degree = [3, 4]\r\n",
        "C = [0.00001, 0.00005, 0.0001, 0.001, 0.01, 0.1, 1, 10, 100]\r\n",
        "test_scores = []\r\n",
        "train_scores = []\r\n",
        "i = 0\r\n",
        "for alpha in C:\r\n",
        "    for p in degree:\r\n",
        "        clf = SVC(C=alpha, kernel='rbf',  degree=p, probability=True, verbose=10)\r\n",
        "        clf.fit(bow_train, y_train)\r\n",
        "        scores = roc_auc_score(y_true=np.array(y_test), y_score=clf.predict_proba(bow_test)[:,1])\r\n",
        "        test_scores.append(scores)\r\n",
        "        scores = roc_auc_score(y_true=np.array(y_train), y_score=clf.predict_proba(bow_train)[:,1])\r\n",
        "        train_scores.append(scores)\r\n",
        "        print(\"test ROC_AUC Score : \", test_scores[i], \" Train ROC_AUC Score : \", train_scores[i], \"C : \", alpha, \" degree : \", p)\r\n",
        "        i += 1"
      ],
      "execution_count": null,
      "outputs": [
        {
          "output_type": "stream",
          "text": [
            "[LibSVM]test ROC_AUC Score :  0.5  Train ROC_AUC Score :  0.5 C :  1e-05  degree :  3\n",
            "[LibSVM]test ROC_AUC Score :  0.5  Train ROC_AUC Score :  0.5 C :  1e-05  degree :  4\n",
            "[LibSVM]test ROC_AUC Score :  0.5  Train ROC_AUC Score :  0.5 C :  5e-05  degree :  3\n",
            "[LibSVM]test ROC_AUC Score :  0.5  Train ROC_AUC Score :  0.5 C :  5e-05  degree :  4\n",
            "[LibSVM]test ROC_AUC Score :  0.5  Train ROC_AUC Score :  0.5 C :  0.0001  degree :  3\n",
            "[LibSVM]test ROC_AUC Score :  0.5  Train ROC_AUC Score :  0.5 C :  0.0001  degree :  4\n",
            "[LibSVM]test ROC_AUC Score :  0.5  Train ROC_AUC Score :  0.5 C :  0.001  degree :  3\n",
            "[LibSVM]test ROC_AUC Score :  0.5  Train ROC_AUC Score :  0.5 C :  0.001  degree :  4\n",
            "[LibSVM]test ROC_AUC Score :  0.5  Train ROC_AUC Score :  0.5 C :  0.01  degree :  3\n",
            "[LibSVM]test ROC_AUC Score :  0.5  Train ROC_AUC Score :  0.5 C :  0.01  degree :  4\n",
            "[LibSVM]test ROC_AUC Score :  0.6078211111111111  Train ROC_AUC Score :  0.6263291428571428 C :  0.1  degree :  3\n",
            "[LibSVM]test ROC_AUC Score :  0.6080171111111111  Train ROC_AUC Score :  0.6261800408163265 C :  0.1  degree :  4\n",
            "[LibSVM]test ROC_AUC Score :  0.9137706666666668  Train ROC_AUC Score :  0.9974432653061225 C :  1  degree :  3\n",
            "[LibSVM]test ROC_AUC Score :  0.9137746666666667  Train ROC_AUC Score :  0.9974434285714286 C :  1  degree :  4\n",
            "[LibSVM]test ROC_AUC Score :  0.905340888888889  Train ROC_AUC Score :  0.9998622857142857 C :  10  degree :  3\n",
            "[LibSVM]test ROC_AUC Score :  0.9053515555555557  Train ROC_AUC Score :  0.9998623673469387 C :  10  degree :  4\n",
            "[LibSVM]test ROC_AUC Score :  0.8747957777777777  Train ROC_AUC Score :  0.999999836734694 C :  100  degree :  3\n",
            "[LibSVM]test ROC_AUC Score :  0.8748053333333334  Train ROC_AUC Score :  0.999999836734694 C :  100  degree :  4\n"
          ],
          "name": "stdout"
        }
      ]
    },
    {
      "cell_type": "code",
      "metadata": {
        "colab": {
          "base_uri": "https://localhost:8080/"
        },
        "id": "FXIZbsUN1z5O",
        "outputId": "46c21b04-5c3a-4dd7-9c19-c9dbcaf91771"
      },
      "source": [
        "# Hyperparameter tuning :\r\n",
        "degree = [3, 4]\r\n",
        "C = [0.00001, 0.00005, 0.0001, 0.001, 0.01, 0.1, 1, 10, 100]\r\n",
        "test_scores = []\r\n",
        "train_scores = []\r\n",
        "i = 0\r\n",
        "for alpha in C:\r\n",
        "    for p in degree:\r\n",
        "        clf = SVC(C=alpha, kernel='rbf',  degree=p, probability=True, verbose=10)\r\n",
        "        clf.fit(tf_train, y_train)\r\n",
        "        scores = roc_auc_score(y_true=np.array(y_test), y_score=clf.predict_proba(tf_test)[:,1])\r\n",
        "        test_scores.append(scores)\r\n",
        "        scores = roc_auc_score(y_true=np.array(y_train), y_score=clf.predict_proba(tf_train)[:,1])\r\n",
        "        train_scores.append(scores)\r\n",
        "        print('Test ROC_AUC Score : ', test_scores[i], \" Train ROC_AUC Score : \", train_scores[i], \"C : \", alpha, \" degree : \", p)\r\n",
        "        i += 1"
      ],
      "execution_count": null,
      "outputs": [
        {
          "output_type": "stream",
          "text": [
            "[LibSVM]Test ROC_AUC Score :  0.5  Train ROC_AUC Score :  0.5 C :  1e-05  degree :  3\n",
            "[LibSVM]Test ROC_AUC Score :  0.5  Train ROC_AUC Score :  0.5 C :  1e-05  degree :  4\n",
            "[LibSVM]Test ROC_AUC Score :  0.5  Train ROC_AUC Score :  0.5 C :  5e-05  degree :  3\n",
            "[LibSVM]Test ROC_AUC Score :  0.5  Train ROC_AUC Score :  0.5 C :  5e-05  degree :  4\n",
            "[LibSVM]Test ROC_AUC Score :  0.5  Train ROC_AUC Score :  0.5 C :  0.0001  degree :  3\n",
            "[LibSVM]Test ROC_AUC Score :  0.5  Train ROC_AUC Score :  0.5 C :  0.0001  degree :  4\n",
            "[LibSVM]Test ROC_AUC Score :  0.5  Train ROC_AUC Score :  0.5 C :  0.001  degree :  3\n",
            "[LibSVM]Test ROC_AUC Score :  0.5  Train ROC_AUC Score :  0.5 C :  0.001  degree :  4\n",
            "[LibSVM]Test ROC_AUC Score :  0.49865933333333334  Train ROC_AUC Score :  0.49069999999999997 C :  0.01  degree :  3\n",
            "[LibSVM]Test ROC_AUC Score :  0.48752177777777783  Train ROC_AUC Score :  0.44576538775510205 C :  0.01  degree :  4\n",
            "[LibSVM]Test ROC_AUC Score :  0.5240262222222223  Train ROC_AUC Score :  0.6181162448979591 C :  0.1  degree :  3\n",
            "[LibSVM]Test ROC_AUC Score :  0.5243991111111111  Train ROC_AUC Score :  0.6181868571428573 C :  0.1  degree :  4\n",
            "[LibSVM]Test ROC_AUC Score :  0.7753451111111112  Train ROC_AUC Score :  1.0 C :  1  degree :  3\n",
            "[LibSVM]Test ROC_AUC Score :  0.7753413333333333  Train ROC_AUC Score :  1.0 C :  1  degree :  4\n",
            "[LibSVM]Test ROC_AUC Score :  0.9284088888888887  Train ROC_AUC Score :  1.0 C :  10  degree :  3\n",
            "[LibSVM]Test ROC_AUC Score :  0.9284075555555555  Train ROC_AUC Score :  1.0 C :  10  degree :  4\n",
            "[LibSVM]Test ROC_AUC Score :  0.9284088888888888  Train ROC_AUC Score :  1.0 C :  100  degree :  3\n",
            "[LibSVM]Test ROC_AUC Score :  0.9284093333333333  Train ROC_AUC Score :  1.0 C :  100  degree :  4\n"
          ],
          "name": "stdout"
        }
      ]
    },
    {
      "cell_type": "code",
      "metadata": {
        "colab": {
          "base_uri": "https://localhost:8080/"
        },
        "id": "PtAI1J0C284e",
        "outputId": "c261095f-c6dd-4ead-c84f-81636e372d4f"
      },
      "source": [
        "# Hyperparameter tuning :\r\n",
        "degree = [3, 4]\r\n",
        "C = [0.00001, 0.00005, 0.0001, 0.001, 0.01, 0.1, 1, 10, 100]\r\n",
        "test_scores = []\r\n",
        "train_scores = []\r\n",
        "i = 0\r\n",
        "for alpha in C:\r\n",
        "    for p in degree:\r\n",
        "        clf = SVC(C=alpha, kernel='rbf',  degree=p, probability=True, verbose=10)\r\n",
        "        clf.fit(train_avgw2v, y_train)\r\n",
        "        scores = roc_auc_score(y_true=np.array(y_test), y_score=clf.predict_proba(test_avgw2v)[:,1])\r\n",
        "        test_scores.append(scores)\r\n",
        "        scores = roc_auc_score(y_true=np.array(y_train), y_score=clf.predict_proba(train_avgw2v)[:,1])\r\n",
        "        train_scores.append(scores)\r\n",
        "        print(\"test ROC_AUC Score : \", test_scores[i], \" Train ROC_AUC Score : \", train_scores[i], \"C : \", alpha, \" degree : \", p)\r\n",
        "        i += 1"
      ],
      "execution_count": null,
      "outputs": [
        {
          "output_type": "stream",
          "text": [
            "[LibSVM]test ROC_AUC Score :  0.5  Train ROC_AUC Score :  0.5 C :  1e-05  degree :  3\n",
            "[LibSVM]test ROC_AUC Score :  0.5  Train ROC_AUC Score :  0.5 C :  1e-05  degree :  4\n",
            "[LibSVM]test ROC_AUC Score :  0.5  Train ROC_AUC Score :  0.5 C :  5e-05  degree :  3\n",
            "[LibSVM]test ROC_AUC Score :  0.5  Train ROC_AUC Score :  0.5 C :  5e-05  degree :  4\n",
            "[LibSVM]test ROC_AUC Score :  0.5  Train ROC_AUC Score :  0.5 C :  0.0001  degree :  3\n",
            "[LibSVM]test ROC_AUC Score :  0.5  Train ROC_AUC Score :  0.5 C :  0.0001  degree :  4\n",
            "[LibSVM]test ROC_AUC Score :  0.5365764444444444  Train ROC_AUC Score :  0.5374595918367346 C :  0.001  degree :  3\n",
            "[LibSVM]test ROC_AUC Score :  0.5883482222222223  Train ROC_AUC Score :  0.5879320408163264 C :  0.001  degree :  4\n",
            "[LibSVM]test ROC_AUC Score :  0.8134222222222223  Train ROC_AUC Score :  0.8060725714285715 C :  0.01  degree :  3\n",
            "[LibSVM]test ROC_AUC Score :  0.8134071111111111  Train ROC_AUC Score :  0.8060894693877552 C :  0.01  degree :  4\n",
            "[LibSVM]test ROC_AUC Score :  0.8481644444444445  Train ROC_AUC Score :  0.8505398367346939 C :  0.1  degree :  3\n",
            "[LibSVM]test ROC_AUC Score :  0.8481622222222223  Train ROC_AUC Score :  0.8505420408163265 C :  0.1  degree :  4\n",
            "[LibSVM]test ROC_AUC Score :  0.867427111111111  Train ROC_AUC Score :  0.9022351020408164 C :  1  degree :  3\n",
            "[LibSVM]test ROC_AUC Score :  0.8674239999999999  Train ROC_AUC Score :  0.9022418775510204 C :  1  degree :  4\n",
            "[LibSVM]test ROC_AUC Score :  0.8570955555555556  Train ROC_AUC Score :  0.9618942857142856 C :  10  degree :  3\n",
            "[LibSVM]test ROC_AUC Score :  0.8571082222222223  Train ROC_AUC Score :  0.961896244897959 C :  10  degree :  4\n",
            "[LibSVM]test ROC_AUC Score :  0.8202537777777777  Train ROC_AUC Score :  0.9945624489795919 C :  100  degree :  3\n",
            "[LibSVM]test ROC_AUC Score :  0.8202953333333334  Train ROC_AUC Score :  0.9945622448979593 C :  100  degree :  4\n"
          ],
          "name": "stdout"
        }
      ]
    },
    {
      "cell_type": "code",
      "metadata": {
        "colab": {
          "base_uri": "https://localhost:8080/"
        },
        "id": "1ZzxXx7NP1Yn",
        "outputId": "8c5379df-504e-4588-db43-f62663bc2c6e"
      },
      "source": [
        "model=SVC(C=1,degree=4,kernel='rbf',probability=True)\r\n",
        "model.fit(bow_train,y_train)"
      ],
      "execution_count": null,
      "outputs": [
        {
          "output_type": "execute_result",
          "data": {
            "text/plain": [
              "SVC(C=1, break_ties=False, cache_size=200, class_weight=None, coef0=0.0,\n",
              "    decision_function_shape='ovr', degree=4, gamma='scale', kernel='rbf',\n",
              "    max_iter=-1, probability=True, random_state=None, shrinking=True, tol=0.001,\n",
              "    verbose=False)"
            ]
          },
          "metadata": {
            "tags": []
          },
          "execution_count": 88
        }
      ]
    },
    {
      "cell_type": "markdown",
      "metadata": {
        "id": "aS5BN-X6QPzF"
      },
      "source": [
        "**# Test Metrics**"
      ]
    },
    {
      "cell_type": "code",
      "metadata": {
        "colab": {
          "base_uri": "https://localhost:8080/"
        },
        "id": "Z3AvGV4bQOhw",
        "outputId": "746e0b70-86ac-4d3e-d793-619e80f5b822"
      },
      "source": [
        "ypred=model.predict_proba(bow_test)[:,1]\r\n",
        "pred=model.predict(bow_test)\r\n",
        "roc_auc_score(y_test,ypred)"
      ],
      "execution_count": null,
      "outputs": [
        {
          "output_type": "execute_result",
          "data": {
            "text/plain": [
              "0.91377"
            ]
          },
          "metadata": {
            "tags": []
          },
          "execution_count": 89
        }
      ]
    },
    {
      "cell_type": "code",
      "metadata": {
        "colab": {
          "base_uri": "https://localhost:8080/",
          "height": 312
        },
        "id": "KRqobK7EQujC",
        "outputId": "a1195dc1-a95c-482b-d9fd-4cc23786ebb9"
      },
      "source": [
        "#confusion  matrix\r\n",
        "\r\n",
        "skplt.metrics.plot_confusion_matrix(y_test,pred)"
      ],
      "execution_count": null,
      "outputs": [
        {
          "output_type": "execute_result",
          "data": {
            "text/plain": [
              "<matplotlib.axes._subplots.AxesSubplot at 0x7f9f85cf82e8>"
            ]
          },
          "metadata": {
            "tags": []
          },
          "execution_count": 90
        },
        {
          "output_type": "display_data",
          "data": {
            "image/png": "[encoded data removed]",
            "text/plain": [
              "<Figure size 432x288 with 2 Axes>"
            ]
          },
          "metadata": {
            "tags": []
          }
        }
      ]
    },
    {
      "cell_type": "code",
      "metadata": {
        "colab": {
          "background_save": true
        },
        "id": "t6sUmnnbTy6H",
        "outputId": "3442bace-d143-4d72-cad0-f4e9a8c0bcd5"
      },
      "source": [
        "#TF idf\r\n",
        "model1=SVC(C=10,degree=4,kernel='rbf',probability=True)\r\n",
        "model1.fit(tf_train,y_train)"
      ],
      "execution_count": null,
      "outputs": [
        {
          "output_type": "execute_result",
          "data": {
            "text/plain": [
              "SVC(C=10, break_ties=False, cache_size=200, class_weight=None, coef0=0.0,\n",
              "    decision_function_shape='ovr', degree=4, gamma='scale', kernel='rbf',\n",
              "    max_iter=-1, probability=True, random_state=None, shrinking=True, tol=0.001,\n",
              "    verbose=False)"
            ]
          },
          "metadata": {
            "tags": []
          },
          "execution_count": 0
        }
      ]
    },
    {
      "cell_type": "code",
      "metadata": {
        "colab": {
          "base_uri": "https://localhost:8080/"
        },
        "id": "nKWYGdIXT34f",
        "outputId": "ec83f03b-1096-44d4-961e-4d835c74e40a"
      },
      "source": [
        "ypred= model1.predict_proba(tf_test)[:,1]\r\n",
        "pred=model1.predict(tf_test)\r\n",
        "roc_auc_score(y_test,ypred)"
      ],
      "execution_count": 97,
      "outputs": [
        {
          "output_type": "execute_result",
          "data": {
            "text/plain": [
              "0.9284053333333334"
            ]
          },
          "metadata": {
            "tags": []
          },
          "execution_count": 97
        }
      ]
    },
    {
      "cell_type": "code",
      "metadata": {
        "id": "fy3CLI_0SBEw",
        "colab": {
          "base_uri": "https://localhost:8080/",
          "height": 312
        },
        "outputId": "3c18646c-b04f-425d-86f2-e65cbddc7a48"
      },
      "source": [
        "#confusion matrix\r\n",
        "skplt.metrics.plot_confusion_matrix(y_test,pred)"
      ],
      "execution_count": 98,
      "outputs": [
        {
          "output_type": "execute_result",
          "data": {
            "text/plain": [
              "<matplotlib.axes._subplots.AxesSubplot at 0x7f9f852156a0>"
            ]
          },
          "metadata": {
            "tags": []
          },
          "execution_count": 98
        },
        {
          "output_type": "display_data",
          "data": {
            "image/png": "[encoded data removed]",
            "text/plain": [
              "<Figure size 432x288 with 2 Axes>"
            ]
          },
          "metadata": {
            "tags": [],
            "needs_background": "light"
          }
        }
      ]
    },
    {
      "cell_type": "code",
      "metadata": {
        "colab": {
          "base_uri": "https://localhost:8080/"
        },
        "id": "fPFJySS_ZLd3",
        "outputId": "7576b4e3-7851-43db-cbf6-b1a4b9e7099c"
      },
      "source": [
        "model2=SVC(C=1,degree=3,kernel='rbf',probability=True)\r\n",
        "model2.fit(train_avgw2v,y_train)"
      ],
      "execution_count": 99,
      "outputs": [
        {
          "output_type": "execute_result",
          "data": {
            "text/plain": [
              "SVC(C=1, break_ties=False, cache_size=200, class_weight=None, coef0=0.0,\n",
              "    decision_function_shape='ovr', degree=3, gamma='scale', kernel='rbf',\n",
              "    max_iter=-1, probability=True, random_state=None, shrinking=True, tol=0.001,\n",
              "    verbose=False)"
            ]
          },
          "metadata": {
            "tags": []
          },
          "execution_count": 99
        }
      ]
    },
    {
      "cell_type": "code",
      "metadata": {
        "colab": {
          "base_uri": "https://localhost:8080/"
        },
        "id": "RArbJ_v-ZcoH",
        "outputId": "e0699a1e-12c0-474c-d50a-37fe614db2bc"
      },
      "source": [
        "ypred= model2.predict_proba(test_avgw2v)[:,1]\r\n",
        "pred=model2.predict(test_avgw2v)\r\n",
        "roc_auc_score(y_test,ypred)"
      ],
      "execution_count": 102,
      "outputs": [
        {
          "output_type": "execute_result",
          "data": {
            "text/plain": [
              "0.8674208888888888"
            ]
          },
          "metadata": {
            "tags": []
          },
          "execution_count": 102
        }
      ]
    },
    {
      "cell_type": "code",
      "metadata": {
        "colab": {
          "base_uri": "https://localhost:8080/",
          "height": 312
        },
        "id": "mR0tyrEtZxfy",
        "outputId": "2dd59e44-ec0f-465c-c3c6-d0880656540d"
      },
      "source": [
        "skplt.metrics.plot_confusion_matrix(y_test,pred)"
      ],
      "execution_count": 103,
      "outputs": [
        {
          "output_type": "execute_result",
          "data": {
            "text/plain": [
              "<matplotlib.axes._subplots.AxesSubplot at 0x7f9f855032e8>"
            ]
          },
          "metadata": {
            "tags": []
          },
          "execution_count": 103
        },
        {
          "output_type": "display_data",
          "data": {
            "image/png": "[encoded data removed]",
            "text/plain": [
              "<Figure size 432x288 with 2 Axes>"
            ]
          },
          "metadata": {
            "tags": [],
            "needs_background": "light"
          }
        }
      ]
    },
    {
      "cell_type": "code",
      "metadata": {
        "colab": {
          "base_uri": "https://localhost:8080/"
        },
        "id": "ephMrqzlZ_ch",
        "outputId": "7646fb20-ce1e-413d-8eac-5b68a2f42e19"
      },
      "source": [
        "from prettytable import PrettyTable\r\n",
        "x= PrettyTable()\r\n",
        "x.field_names=['Featurization','Hyperparameter(alpha)','Train AUC',' Test AUC','Penalty']\r\n",
        "x.add_row(['BOW Lineal svm',1,89.42,91.94,'L2'])\r\n",
        "x.add_row(['BOW Lineal svm',0.001,84.96,90.40,'L1'])\r\n",
        "x.add_row(['TFIDF Lineal svm',1,86.48,91.79,'L2'])\r\n",
        "x.add_row(['TFIDF Lineal svm',0.01,70.48,42.35,'L1'])\r\n",
        "x.add_row(['avgw2v Lineal svm',0.0001,79.42,85.49,'L2'])\r\n",
        "x.add_row(['avgw2v Lineal svm',0.001,78.10,86.32,'L1'])\r\n",
        "print(x)"
      ],
      "execution_count": 106,
      "outputs": [
        {
          "output_type": "stream",
          "text": [
            "+-------------------+-----------------------+-----------+-----------+---------+\n",
            "|   Featurization   | Hyperparameter(alpha) | Train AUC |  Test AUC | Penalty |\n",
            "+-------------------+-----------------------+-----------+-----------+---------+\n",
            "|   BOW Lineal svm  |           1           |   89.42   |   91.94   |    L2   |\n",
            "|   BOW Lineal svm  |         0.001         |   84.96   |    90.4   |    L1   |\n",
            "|  TFIDF Lineal svm |           1           |   86.48   |   91.79   |    L2   |\n",
            "|  TFIDF Lineal svm |          0.01         |   70.48   |   42.35   |    L1   |\n",
            "| avgw2v Lineal svm |         0.0001        |   79.42   |   85.49   |    L2   |\n",
            "| avgw2v Lineal svm |         0.001         |    78.1   |   86.32   |    L1   |\n",
            "+-------------------+-----------------------+-----------+-----------+---------+\n"
          ],
          "name": "stdout"
        }
      ]
    },
    {
      "cell_type": "markdown",
      "metadata": {
        "id": "h02237jOfoX6"
      },
      "source": [
        "# **Results**"
      ]
    },
    {
      "cell_type": "code",
      "metadata": {
        "colab": {
          "base_uri": "https://localhost:8080/"
        },
        "id": "VTJS4BSteRA1",
        "outputId": "361111d6-8213-4bac-d69b-56cfb2313d83"
      },
      "source": [
        "from prettytable import PrettyTable\r\n",
        "x= PrettyTable()\r\n",
        "x.field_names=['Featurization','Hyperparameter(alpha)','Train AUC',' Test AUC','Penalty','degree']\r\n",
        "x.add_row(['BOW Kernal svm',1,89.42,91.37,'L2',4])\r\n",
        "\r\n",
        "x.add_row(['TFIDF kernel svm',10,89.52,92.81,'L2',4])\r\n",
        "\r\n",
        "x.add_row(['avgw2v kernal svm',1,81.24,856.79,'L2',3])\r\n",
        "\r\n",
        "print(x)"
      ],
      "execution_count": 108,
      "outputs": [
        {
          "output_type": "stream",
          "text": [
            "+-------------------+-----------------------+-----------+-----------+---------+--------+\n",
            "|   Featurization   | Hyperparameter(alpha) | Train AUC |  Test AUC | Penalty | degree |\n",
            "+-------------------+-----------------------+-----------+-----------+---------+--------+\n",
            "|   BOW Kernal svm  |           1           |   89.42   |   91.37   |    L2   |   4    |\n",
            "|  TFIDF kernel svm |           10          |   89.52   |   92.81   |    L2   |   4    |\n",
            "| avgw2v kernal svm |           1           |   81.24   |   856.79  |    L2   |   3    |\n",
            "+-------------------+-----------------------+-----------+-----------+---------+--------+\n"
          ],
          "name": "stdout"
        }
      ]
    },
    {
      "cell_type": "code",
      "metadata": {
        "id": "8-1_qfcqeFpE"
      },
      "source": [
        ""
      ],
      "execution_count": null,
      "outputs": []
    }
  ]
}